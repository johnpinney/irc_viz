{
 "cells": [
  {
   "cell_type": "markdown",
   "metadata": {},
   "source": [
    "# Data exploration basics with pandas"
   ]
  },
  {
   "cell_type": "markdown",
   "metadata": {},
   "source": [
    "[*John Pinney*](https://github.com/johnpinney)"
   ]
  },
  {
   "cell_type": "markdown",
   "metadata": {},
   "source": [
    "In this session, we will introduce you to some useful elements of the `pandas` package for working with and presenting tabular data.\n"
   ]
  },
  {
   "cell_type": "markdown",
   "metadata": {},
   "source": [
    "### Import pandas (and matplotlib)"
   ]
  },
  {
   "cell_type": "code",
   "execution_count": 1,
   "metadata": {},
   "outputs": [],
   "source": [
    "import pandas as pd\n",
    "import matplotlib.pyplot as plt"
   ]
  },
  {
   "cell_type": "markdown",
   "metadata": {},
   "source": [
    "---\n",
    "## 1. Getting started"
   ]
  },
  {
   "cell_type": "markdown",
   "metadata": {},
   "source": [
    "### Load some data from a CSV file: `read_csv()`\n",
    "\n",
    "[CSV (comma-separated values)](https://en.wikipedia.org/wiki/Comma-separated_values)  is a simple plain-text format for tabular data. It is easy to export CSV files from spreadsheets such as Excel, which can then be imported by many other software packages.\n",
    "\n",
    "We will work with the file `happiness_2015.csv`, which contains data from the third World Happiness Report (see more details [here](https://www.openml.org/search?type=data&status=active&id=40916))."
   ]
  },
  {
   "cell_type": "markdown",
   "metadata": {},
   "source": [
    "The data is returned as a special object called a *[DataFrame](https://pandas.pydata.org/docs/user_guide/dsintro.html#dataframe)*."
   ]
  },
  {
   "cell_type": "code",
   "execution_count": 2,
   "metadata": {},
   "outputs": [],
   "source": [
    "data = pd.read_csv('https://raw.githubusercontent.com/johnpinney/irc_viz/main/happiness_2015.csv')"
   ]
  },
  {
   "cell_type": "markdown",
   "metadata": {},
   "source": [
    "### Look at the top of the table: `head()`\n",
    "\n",
    "The *method* `head()` gives us the first *n* rows of the table."
   ]
  },
  {
   "cell_type": "code",
   "execution_count": 3,
   "metadata": {},
   "outputs": [
    {
     "data": {
      "text/html": [
       "<div>\n",
       "<style scoped>\n",
       "    .dataframe tbody tr th:only-of-type {\n",
       "        vertical-align: middle;\n",
       "    }\n",
       "\n",
       "    .dataframe tbody tr th {\n",
       "        vertical-align: top;\n",
       "    }\n",
       "\n",
       "    .dataframe thead th {\n",
       "        text-align: right;\n",
       "    }\n",
       "</style>\n",
       "<table border=\"1\" class=\"dataframe\">\n",
       "  <thead>\n",
       "    <tr style=\"text-align: right;\">\n",
       "      <th></th>\n",
       "      <th>Country</th>\n",
       "      <th>Region</th>\n",
       "      <th>Happiness Rank</th>\n",
       "      <th>Happiness Score</th>\n",
       "      <th>Standard Error</th>\n",
       "      <th>Economy (GDP per Capita)</th>\n",
       "      <th>Family</th>\n",
       "      <th>Health (Life Expectancy)</th>\n",
       "      <th>Freedom</th>\n",
       "      <th>Trust (Government Corruption)</th>\n",
       "      <th>Generosity</th>\n",
       "      <th>Dystopia Residual</th>\n",
       "    </tr>\n",
       "  </thead>\n",
       "  <tbody>\n",
       "    <tr>\n",
       "      <th>0</th>\n",
       "      <td>Switzerland</td>\n",
       "      <td>Western Europe</td>\n",
       "      <td>1</td>\n",
       "      <td>7.587</td>\n",
       "      <td>0.03411</td>\n",
       "      <td>1.39651</td>\n",
       "      <td>1.34951</td>\n",
       "      <td>0.94143</td>\n",
       "      <td>0.66557</td>\n",
       "      <td>0.41978</td>\n",
       "      <td>0.29678</td>\n",
       "      <td>2.51738</td>\n",
       "    </tr>\n",
       "    <tr>\n",
       "      <th>1</th>\n",
       "      <td>Iceland</td>\n",
       "      <td>Western Europe</td>\n",
       "      <td>2</td>\n",
       "      <td>7.561</td>\n",
       "      <td>0.04884</td>\n",
       "      <td>1.30232</td>\n",
       "      <td>1.40223</td>\n",
       "      <td>0.94784</td>\n",
       "      <td>0.62877</td>\n",
       "      <td>0.14145</td>\n",
       "      <td>0.43630</td>\n",
       "      <td>2.70201</td>\n",
       "    </tr>\n",
       "    <tr>\n",
       "      <th>2</th>\n",
       "      <td>Denmark</td>\n",
       "      <td>Western Europe</td>\n",
       "      <td>3</td>\n",
       "      <td>7.527</td>\n",
       "      <td>0.03328</td>\n",
       "      <td>1.32548</td>\n",
       "      <td>1.36058</td>\n",
       "      <td>0.87464</td>\n",
       "      <td>0.64938</td>\n",
       "      <td>0.48357</td>\n",
       "      <td>0.34139</td>\n",
       "      <td>2.49204</td>\n",
       "    </tr>\n",
       "    <tr>\n",
       "      <th>3</th>\n",
       "      <td>Norway</td>\n",
       "      <td>Western Europe</td>\n",
       "      <td>4</td>\n",
       "      <td>7.522</td>\n",
       "      <td>0.03880</td>\n",
       "      <td>1.45900</td>\n",
       "      <td>1.33095</td>\n",
       "      <td>0.88521</td>\n",
       "      <td>0.66973</td>\n",
       "      <td>0.36503</td>\n",
       "      <td>0.34699</td>\n",
       "      <td>2.46531</td>\n",
       "    </tr>\n",
       "    <tr>\n",
       "      <th>4</th>\n",
       "      <td>Canada</td>\n",
       "      <td>North America</td>\n",
       "      <td>5</td>\n",
       "      <td>7.427</td>\n",
       "      <td>0.03553</td>\n",
       "      <td>1.32629</td>\n",
       "      <td>1.32261</td>\n",
       "      <td>0.90563</td>\n",
       "      <td>0.63297</td>\n",
       "      <td>0.32957</td>\n",
       "      <td>0.45811</td>\n",
       "      <td>2.45176</td>\n",
       "    </tr>\n",
       "  </tbody>\n",
       "</table>\n",
       "</div>"
      ],
      "text/plain": [
       "       Country          Region  Happiness Rank  Happiness Score  \\\n",
       "0  Switzerland  Western Europe               1            7.587   \n",
       "1      Iceland  Western Europe               2            7.561   \n",
       "2      Denmark  Western Europe               3            7.527   \n",
       "3       Norway  Western Europe               4            7.522   \n",
       "4       Canada   North America               5            7.427   \n",
       "\n",
       "   Standard Error  Economy (GDP per Capita)   Family  \\\n",
       "0         0.03411                   1.39651  1.34951   \n",
       "1         0.04884                   1.30232  1.40223   \n",
       "2         0.03328                   1.32548  1.36058   \n",
       "3         0.03880                   1.45900  1.33095   \n",
       "4         0.03553                   1.32629  1.32261   \n",
       "\n",
       "   Health (Life Expectancy)  Freedom  Trust (Government Corruption)  \\\n",
       "0                   0.94143  0.66557                        0.41978   \n",
       "1                   0.94784  0.62877                        0.14145   \n",
       "2                   0.87464  0.64938                        0.48357   \n",
       "3                   0.88521  0.66973                        0.36503   \n",
       "4                   0.90563  0.63297                        0.32957   \n",
       "\n",
       "   Generosity  Dystopia Residual  \n",
       "0     0.29678            2.51738  \n",
       "1     0.43630            2.70201  \n",
       "2     0.34139            2.49204  \n",
       "3     0.34699            2.46531  \n",
       "4     0.45811            2.45176  "
      ]
     },
     "execution_count": 3,
     "metadata": {},
     "output_type": "execute_result"
    }
   ],
   "source": [
    "data.head(5)"
   ]
  },
  {
   "cell_type": "markdown",
   "metadata": {},
   "source": [
    "We can see that the data points (or *instances*) are shown as rows in the table, while each *variable* in the data set corresponds to a named columns.\n",
    "\n",
    "Variables may have different data types - this is one reason why we need special data handling tools like pandas rather than trying to do all operations with *numpy* arrays."
   ]
  },
  {
   "cell_type": "markdown",
   "metadata": {},
   "source": [
    "### Get the dimensions of the table: `shape`\n",
    "\n",
    "The *attribute* [`shape`](https://pandas.pydata.org/pandas-docs/stable/reference/api/pandas.DataFrame.shape.html) holds the dimensions of the DataFrame as (#rows, #columns) :"
   ]
  },
  {
   "cell_type": "code",
   "execution_count": 4,
   "metadata": {},
   "outputs": [
    {
     "data": {
      "text/plain": [
       "(158, 12)"
      ]
     },
     "execution_count": 4,
     "metadata": {},
     "output_type": "execute_result"
    }
   ],
   "source": [
    "data.shape"
   ]
  },
  {
   "cell_type": "markdown",
   "metadata": {},
   "source": [
    "Pandas objects have many methods and attributes, which you can find listed in the [API reference](https://pandas.pydata.org/docs/reference/index.html). \n",
    "\n",
    "Remember that methods are like functions attached to an object (so can take arguments inside the parentheses), whilst attributes are like variables attached to the object (properties that can be examined)."
   ]
  },
  {
   "cell_type": "markdown",
   "metadata": {},
   "source": [
    "### Check for missing data: `count()`\n",
    "Are there any missing values in this data set? \n",
    "\n",
    "We can easily check how many non-missing (i.e. non-NA/null) values there are in each column of the DataFrame."
   ]
  },
  {
   "cell_type": "code",
   "execution_count": 5,
   "metadata": {},
   "outputs": [
    {
     "data": {
      "text/plain": [
       "Country                          158\n",
       "Region                           158\n",
       "Happiness Rank                   158\n",
       "Happiness Score                  158\n",
       "Standard Error                   158\n",
       "Economy (GDP per Capita)         158\n",
       "Family                           158\n",
       "Health (Life Expectancy)         158\n",
       "Freedom                          158\n",
       "Trust (Government Corruption)    158\n",
       "Generosity                       158\n",
       "Dystopia Residual                158\n",
       "dtype: int64"
      ]
     },
     "execution_count": 5,
     "metadata": {},
     "output_type": "execute_result"
    }
   ],
   "source": [
    "data.count()"
   ]
  },
  {
   "cell_type": "markdown",
   "metadata": {},
   "source": [
    "---\n",
    "## 2. Exploring the data"
   ]
  },
  {
   "cell_type": "markdown",
   "metadata": {},
   "source": [
    "Let's make a bar chart for the number of countries in each region. Pandas plots are (by default) constructed using [matplotlib](https://matplotlib.org/stable/plot_types/index.html)."
   ]
  },
  {
   "cell_type": "markdown",
   "metadata": {},
   "source": [
    "### Extract a single column: `[]`\n",
    "\n",
    "Firstly, we will need to extract just the **Region** column. This is returned in the form of a pandas *[Series](https://pandas.pydata.org/docs/user_guide/dsintro.html#series)* object"
   ]
  },
  {
   "cell_type": "code",
   "execution_count": 6,
   "metadata": {},
   "outputs": [
    {
     "data": {
      "text/plain": [
       "0                       Western Europe\n",
       "1                       Western Europe\n",
       "2                       Western Europe\n",
       "3                       Western Europe\n",
       "4                        North America\n",
       "                    ...               \n",
       "153                 Sub-Saharan Africa\n",
       "154                 Sub-Saharan Africa\n",
       "155    Middle East and Northern Africa\n",
       "156                 Sub-Saharan Africa\n",
       "157                 Sub-Saharan Africa\n",
       "Name: Region, Length: 158, dtype: object"
      ]
     },
     "execution_count": 6,
     "metadata": {},
     "output_type": "execute_result"
    }
   ],
   "source": [
    "data['Region']"
   ]
  },
  {
   "cell_type": "markdown",
   "metadata": {},
   "source": [
    "### Find the unique values: `unique()`\n",
    "As an aside, if we just need to know the full set of unique values used in a particular column, we can use the `unique()` method."
   ]
  },
  {
   "cell_type": "code",
   "execution_count": 7,
   "metadata": {},
   "outputs": [
    {
     "data": {
      "text/plain": [
       "array(['Western Europe', 'North America', 'Australia and New Zealand',\n",
       "       'Middle East and Northern Africa', 'Latin America and Caribbean',\n",
       "       'Southeastern Asia', 'Central and Eastern Europe', 'Eastern Asia',\n",
       "       'Sub-Saharan Africa', 'Southern Asia'], dtype=object)"
      ]
     },
     "execution_count": 7,
     "metadata": {},
     "output_type": "execute_result"
    }
   ],
   "source": [
    "data['Region'].unique()"
   ]
  },
  {
   "cell_type": "code",
   "execution_count": 8,
   "metadata": {},
   "outputs": [
    {
     "data": {
      "text/plain": [
       "10"
      ]
     },
     "execution_count": 8,
     "metadata": {},
     "output_type": "execute_result"
    }
   ],
   "source": [
    "len(data['Region'].unique())"
   ]
  },
  {
   "cell_type": "markdown",
   "metadata": {},
   "source": [
    "### Make a frequency table: `value_counts()`\n",
    "Next, we need to count the frequency of each value observed in this Series - this is done with the method `value_counts()`."
   ]
  },
  {
   "cell_type": "code",
   "execution_count": 9,
   "metadata": {},
   "outputs": [
    {
     "data": {
      "text/plain": [
       "Sub-Saharan Africa                 40\n",
       "Central and Eastern Europe         29\n",
       "Latin America and Caribbean        22\n",
       "Western Europe                     21\n",
       "Middle East and Northern Africa    20\n",
       "Southeastern Asia                   9\n",
       "Southern Asia                       7\n",
       "Eastern Asia                        6\n",
       "Australia and New Zealand           2\n",
       "North America                       2\n",
       "Name: Region, dtype: int64"
      ]
     },
     "execution_count": 9,
     "metadata": {},
     "output_type": "execute_result"
    }
   ],
   "source": [
    "data['Region'].value_counts()"
   ]
  },
  {
   "cell_type": "markdown",
   "metadata": {},
   "source": [
    "### Make a bar chart: `plot.bar()`\n",
    "Finally, a matplotlib bar chart can be made directly from pandas using the `plot.bar()` method."
   ]
  },
  {
   "cell_type": "markdown",
   "metadata": {},
   "source": [
    "### Rearrange the bars: `sort_index()`\n",
    "By default, the frequency table is in descending frequency order. If we want to sort the groups alphabetically, there is a special method, `sort_index()`."
   ]
  },
  {
   "cell_type": "code",
   "execution_count": 10,
   "metadata": {},
   "outputs": [
    {
     "data": {
      "text/plain": [
       "Australia and New Zealand           2\n",
       "Central and Eastern Europe         29\n",
       "Eastern Asia                        6\n",
       "Latin America and Caribbean        22\n",
       "Middle East and Northern Africa    20\n",
       "North America                       2\n",
       "Southeastern Asia                   9\n",
       "Southern Asia                       7\n",
       "Sub-Saharan Africa                 40\n",
       "Western Europe                     21\n",
       "Name: Region, dtype: int64"
      ]
     },
     "execution_count": 10,
     "metadata": {},
     "output_type": "execute_result"
    }
   ],
   "source": [
    "data['Region'].value_counts().sort_index()"
   ]
  },
  {
   "cell_type": "code",
   "execution_count": 11,
   "metadata": {},
   "outputs": [
    {
     "data": {
      "text/plain": [
       "<AxesSubplot:>"
      ]
     },
     "execution_count": 11,
     "metadata": {},
     "output_type": "execute_result"
    },
    {
     "data": {
      "image/png": "[encoded data removed]",
      "text/plain": [
       "<Figure size 432x288 with 1 Axes>"
      ]
     },
     "metadata": {
      "needs_background": "light"
     },
     "output_type": "display_data"
    }
   ],
   "source": [
    "data['Region'].value_counts().sort_index().plot.bar()"
   ]
  },
  {
   "cell_type": "markdown",
   "metadata": {},
   "source": [
    "We can suppress the matplotlib message by ading `plt.show()` as a final command."
   ]
  },
  {
   "cell_type": "code",
   "execution_count": 12,
   "metadata": {},
   "outputs": [
    {
     "data": {
      "image/png": "[encoded data removed]",
      "text/plain": [
       "<Figure size 432x288 with 1 Axes>"
      ]
     },
     "metadata": {
      "needs_background": "light"
     },
     "output_type": "display_data"
    }
   ],
   "source": [
    "data['Region'].value_counts().sort_index().plot.bar()\n",
    "plt.show()"
   ]
  },
  {
   "cell_type": "markdown",
   "metadata": {},
   "source": [
    "### Change the appearance of the plot\n",
    "Most of the pandas plotting functions accept matplotlib keyword arguments to control the appearance of the plot."
   ]
  },
  {
   "cell_type": "code",
   "execution_count": 13,
   "metadata": {},
   "outputs": [
    {
     "data": {
      "image/png": "[encoded data removed]",
      "text/plain": [
       "<Figure size 432x288 with 1 Axes>"
      ]
     },
     "metadata": {
      "needs_background": "light"
     },
     "output_type": "display_data"
    }
   ],
   "source": [
    "data['Region'].value_counts().sort_index().plot.bar(\n",
    "    color='lightcyan',\n",
    "    edgecolor='black',\n",
    "    title='Countries of the World'\n",
    ")\n",
    "plt.show()"
   ]
  },
  {
   "cell_type": "markdown",
   "metadata": {},
   "source": [
    "### Save the plot: `plt.savefig()`\n",
    "To save the figure as a file, replace `plt.show()` with `plt.savefig()` and provide a filename. The image format is inferred from the file extension.\n",
    "\n",
    "NB in jupyter, `plt.savefig()` must be in the same notebook cell as the code that makes the figure."
   ]
  },
  {
   "cell_type": "code",
   "execution_count": 14,
   "metadata": {},
   "outputs": [
    {
     "data": {
      "image/png": "[encoded data removed]",
      "text/plain": [
       "<Figure size 432x288 with 1 Axes>"
      ]
     },
     "metadata": {
      "needs_background": "light"
     },
     "output_type": "display_data"
    }
   ],
   "source": [
    "data['Region'].value_counts().sort_index().plot.bar(\n",
    "    color='lightcyan',\n",
    "    edgecolor='black',\n",
    "    title='Countries of the World'\n",
    ")\n",
    "plt.savefig('example.png', bbox_inches='tight')\n",
    "# bbox_inches='tight' ensures that the image \n",
    "# will contain the whole figure. Without this,\n",
    "# the rotated labels will be cut off."
   ]
  },
  {
   "cell_type": "markdown",
   "metadata": {},
   "source": [
    "### Exercise 1\n",
    "Of course, a bar chart is not the only kind of [plot](https://pandas.pydata.org/docs/user_guide/visualization.html) we will need.\n",
    "\n",
    "Make a histogram of happiness scores.\n",
    "\n",
    "Change the [colour](https://matplotlib.org/stable/gallery/color/named_colors.html#css-colors) and add a title."
   ]
  },
  {
   "cell_type": "code",
   "execution_count": 15,
   "metadata": {},
   "outputs": [
    {
     "data": {
      "image/png": "[encoded data removed]",
      "text/plain": [
       "<Figure size 432x288 with 1 Axes>"
      ]
     },
     "metadata": {
      "needs_background": "light"
     },
     "output_type": "display_data"
    }
   ],
   "source": [
    "data['Happiness Score'].plot.hist(\n",
    "    color='green',\n",
    "    title='Happiness Score'\n",
    ")\n",
    "plt.show()"
   ]
  },
  {
   "cell_type": "markdown",
   "metadata": {},
   "source": [
    "---\n",
    "## 3. Summarising groups\n",
    "\n",
    "As well as looking at overall distributions, another important aspect of data exploration is to be able to compare different subgroups of the data."
   ]
  },
  {
   "cell_type": "markdown",
   "metadata": {},
   "source": [
    "### Box plot: `boxplot()`\n",
    "Let's look at the happiness distributions across different Regions."
   ]
  },
  {
   "cell_type": "code",
   "execution_count": 16,
   "metadata": {},
   "outputs": [
    {
     "data": {
      "image/png": "[encoded data removed]",
      "text/plain": [
       "<Figure size 432x288 with 1 Axes>"
      ]
     },
     "metadata": {
      "needs_background": "light"
     },
     "output_type": "display_data"
    }
   ],
   "source": [
    "data.boxplot('Happiness Score', by='Region')\n",
    "plt.show()"
   ]
  },
  {
   "cell_type": "markdown",
   "metadata": {},
   "source": [
    "This is looking very messy initially - checking the [API](https://pandas.pydata.org/docs/reference/api/pandas.DataFrame.boxplot.html#pandas.DataFrame.boxplot), we see that we can easily rotate the labels:"
   ]
  },
  {
   "cell_type": "code",
   "execution_count": 17,
   "metadata": {},
   "outputs": [
    {
     "data": {
      "image/png": "[encoded data removed]",
      "text/plain": [
       "<Figure size 432x288 with 1 Axes>"
      ]
     },
     "metadata": {
      "needs_background": "light"
     },
     "output_type": "display_data"
    }
   ],
   "source": [
    "data.boxplot('Happiness Score', by='Region', rot=90)\n",
    "plt.show()"
   ]
  },
  {
   "cell_type": "markdown",
   "metadata": {},
   "source": [
    "Unfortunately, the `boxplot()` method does not pass on additional arguments to matplotlib. Any other changes to the plot appearance must be done by extracting the matplotlib *[Axes](https://matplotlib.org/stable/api/axes_api.html)* object, e.g."
   ]
  },
  {
   "cell_type": "code",
   "execution_count": 18,
   "metadata": {},
   "outputs": [
    {
     "data": {
      "image/png": "[encoded data removed]",
      "text/plain": [
       "<Figure size 432x288 with 1 Axes>"
      ]
     },
     "metadata": {
      "needs_background": "light"
     },
     "output_type": "display_data"
    }
   ],
   "source": [
    "ax = data.boxplot('Happiness Score', by='Region', rot=90)\n",
    "ax.set_title('')\n",
    "ax.set_xlabel('')\n",
    "ax.set_ylabel('Happiness Score')\n",
    "plt.show()"
   ]
  },
  {
   "cell_type": "markdown",
   "metadata": {},
   "source": [
    "### Numerical summaries: `groupby()`\n",
    "Pandas provides many methods for [summary statistics](https://pandas.pydata.org/docs/reference/series.html#computations-descriptive-stats) such as the mean, median or standard deviation of a Series. "
   ]
  },
  {
   "cell_type": "code",
   "execution_count": 19,
   "metadata": {},
   "outputs": [
    {
     "data": {
      "text/plain": [
       "5.2325"
      ]
     },
     "execution_count": 19,
     "metadata": {},
     "output_type": "execute_result"
    }
   ],
   "source": [
    "data['Happiness Score'].median()"
   ]
  },
  {
   "cell_type": "markdown",
   "metadata": {},
   "source": [
    "If we want to calculate a statistic for every group, we will need to apply the `groupby()` method to the DataFrame."
   ]
  },
  {
   "cell_type": "code",
   "execution_count": 20,
   "metadata": {},
   "outputs": [
    {
     "data": {
      "text/plain": [
       "<pandas.core.groupby.generic.DataFrameGroupBy object at 0x7fd2c4331880>"
      ]
     },
     "execution_count": 20,
     "metadata": {},
     "output_type": "execute_result"
    }
   ],
   "source": [
    "data.groupby('Region')"
   ]
  },
  {
   "cell_type": "code",
   "execution_count": 21,
   "metadata": {},
   "outputs": [
    {
     "data": {
      "text/plain": [
       "Region\n",
       "Australia and New Zealand          7.285\n",
       "Central and Eastern Europe         5.286\n",
       "Eastern Asia                       5.729\n",
       "Latin America and Caribbean        6.149\n",
       "Middle East and Northern Africa    5.262\n",
       "North America                      7.273\n",
       "Southeastern Asia                  5.360\n",
       "Southern Asia                      4.565\n",
       "Sub-Saharan Africa                 4.272\n",
       "Western Europe                     6.937\n",
       "Name: Happiness Score, dtype: float64"
      ]
     },
     "execution_count": 21,
     "metadata": {},
     "output_type": "execute_result"
    }
   ],
   "source": [
    "data.groupby('Region')['Happiness Score'].median()"
   ]
  },
  {
   "cell_type": "markdown",
   "metadata": {},
   "source": [
    "### Exercise 2\n",
    "Plot the mean happiness score for each region as a bar chart.\n",
    "\n",
    "Bonus: add [error bars](https://pandas.pydata.org/docs/user_guide/visualization.html#plotting-with-error-bars) to show the standard error of the mean."
   ]
  },
  {
   "cell_type": "code",
   "execution_count": 22,
   "metadata": {},
   "outputs": [
    {
     "data": {
      "image/png": "[encoded data removed]",
      "text/plain": [
       "<Figure size 432x288 with 1 Axes>"
      ]
     },
     "metadata": {
      "needs_background": "light"
     },
     "output_type": "display_data"
    }
   ],
   "source": [
    "mean_happ = data.groupby('Region')['Happiness Score'].mean()\n",
    "\n",
    "se_happ = data.groupby('Region')['Happiness Score'].sem()\n",
    "\n",
    "ax = mean_happ.plot.bar(\n",
    "    yerr=se_happ, \n",
    "    capsize=2 \n",
    ")\n",
    "ax.set_ylabel('Mean Happiness Score')\n",
    "ax.set_xlabel('')\n",
    "plt.show()"
   ]
  },
  {
   "cell_type": "markdown",
   "metadata": {},
   "source": [
    "---\n",
    "## 4. Subsetting data\n",
    "Sometimes we want to work with only a subset of the rows. There are a few different ways to do this in pandas - here are some basic examples:"
   ]
  },
  {
   "cell_type": "markdown",
   "metadata": {},
   "source": [
    "### Get a random sample of data: `sample()`\n",
    "By default, this is random sampling without replacement."
   ]
  },
  {
   "cell_type": "code",
   "execution_count": 23,
   "metadata": {},
   "outputs": [
    {
     "data": {
      "text/html": [
       "<div>\n",
       "<style scoped>\n",
       "    .dataframe tbody tr th:only-of-type {\n",
       "        vertical-align: middle;\n",
       "    }\n",
       "\n",
       "    .dataframe tbody tr th {\n",
       "        vertical-align: top;\n",
       "    }\n",
       "\n",
       "    .dataframe thead th {\n",
       "        text-align: right;\n",
       "    }\n",
       "</style>\n",
       "<table border=\"1\" class=\"dataframe\">\n",
       "  <thead>\n",
       "    <tr style=\"text-align: right;\">\n",
       "      <th></th>\n",
       "      <th>Country</th>\n",
       "      <th>Region</th>\n",
       "      <th>Happiness Rank</th>\n",
       "      <th>Happiness Score</th>\n",
       "      <th>Standard Error</th>\n",
       "      <th>Economy (GDP per Capita)</th>\n",
       "      <th>Family</th>\n",
       "      <th>Health (Life Expectancy)</th>\n",
       "      <th>Freedom</th>\n",
       "      <th>Trust (Government Corruption)</th>\n",
       "      <th>Generosity</th>\n",
       "      <th>Dystopia Residual</th>\n",
       "    </tr>\n",
       "  </thead>\n",
       "  <tbody>\n",
       "    <tr>\n",
       "      <th>7</th>\n",
       "      <td>Sweden</td>\n",
       "      <td>Western Europe</td>\n",
       "      <td>8</td>\n",
       "      <td>7.364</td>\n",
       "      <td>0.03157</td>\n",
       "      <td>1.33171</td>\n",
       "      <td>1.28907</td>\n",
       "      <td>0.91087</td>\n",
       "      <td>0.65980</td>\n",
       "      <td>0.43844</td>\n",
       "      <td>0.36262</td>\n",
       "      <td>2.37119</td>\n",
       "    </tr>\n",
       "    <tr>\n",
       "      <th>9</th>\n",
       "      <td>Australia</td>\n",
       "      <td>Australia and New Zealand</td>\n",
       "      <td>10</td>\n",
       "      <td>7.284</td>\n",
       "      <td>0.04083</td>\n",
       "      <td>1.33358</td>\n",
       "      <td>1.30923</td>\n",
       "      <td>0.93156</td>\n",
       "      <td>0.65124</td>\n",
       "      <td>0.35637</td>\n",
       "      <td>0.43562</td>\n",
       "      <td>2.26646</td>\n",
       "    </tr>\n",
       "    <tr>\n",
       "      <th>52</th>\n",
       "      <td>Paraguay</td>\n",
       "      <td>Latin America and Caribbean</td>\n",
       "      <td>53</td>\n",
       "      <td>5.878</td>\n",
       "      <td>0.04563</td>\n",
       "      <td>0.75985</td>\n",
       "      <td>1.30477</td>\n",
       "      <td>0.66098</td>\n",
       "      <td>0.53899</td>\n",
       "      <td>0.08242</td>\n",
       "      <td>0.34240</td>\n",
       "      <td>2.18896</td>\n",
       "    </tr>\n",
       "    <tr>\n",
       "      <th>15</th>\n",
       "      <td>Brazil</td>\n",
       "      <td>Latin America and Caribbean</td>\n",
       "      <td>16</td>\n",
       "      <td>6.983</td>\n",
       "      <td>0.04076</td>\n",
       "      <td>0.98124</td>\n",
       "      <td>1.23287</td>\n",
       "      <td>0.69702</td>\n",
       "      <td>0.49049</td>\n",
       "      <td>0.17521</td>\n",
       "      <td>0.14574</td>\n",
       "      <td>3.26001</td>\n",
       "    </tr>\n",
       "    <tr>\n",
       "      <th>70</th>\n",
       "      <td>Mauritius</td>\n",
       "      <td>Sub-Saharan Africa</td>\n",
       "      <td>71</td>\n",
       "      <td>5.477</td>\n",
       "      <td>0.07197</td>\n",
       "      <td>1.00761</td>\n",
       "      <td>0.98521</td>\n",
       "      <td>0.70950</td>\n",
       "      <td>0.56066</td>\n",
       "      <td>0.07521</td>\n",
       "      <td>0.37744</td>\n",
       "      <td>1.76145</td>\n",
       "    </tr>\n",
       "    <tr>\n",
       "      <th>87</th>\n",
       "      <td>Portugal</td>\n",
       "      <td>Western Europe</td>\n",
       "      <td>88</td>\n",
       "      <td>5.102</td>\n",
       "      <td>0.04802</td>\n",
       "      <td>1.15991</td>\n",
       "      <td>1.13935</td>\n",
       "      <td>0.87519</td>\n",
       "      <td>0.51469</td>\n",
       "      <td>0.01078</td>\n",
       "      <td>0.13719</td>\n",
       "      <td>1.26462</td>\n",
       "    </tr>\n",
       "    <tr>\n",
       "      <th>152</th>\n",
       "      <td>Afghanistan</td>\n",
       "      <td>Southern Asia</td>\n",
       "      <td>153</td>\n",
       "      <td>3.575</td>\n",
       "      <td>0.03084</td>\n",
       "      <td>0.31982</td>\n",
       "      <td>0.30285</td>\n",
       "      <td>0.30335</td>\n",
       "      <td>0.23414</td>\n",
       "      <td>0.09719</td>\n",
       "      <td>0.36510</td>\n",
       "      <td>1.95210</td>\n",
       "    </tr>\n",
       "    <tr>\n",
       "      <th>93</th>\n",
       "      <td>Mozambique</td>\n",
       "      <td>Sub-Saharan Africa</td>\n",
       "      <td>94</td>\n",
       "      <td>4.971</td>\n",
       "      <td>0.07896</td>\n",
       "      <td>0.08308</td>\n",
       "      <td>1.02626</td>\n",
       "      <td>0.09131</td>\n",
       "      <td>0.34037</td>\n",
       "      <td>0.15603</td>\n",
       "      <td>0.22269</td>\n",
       "      <td>3.05137</td>\n",
       "    </tr>\n",
       "    <tr>\n",
       "      <th>122</th>\n",
       "      <td>Sierra Leone</td>\n",
       "      <td>Sub-Saharan Africa</td>\n",
       "      <td>123</td>\n",
       "      <td>4.507</td>\n",
       "      <td>0.07068</td>\n",
       "      <td>0.33024</td>\n",
       "      <td>0.95571</td>\n",
       "      <td>0.00000</td>\n",
       "      <td>0.40840</td>\n",
       "      <td>0.08786</td>\n",
       "      <td>0.21488</td>\n",
       "      <td>2.51009</td>\n",
       "    </tr>\n",
       "    <tr>\n",
       "      <th>125</th>\n",
       "      <td>Djibouti</td>\n",
       "      <td>Sub-Saharan Africa</td>\n",
       "      <td>126</td>\n",
       "      <td>4.369</td>\n",
       "      <td>0.08096</td>\n",
       "      <td>0.44025</td>\n",
       "      <td>0.59207</td>\n",
       "      <td>0.36291</td>\n",
       "      <td>0.46074</td>\n",
       "      <td>0.28105</td>\n",
       "      <td>0.18093</td>\n",
       "      <td>2.05125</td>\n",
       "    </tr>\n",
       "  </tbody>\n",
       "</table>\n",
       "</div>"
      ],
      "text/plain": [
       "          Country                       Region  Happiness Rank  \\\n",
       "7          Sweden               Western Europe               8   \n",
       "9       Australia    Australia and New Zealand              10   \n",
       "52       Paraguay  Latin America and Caribbean              53   \n",
       "15         Brazil  Latin America and Caribbean              16   \n",
       "70      Mauritius           Sub-Saharan Africa              71   \n",
       "87       Portugal               Western Europe              88   \n",
       "152   Afghanistan                Southern Asia             153   \n",
       "93     Mozambique           Sub-Saharan Africa              94   \n",
       "122  Sierra Leone           Sub-Saharan Africa             123   \n",
       "125      Djibouti           Sub-Saharan Africa             126   \n",
       "\n",
       "     Happiness Score  Standard Error  Economy (GDP per Capita)   Family  \\\n",
       "7              7.364         0.03157                   1.33171  1.28907   \n",
       "9              7.284         0.04083                   1.33358  1.30923   \n",
       "52             5.878         0.04563                   0.75985  1.30477   \n",
       "15             6.983         0.04076                   0.98124  1.23287   \n",
       "70             5.477         0.07197                   1.00761  0.98521   \n",
       "87             5.102         0.04802                   1.15991  1.13935   \n",
       "152            3.575         0.03084                   0.31982  0.30285   \n",
       "93             4.971         0.07896                   0.08308  1.02626   \n",
       "122            4.507         0.07068                   0.33024  0.95571   \n",
       "125            4.369         0.08096                   0.44025  0.59207   \n",
       "\n",
       "     Health (Life Expectancy)  Freedom  Trust (Government Corruption)  \\\n",
       "7                     0.91087  0.65980                        0.43844   \n",
       "9                     0.93156  0.65124                        0.35637   \n",
       "52                    0.66098  0.53899                        0.08242   \n",
       "15                    0.69702  0.49049                        0.17521   \n",
       "70                    0.70950  0.56066                        0.07521   \n",
       "87                    0.87519  0.51469                        0.01078   \n",
       "152                   0.30335  0.23414                        0.09719   \n",
       "93                    0.09131  0.34037                        0.15603   \n",
       "122                   0.00000  0.40840                        0.08786   \n",
       "125                   0.36291  0.46074                        0.28105   \n",
       "\n",
       "     Generosity  Dystopia Residual  \n",
       "7       0.36262            2.37119  \n",
       "9       0.43562            2.26646  \n",
       "52      0.34240            2.18896  \n",
       "15      0.14574            3.26001  \n",
       "70      0.37744            1.76145  \n",
       "87      0.13719            1.26462  \n",
       "152     0.36510            1.95210  \n",
       "93      0.22269            3.05137  \n",
       "122     0.21488            2.51009  \n",
       "125     0.18093            2.05125  "
      ]
     },
     "execution_count": 23,
     "metadata": {},
     "output_type": "execute_result"
    }
   ],
   "source": [
    "data.sample(10)"
   ]
  },
  {
   "cell_type": "markdown",
   "metadata": {},
   "source": [
    "### Get rows according to column value\n",
    "If we want to get hold of rows that match certain criteria, we can do this by first constructing a boolean Series to use as an index."
   ]
  },
  {
   "cell_type": "code",
   "execution_count": 24,
   "metadata": {},
   "outputs": [
    {
     "data": {
      "text/plain": [
       "0       True\n",
       "1       True\n",
       "2       True\n",
       "3       True\n",
       "4      False\n",
       "       ...  \n",
       "153    False\n",
       "154    False\n",
       "155    False\n",
       "156    False\n",
       "157    False\n",
       "Name: Region, Length: 158, dtype: bool"
      ]
     },
     "execution_count": 24,
     "metadata": {},
     "output_type": "execute_result"
    }
   ],
   "source": [
    "data['Region'] == 'Western Europe'"
   ]
  },
  {
   "cell_type": "code",
   "execution_count": 25,
   "metadata": {},
   "outputs": [
    {
     "data": {
      "text/html": [
       "<div>\n",
       "<style scoped>\n",
       "    .dataframe tbody tr th:only-of-type {\n",
       "        vertical-align: middle;\n",
       "    }\n",
       "\n",
       "    .dataframe tbody tr th {\n",
       "        vertical-align: top;\n",
       "    }\n",
       "\n",
       "    .dataframe thead th {\n",
       "        text-align: right;\n",
       "    }\n",
       "</style>\n",
       "<table border=\"1\" class=\"dataframe\">\n",
       "  <thead>\n",
       "    <tr style=\"text-align: right;\">\n",
       "      <th></th>\n",
       "      <th>Country</th>\n",
       "      <th>Region</th>\n",
       "      <th>Happiness Rank</th>\n",
       "      <th>Happiness Score</th>\n",
       "      <th>Standard Error</th>\n",
       "      <th>Economy (GDP per Capita)</th>\n",
       "      <th>Family</th>\n",
       "      <th>Health (Life Expectancy)</th>\n",
       "      <th>Freedom</th>\n",
       "      <th>Trust (Government Corruption)</th>\n",
       "      <th>Generosity</th>\n",
       "      <th>Dystopia Residual</th>\n",
       "    </tr>\n",
       "  </thead>\n",
       "  <tbody>\n",
       "    <tr>\n",
       "      <th>0</th>\n",
       "      <td>Switzerland</td>\n",
       "      <td>Western Europe</td>\n",
       "      <td>1</td>\n",
       "      <td>7.587</td>\n",
       "      <td>0.03411</td>\n",
       "      <td>1.39651</td>\n",
       "      <td>1.34951</td>\n",
       "      <td>0.94143</td>\n",
       "      <td>0.66557</td>\n",
       "      <td>0.41978</td>\n",
       "      <td>0.29678</td>\n",
       "      <td>2.51738</td>\n",
       "    </tr>\n",
       "    <tr>\n",
       "      <th>1</th>\n",
       "      <td>Iceland</td>\n",
       "      <td>Western Europe</td>\n",
       "      <td>2</td>\n",
       "      <td>7.561</td>\n",
       "      <td>0.04884</td>\n",
       "      <td>1.30232</td>\n",
       "      <td>1.40223</td>\n",
       "      <td>0.94784</td>\n",
       "      <td>0.62877</td>\n",
       "      <td>0.14145</td>\n",
       "      <td>0.43630</td>\n",
       "      <td>2.70201</td>\n",
       "    </tr>\n",
       "    <tr>\n",
       "      <th>2</th>\n",
       "      <td>Denmark</td>\n",
       "      <td>Western Europe</td>\n",
       "      <td>3</td>\n",
       "      <td>7.527</td>\n",
       "      <td>0.03328</td>\n",
       "      <td>1.32548</td>\n",
       "      <td>1.36058</td>\n",
       "      <td>0.87464</td>\n",
       "      <td>0.64938</td>\n",
       "      <td>0.48357</td>\n",
       "      <td>0.34139</td>\n",
       "      <td>2.49204</td>\n",
       "    </tr>\n",
       "    <tr>\n",
       "      <th>3</th>\n",
       "      <td>Norway</td>\n",
       "      <td>Western Europe</td>\n",
       "      <td>4</td>\n",
       "      <td>7.522</td>\n",
       "      <td>0.03880</td>\n",
       "      <td>1.45900</td>\n",
       "      <td>1.33095</td>\n",
       "      <td>0.88521</td>\n",
       "      <td>0.66973</td>\n",
       "      <td>0.36503</td>\n",
       "      <td>0.34699</td>\n",
       "      <td>2.46531</td>\n",
       "    </tr>\n",
       "    <tr>\n",
       "      <th>5</th>\n",
       "      <td>Finland</td>\n",
       "      <td>Western Europe</td>\n",
       "      <td>6</td>\n",
       "      <td>7.406</td>\n",
       "      <td>0.03140</td>\n",
       "      <td>1.29025</td>\n",
       "      <td>1.31826</td>\n",
       "      <td>0.88911</td>\n",
       "      <td>0.64169</td>\n",
       "      <td>0.41372</td>\n",
       "      <td>0.23351</td>\n",
       "      <td>2.61955</td>\n",
       "    </tr>\n",
       "    <tr>\n",
       "      <th>6</th>\n",
       "      <td>Netherlands</td>\n",
       "      <td>Western Europe</td>\n",
       "      <td>7</td>\n",
       "      <td>7.378</td>\n",
       "      <td>0.02799</td>\n",
       "      <td>1.32944</td>\n",
       "      <td>1.28017</td>\n",
       "      <td>0.89284</td>\n",
       "      <td>0.61576</td>\n",
       "      <td>0.31814</td>\n",
       "      <td>0.47610</td>\n",
       "      <td>2.46570</td>\n",
       "    </tr>\n",
       "    <tr>\n",
       "      <th>7</th>\n",
       "      <td>Sweden</td>\n",
       "      <td>Western Europe</td>\n",
       "      <td>8</td>\n",
       "      <td>7.364</td>\n",
       "      <td>0.03157</td>\n",
       "      <td>1.33171</td>\n",
       "      <td>1.28907</td>\n",
       "      <td>0.91087</td>\n",
       "      <td>0.65980</td>\n",
       "      <td>0.43844</td>\n",
       "      <td>0.36262</td>\n",
       "      <td>2.37119</td>\n",
       "    </tr>\n",
       "    <tr>\n",
       "      <th>12</th>\n",
       "      <td>Austria</td>\n",
       "      <td>Western Europe</td>\n",
       "      <td>13</td>\n",
       "      <td>7.200</td>\n",
       "      <td>0.03751</td>\n",
       "      <td>1.33723</td>\n",
       "      <td>1.29704</td>\n",
       "      <td>0.89042</td>\n",
       "      <td>0.62433</td>\n",
       "      <td>0.18676</td>\n",
       "      <td>0.33088</td>\n",
       "      <td>2.53320</td>\n",
       "    </tr>\n",
       "    <tr>\n",
       "      <th>16</th>\n",
       "      <td>Luxembourg</td>\n",
       "      <td>Western Europe</td>\n",
       "      <td>17</td>\n",
       "      <td>6.946</td>\n",
       "      <td>0.03499</td>\n",
       "      <td>1.56391</td>\n",
       "      <td>1.21963</td>\n",
       "      <td>0.91894</td>\n",
       "      <td>0.61583</td>\n",
       "      <td>0.37798</td>\n",
       "      <td>0.28034</td>\n",
       "      <td>1.96961</td>\n",
       "    </tr>\n",
       "    <tr>\n",
       "      <th>17</th>\n",
       "      <td>Ireland</td>\n",
       "      <td>Western Europe</td>\n",
       "      <td>18</td>\n",
       "      <td>6.940</td>\n",
       "      <td>0.03676</td>\n",
       "      <td>1.33596</td>\n",
       "      <td>1.36948</td>\n",
       "      <td>0.89533</td>\n",
       "      <td>0.61777</td>\n",
       "      <td>0.28703</td>\n",
       "      <td>0.45901</td>\n",
       "      <td>1.97570</td>\n",
       "    </tr>\n",
       "    <tr>\n",
       "      <th>18</th>\n",
       "      <td>Belgium</td>\n",
       "      <td>Western Europe</td>\n",
       "      <td>19</td>\n",
       "      <td>6.937</td>\n",
       "      <td>0.03595</td>\n",
       "      <td>1.30782</td>\n",
       "      <td>1.28566</td>\n",
       "      <td>0.89667</td>\n",
       "      <td>0.58450</td>\n",
       "      <td>0.22540</td>\n",
       "      <td>0.22250</td>\n",
       "      <td>2.41484</td>\n",
       "    </tr>\n",
       "    <tr>\n",
       "      <th>20</th>\n",
       "      <td>United Kingdom</td>\n",
       "      <td>Western Europe</td>\n",
       "      <td>21</td>\n",
       "      <td>6.867</td>\n",
       "      <td>0.01866</td>\n",
       "      <td>1.26637</td>\n",
       "      <td>1.28548</td>\n",
       "      <td>0.90943</td>\n",
       "      <td>0.59625</td>\n",
       "      <td>0.32067</td>\n",
       "      <td>0.51912</td>\n",
       "      <td>1.96994</td>\n",
       "    </tr>\n",
       "    <tr>\n",
       "      <th>25</th>\n",
       "      <td>Germany</td>\n",
       "      <td>Western Europe</td>\n",
       "      <td>26</td>\n",
       "      <td>6.750</td>\n",
       "      <td>0.01848</td>\n",
       "      <td>1.32792</td>\n",
       "      <td>1.29937</td>\n",
       "      <td>0.89186</td>\n",
       "      <td>0.61477</td>\n",
       "      <td>0.21843</td>\n",
       "      <td>0.28214</td>\n",
       "      <td>2.11569</td>\n",
       "    </tr>\n",
       "    <tr>\n",
       "      <th>28</th>\n",
       "      <td>France</td>\n",
       "      <td>Western Europe</td>\n",
       "      <td>29</td>\n",
       "      <td>6.575</td>\n",
       "      <td>0.03512</td>\n",
       "      <td>1.27778</td>\n",
       "      <td>1.26038</td>\n",
       "      <td>0.94579</td>\n",
       "      <td>0.55011</td>\n",
       "      <td>0.20646</td>\n",
       "      <td>0.12332</td>\n",
       "      <td>2.21126</td>\n",
       "    </tr>\n",
       "    <tr>\n",
       "      <th>35</th>\n",
       "      <td>Spain</td>\n",
       "      <td>Western Europe</td>\n",
       "      <td>36</td>\n",
       "      <td>6.329</td>\n",
       "      <td>0.03468</td>\n",
       "      <td>1.23011</td>\n",
       "      <td>1.31379</td>\n",
       "      <td>0.95562</td>\n",
       "      <td>0.45951</td>\n",
       "      <td>0.06398</td>\n",
       "      <td>0.18227</td>\n",
       "      <td>2.12367</td>\n",
       "    </tr>\n",
       "    <tr>\n",
       "      <th>36</th>\n",
       "      <td>Malta</td>\n",
       "      <td>Western Europe</td>\n",
       "      <td>37</td>\n",
       "      <td>6.302</td>\n",
       "      <td>0.04206</td>\n",
       "      <td>1.20740</td>\n",
       "      <td>1.30203</td>\n",
       "      <td>0.88721</td>\n",
       "      <td>0.60365</td>\n",
       "      <td>0.13586</td>\n",
       "      <td>0.51752</td>\n",
       "      <td>1.64880</td>\n",
       "    </tr>\n",
       "    <tr>\n",
       "      <th>49</th>\n",
       "      <td>Italy</td>\n",
       "      <td>Western Europe</td>\n",
       "      <td>50</td>\n",
       "      <td>5.948</td>\n",
       "      <td>0.03914</td>\n",
       "      <td>1.25114</td>\n",
       "      <td>1.19777</td>\n",
       "      <td>0.95446</td>\n",
       "      <td>0.26236</td>\n",
       "      <td>0.02901</td>\n",
       "      <td>0.22823</td>\n",
       "      <td>2.02518</td>\n",
       "    </tr>\n",
       "    <tr>\n",
       "      <th>65</th>\n",
       "      <td>North Cyprus</td>\n",
       "      <td>Western Europe</td>\n",
       "      <td>66</td>\n",
       "      <td>5.695</td>\n",
       "      <td>0.05635</td>\n",
       "      <td>1.20806</td>\n",
       "      <td>1.07008</td>\n",
       "      <td>0.92356</td>\n",
       "      <td>0.49027</td>\n",
       "      <td>0.14280</td>\n",
       "      <td>0.26169</td>\n",
       "      <td>1.59888</td>\n",
       "    </tr>\n",
       "    <tr>\n",
       "      <th>66</th>\n",
       "      <td>Cyprus</td>\n",
       "      <td>Western Europe</td>\n",
       "      <td>67</td>\n",
       "      <td>5.689</td>\n",
       "      <td>0.05580</td>\n",
       "      <td>1.20813</td>\n",
       "      <td>0.89318</td>\n",
       "      <td>0.92356</td>\n",
       "      <td>0.40672</td>\n",
       "      <td>0.06146</td>\n",
       "      <td>0.30638</td>\n",
       "      <td>1.88931</td>\n",
       "    </tr>\n",
       "    <tr>\n",
       "      <th>87</th>\n",
       "      <td>Portugal</td>\n",
       "      <td>Western Europe</td>\n",
       "      <td>88</td>\n",
       "      <td>5.102</td>\n",
       "      <td>0.04802</td>\n",
       "      <td>1.15991</td>\n",
       "      <td>1.13935</td>\n",
       "      <td>0.87519</td>\n",
       "      <td>0.51469</td>\n",
       "      <td>0.01078</td>\n",
       "      <td>0.13719</td>\n",
       "      <td>1.26462</td>\n",
       "    </tr>\n",
       "    <tr>\n",
       "      <th>101</th>\n",
       "      <td>Greece</td>\n",
       "      <td>Western Europe</td>\n",
       "      <td>102</td>\n",
       "      <td>4.857</td>\n",
       "      <td>0.05062</td>\n",
       "      <td>1.15406</td>\n",
       "      <td>0.92933</td>\n",
       "      <td>0.88213</td>\n",
       "      <td>0.07699</td>\n",
       "      <td>0.01397</td>\n",
       "      <td>0.00000</td>\n",
       "      <td>1.80101</td>\n",
       "    </tr>\n",
       "  </tbody>\n",
       "</table>\n",
       "</div>"
      ],
      "text/plain": [
       "            Country          Region  Happiness Rank  Happiness Score  \\\n",
       "0       Switzerland  Western Europe               1            7.587   \n",
       "1           Iceland  Western Europe               2            7.561   \n",
       "2           Denmark  Western Europe               3            7.527   \n",
       "3            Norway  Western Europe               4            7.522   \n",
       "5           Finland  Western Europe               6            7.406   \n",
       "6       Netherlands  Western Europe               7            7.378   \n",
       "7            Sweden  Western Europe               8            7.364   \n",
       "12          Austria  Western Europe              13            7.200   \n",
       "16       Luxembourg  Western Europe              17            6.946   \n",
       "17          Ireland  Western Europe              18            6.940   \n",
       "18          Belgium  Western Europe              19            6.937   \n",
       "20   United Kingdom  Western Europe              21            6.867   \n",
       "25          Germany  Western Europe              26            6.750   \n",
       "28           France  Western Europe              29            6.575   \n",
       "35            Spain  Western Europe              36            6.329   \n",
       "36            Malta  Western Europe              37            6.302   \n",
       "49            Italy  Western Europe              50            5.948   \n",
       "65     North Cyprus  Western Europe              66            5.695   \n",
       "66           Cyprus  Western Europe              67            5.689   \n",
       "87         Portugal  Western Europe              88            5.102   \n",
       "101          Greece  Western Europe             102            4.857   \n",
       "\n",
       "     Standard Error  Economy (GDP per Capita)   Family  \\\n",
       "0           0.03411                   1.39651  1.34951   \n",
       "1           0.04884                   1.30232  1.40223   \n",
       "2           0.03328                   1.32548  1.36058   \n",
       "3           0.03880                   1.45900  1.33095   \n",
       "5           0.03140                   1.29025  1.31826   \n",
       "6           0.02799                   1.32944  1.28017   \n",
       "7           0.03157                   1.33171  1.28907   \n",
       "12          0.03751                   1.33723  1.29704   \n",
       "16          0.03499                   1.56391  1.21963   \n",
       "17          0.03676                   1.33596  1.36948   \n",
       "18          0.03595                   1.30782  1.28566   \n",
       "20          0.01866                   1.26637  1.28548   \n",
       "25          0.01848                   1.32792  1.29937   \n",
       "28          0.03512                   1.27778  1.26038   \n",
       "35          0.03468                   1.23011  1.31379   \n",
       "36          0.04206                   1.20740  1.30203   \n",
       "49          0.03914                   1.25114  1.19777   \n",
       "65          0.05635                   1.20806  1.07008   \n",
       "66          0.05580                   1.20813  0.89318   \n",
       "87          0.04802                   1.15991  1.13935   \n",
       "101         0.05062                   1.15406  0.92933   \n",
       "\n",
       "     Health (Life Expectancy)  Freedom  Trust (Government Corruption)  \\\n",
       "0                     0.94143  0.66557                        0.41978   \n",
       "1                     0.94784  0.62877                        0.14145   \n",
       "2                     0.87464  0.64938                        0.48357   \n",
       "3                     0.88521  0.66973                        0.36503   \n",
       "5                     0.88911  0.64169                        0.41372   \n",
       "6                     0.89284  0.61576                        0.31814   \n",
       "7                     0.91087  0.65980                        0.43844   \n",
       "12                    0.89042  0.62433                        0.18676   \n",
       "16                    0.91894  0.61583                        0.37798   \n",
       "17                    0.89533  0.61777                        0.28703   \n",
       "18                    0.89667  0.58450                        0.22540   \n",
       "20                    0.90943  0.59625                        0.32067   \n",
       "25                    0.89186  0.61477                        0.21843   \n",
       "28                    0.94579  0.55011                        0.20646   \n",
       "35                    0.95562  0.45951                        0.06398   \n",
       "36                    0.88721  0.60365                        0.13586   \n",
       "49                    0.95446  0.26236                        0.02901   \n",
       "65                    0.92356  0.49027                        0.14280   \n",
       "66                    0.92356  0.40672                        0.06146   \n",
       "87                    0.87519  0.51469                        0.01078   \n",
       "101                   0.88213  0.07699                        0.01397   \n",
       "\n",
       "     Generosity  Dystopia Residual  \n",
       "0       0.29678            2.51738  \n",
       "1       0.43630            2.70201  \n",
       "2       0.34139            2.49204  \n",
       "3       0.34699            2.46531  \n",
       "5       0.23351            2.61955  \n",
       "6       0.47610            2.46570  \n",
       "7       0.36262            2.37119  \n",
       "12      0.33088            2.53320  \n",
       "16      0.28034            1.96961  \n",
       "17      0.45901            1.97570  \n",
       "18      0.22250            2.41484  \n",
       "20      0.51912            1.96994  \n",
       "25      0.28214            2.11569  \n",
       "28      0.12332            2.21126  \n",
       "35      0.18227            2.12367  \n",
       "36      0.51752            1.64880  \n",
       "49      0.22823            2.02518  \n",
       "65      0.26169            1.59888  \n",
       "66      0.30638            1.88931  \n",
       "87      0.13719            1.26462  \n",
       "101     0.00000            1.80101  "
      ]
     },
     "execution_count": 25,
     "metadata": {},
     "output_type": "execute_result"
    }
   ],
   "source": [
    "data[ data['Region'] == 'Western Europe' ]"
   ]
  },
  {
   "cell_type": "markdown",
   "metadata": {},
   "source": [
    "### Get rows that match multiple criteria\n",
    "If necessary, you can combine boolean Series using the logical operators `&` (AND) and `|` (OR)."
   ]
  },
  {
   "cell_type": "code",
   "execution_count": 26,
   "metadata": {},
   "outputs": [
    {
     "data": {
      "text/html": [
       "<div>\n",
       "<style scoped>\n",
       "    .dataframe tbody tr th:only-of-type {\n",
       "        vertical-align: middle;\n",
       "    }\n",
       "\n",
       "    .dataframe tbody tr th {\n",
       "        vertical-align: top;\n",
       "    }\n",
       "\n",
       "    .dataframe thead th {\n",
       "        text-align: right;\n",
       "    }\n",
       "</style>\n",
       "<table border=\"1\" class=\"dataframe\">\n",
       "  <thead>\n",
       "    <tr style=\"text-align: right;\">\n",
       "      <th></th>\n",
       "      <th>Country</th>\n",
       "      <th>Region</th>\n",
       "      <th>Happiness Rank</th>\n",
       "      <th>Happiness Score</th>\n",
       "      <th>Standard Error</th>\n",
       "      <th>Economy (GDP per Capita)</th>\n",
       "      <th>Family</th>\n",
       "      <th>Health (Life Expectancy)</th>\n",
       "      <th>Freedom</th>\n",
       "      <th>Trust (Government Corruption)</th>\n",
       "      <th>Generosity</th>\n",
       "      <th>Dystopia Residual</th>\n",
       "    </tr>\n",
       "  </thead>\n",
       "  <tbody>\n",
       "    <tr>\n",
       "      <th>37</th>\n",
       "      <td>Taiwan</td>\n",
       "      <td>Eastern Asia</td>\n",
       "      <td>38</td>\n",
       "      <td>6.298</td>\n",
       "      <td>0.03868</td>\n",
       "      <td>1.29098</td>\n",
       "      <td>1.07617</td>\n",
       "      <td>0.87530</td>\n",
       "      <td>0.39740</td>\n",
       "      <td>0.08129</td>\n",
       "      <td>0.25376</td>\n",
       "      <td>2.32323</td>\n",
       "    </tr>\n",
       "    <tr>\n",
       "      <th>45</th>\n",
       "      <td>Japan</td>\n",
       "      <td>Eastern Asia</td>\n",
       "      <td>46</td>\n",
       "      <td>5.987</td>\n",
       "      <td>0.03581</td>\n",
       "      <td>1.27074</td>\n",
       "      <td>1.25712</td>\n",
       "      <td>0.99111</td>\n",
       "      <td>0.49615</td>\n",
       "      <td>0.18060</td>\n",
       "      <td>0.10705</td>\n",
       "      <td>1.68435</td>\n",
       "    </tr>\n",
       "    <tr>\n",
       "      <th>46</th>\n",
       "      <td>South Korea</td>\n",
       "      <td>Eastern Asia</td>\n",
       "      <td>47</td>\n",
       "      <td>5.984</td>\n",
       "      <td>0.04098</td>\n",
       "      <td>1.24461</td>\n",
       "      <td>0.95774</td>\n",
       "      <td>0.96538</td>\n",
       "      <td>0.33208</td>\n",
       "      <td>0.07857</td>\n",
       "      <td>0.18557</td>\n",
       "      <td>2.21978</td>\n",
       "    </tr>\n",
       "    <tr>\n",
       "      <th>71</th>\n",
       "      <td>Hong Kong</td>\n",
       "      <td>Eastern Asia</td>\n",
       "      <td>72</td>\n",
       "      <td>5.474</td>\n",
       "      <td>0.05051</td>\n",
       "      <td>1.38604</td>\n",
       "      <td>1.05818</td>\n",
       "      <td>1.01328</td>\n",
       "      <td>0.59608</td>\n",
       "      <td>0.37124</td>\n",
       "      <td>0.39478</td>\n",
       "      <td>0.65429</td>\n",
       "    </tr>\n",
       "    <tr>\n",
       "      <th>83</th>\n",
       "      <td>China</td>\n",
       "      <td>Eastern Asia</td>\n",
       "      <td>84</td>\n",
       "      <td>5.140</td>\n",
       "      <td>0.02424</td>\n",
       "      <td>0.89012</td>\n",
       "      <td>0.94675</td>\n",
       "      <td>0.81658</td>\n",
       "      <td>0.51697</td>\n",
       "      <td>0.02781</td>\n",
       "      <td>0.08185</td>\n",
       "      <td>1.86040</td>\n",
       "    </tr>\n",
       "  </tbody>\n",
       "</table>\n",
       "</div>"
      ],
      "text/plain": [
       "        Country        Region  Happiness Rank  Happiness Score  \\\n",
       "37       Taiwan  Eastern Asia              38            6.298   \n",
       "45        Japan  Eastern Asia              46            5.987   \n",
       "46  South Korea  Eastern Asia              47            5.984   \n",
       "71    Hong Kong  Eastern Asia              72            5.474   \n",
       "83        China  Eastern Asia              84            5.140   \n",
       "\n",
       "    Standard Error  Economy (GDP per Capita)   Family  \\\n",
       "37         0.03868                   1.29098  1.07617   \n",
       "45         0.03581                   1.27074  1.25712   \n",
       "46         0.04098                   1.24461  0.95774   \n",
       "71         0.05051                   1.38604  1.05818   \n",
       "83         0.02424                   0.89012  0.94675   \n",
       "\n",
       "    Health (Life Expectancy)  Freedom  Trust (Government Corruption)  \\\n",
       "37                   0.87530  0.39740                        0.08129   \n",
       "45                   0.99111  0.49615                        0.18060   \n",
       "46                   0.96538  0.33208                        0.07857   \n",
       "71                   1.01328  0.59608                        0.37124   \n",
       "83                   0.81658  0.51697                        0.02781   \n",
       "\n",
       "    Generosity  Dystopia Residual  \n",
       "37     0.25376            2.32323  \n",
       "45     0.10705            1.68435  \n",
       "46     0.18557            2.21978  \n",
       "71     0.39478            0.65429  \n",
       "83     0.08185            1.86040  "
      ]
     },
     "execution_count": 26,
     "metadata": {},
     "output_type": "execute_result"
    }
   ],
   "source": [
    "data[ (data['Region'] == 'Eastern Asia') \n",
    "      & \n",
    "      (data['Happiness Score'] > 5)\n",
    "]"
   ]
  },
  {
   "cell_type": "code",
   "execution_count": 27,
   "metadata": {},
   "outputs": [
    {
     "data": {
      "text/html": [
       "<div>\n",
       "<style scoped>\n",
       "    .dataframe tbody tr th:only-of-type {\n",
       "        vertical-align: middle;\n",
       "    }\n",
       "\n",
       "    .dataframe tbody tr th {\n",
       "        vertical-align: top;\n",
       "    }\n",
       "\n",
       "    .dataframe thead th {\n",
       "        text-align: right;\n",
       "    }\n",
       "</style>\n",
       "<table border=\"1\" class=\"dataframe\">\n",
       "  <thead>\n",
       "    <tr style=\"text-align: right;\">\n",
       "      <th></th>\n",
       "      <th>Country</th>\n",
       "      <th>Region</th>\n",
       "      <th>Happiness Rank</th>\n",
       "      <th>Happiness Score</th>\n",
       "      <th>Standard Error</th>\n",
       "      <th>Economy (GDP per Capita)</th>\n",
       "      <th>Family</th>\n",
       "      <th>Health (Life Expectancy)</th>\n",
       "      <th>Freedom</th>\n",
       "      <th>Trust (Government Corruption)</th>\n",
       "      <th>Generosity</th>\n",
       "      <th>Dystopia Residual</th>\n",
       "    </tr>\n",
       "  </thead>\n",
       "  <tbody>\n",
       "    <tr>\n",
       "      <th>0</th>\n",
       "      <td>Switzerland</td>\n",
       "      <td>Western Europe</td>\n",
       "      <td>1</td>\n",
       "      <td>7.587</td>\n",
       "      <td>0.03411</td>\n",
       "      <td>1.39651</td>\n",
       "      <td>1.34951</td>\n",
       "      <td>0.94143</td>\n",
       "      <td>0.66557</td>\n",
       "      <td>0.41978</td>\n",
       "      <td>0.29678</td>\n",
       "      <td>2.51738</td>\n",
       "    </tr>\n",
       "    <tr>\n",
       "      <th>1</th>\n",
       "      <td>Iceland</td>\n",
       "      <td>Western Europe</td>\n",
       "      <td>2</td>\n",
       "      <td>7.561</td>\n",
       "      <td>0.04884</td>\n",
       "      <td>1.30232</td>\n",
       "      <td>1.40223</td>\n",
       "      <td>0.94784</td>\n",
       "      <td>0.62877</td>\n",
       "      <td>0.14145</td>\n",
       "      <td>0.43630</td>\n",
       "      <td>2.70201</td>\n",
       "    </tr>\n",
       "    <tr>\n",
       "      <th>2</th>\n",
       "      <td>Denmark</td>\n",
       "      <td>Western Europe</td>\n",
       "      <td>3</td>\n",
       "      <td>7.527</td>\n",
       "      <td>0.03328</td>\n",
       "      <td>1.32548</td>\n",
       "      <td>1.36058</td>\n",
       "      <td>0.87464</td>\n",
       "      <td>0.64938</td>\n",
       "      <td>0.48357</td>\n",
       "      <td>0.34139</td>\n",
       "      <td>2.49204</td>\n",
       "    </tr>\n",
       "    <tr>\n",
       "      <th>3</th>\n",
       "      <td>Norway</td>\n",
       "      <td>Western Europe</td>\n",
       "      <td>4</td>\n",
       "      <td>7.522</td>\n",
       "      <td>0.03880</td>\n",
       "      <td>1.45900</td>\n",
       "      <td>1.33095</td>\n",
       "      <td>0.88521</td>\n",
       "      <td>0.66973</td>\n",
       "      <td>0.36503</td>\n",
       "      <td>0.34699</td>\n",
       "      <td>2.46531</td>\n",
       "    </tr>\n",
       "    <tr>\n",
       "      <th>4</th>\n",
       "      <td>Canada</td>\n",
       "      <td>North America</td>\n",
       "      <td>5</td>\n",
       "      <td>7.427</td>\n",
       "      <td>0.03553</td>\n",
       "      <td>1.32629</td>\n",
       "      <td>1.32261</td>\n",
       "      <td>0.90563</td>\n",
       "      <td>0.63297</td>\n",
       "      <td>0.32957</td>\n",
       "      <td>0.45811</td>\n",
       "      <td>2.45176</td>\n",
       "    </tr>\n",
       "    <tr>\n",
       "      <th>...</th>\n",
       "      <td>...</td>\n",
       "      <td>...</td>\n",
       "      <td>...</td>\n",
       "      <td>...</td>\n",
       "      <td>...</td>\n",
       "      <td>...</td>\n",
       "      <td>...</td>\n",
       "      <td>...</td>\n",
       "      <td>...</td>\n",
       "      <td>...</td>\n",
       "      <td>...</td>\n",
       "      <td>...</td>\n",
       "    </tr>\n",
       "    <tr>\n",
       "      <th>89</th>\n",
       "      <td>Philippines</td>\n",
       "      <td>Southeastern Asia</td>\n",
       "      <td>90</td>\n",
       "      <td>5.073</td>\n",
       "      <td>0.04934</td>\n",
       "      <td>0.70532</td>\n",
       "      <td>1.03516</td>\n",
       "      <td>0.58114</td>\n",
       "      <td>0.62545</td>\n",
       "      <td>0.12279</td>\n",
       "      <td>0.24991</td>\n",
       "      <td>1.75360</td>\n",
       "    </tr>\n",
       "    <tr>\n",
       "      <th>90</th>\n",
       "      <td>Somaliland region</td>\n",
       "      <td>Sub-Saharan Africa</td>\n",
       "      <td>91</td>\n",
       "      <td>5.057</td>\n",
       "      <td>0.06161</td>\n",
       "      <td>0.18847</td>\n",
       "      <td>0.95152</td>\n",
       "      <td>0.43873</td>\n",
       "      <td>0.46582</td>\n",
       "      <td>0.39928</td>\n",
       "      <td>0.50318</td>\n",
       "      <td>2.11032</td>\n",
       "    </tr>\n",
       "    <tr>\n",
       "      <th>91</th>\n",
       "      <td>Morocco</td>\n",
       "      <td>Middle East and Northern Africa</td>\n",
       "      <td>92</td>\n",
       "      <td>5.013</td>\n",
       "      <td>0.03420</td>\n",
       "      <td>0.73479</td>\n",
       "      <td>0.64095</td>\n",
       "      <td>0.60954</td>\n",
       "      <td>0.41691</td>\n",
       "      <td>0.08546</td>\n",
       "      <td>0.07172</td>\n",
       "      <td>2.45373</td>\n",
       "    </tr>\n",
       "    <tr>\n",
       "      <th>92</th>\n",
       "      <td>Macedonia</td>\n",
       "      <td>Central and Eastern Europe</td>\n",
       "      <td>93</td>\n",
       "      <td>5.007</td>\n",
       "      <td>0.05376</td>\n",
       "      <td>0.91851</td>\n",
       "      <td>1.00232</td>\n",
       "      <td>0.73545</td>\n",
       "      <td>0.33457</td>\n",
       "      <td>0.05327</td>\n",
       "      <td>0.22359</td>\n",
       "      <td>1.73933</td>\n",
       "    </tr>\n",
       "    <tr>\n",
       "      <th>99</th>\n",
       "      <td>Mongolia</td>\n",
       "      <td>Eastern Asia</td>\n",
       "      <td>100</td>\n",
       "      <td>4.874</td>\n",
       "      <td>0.03313</td>\n",
       "      <td>0.82819</td>\n",
       "      <td>1.30060</td>\n",
       "      <td>0.60268</td>\n",
       "      <td>0.43626</td>\n",
       "      <td>0.02666</td>\n",
       "      <td>0.33230</td>\n",
       "      <td>1.34759</td>\n",
       "    </tr>\n",
       "  </tbody>\n",
       "</table>\n",
       "<p>94 rows × 12 columns</p>\n",
       "</div>"
      ],
      "text/plain": [
       "              Country                           Region  Happiness Rank  \\\n",
       "0         Switzerland                   Western Europe               1   \n",
       "1             Iceland                   Western Europe               2   \n",
       "2             Denmark                   Western Europe               3   \n",
       "3              Norway                   Western Europe               4   \n",
       "4              Canada                    North America               5   \n",
       "..                ...                              ...             ...   \n",
       "89        Philippines                Southeastern Asia              90   \n",
       "90  Somaliland region               Sub-Saharan Africa              91   \n",
       "91            Morocco  Middle East and Northern Africa              92   \n",
       "92          Macedonia       Central and Eastern Europe              93   \n",
       "99           Mongolia                     Eastern Asia             100   \n",
       "\n",
       "    Happiness Score  Standard Error  Economy (GDP per Capita)   Family  \\\n",
       "0             7.587         0.03411                   1.39651  1.34951   \n",
       "1             7.561         0.04884                   1.30232  1.40223   \n",
       "2             7.527         0.03328                   1.32548  1.36058   \n",
       "3             7.522         0.03880                   1.45900  1.33095   \n",
       "4             7.427         0.03553                   1.32629  1.32261   \n",
       "..              ...             ...                       ...      ...   \n",
       "89            5.073         0.04934                   0.70532  1.03516   \n",
       "90            5.057         0.06161                   0.18847  0.95152   \n",
       "91            5.013         0.03420                   0.73479  0.64095   \n",
       "92            5.007         0.05376                   0.91851  1.00232   \n",
       "99            4.874         0.03313                   0.82819  1.30060   \n",
       "\n",
       "    Health (Life Expectancy)  Freedom  Trust (Government Corruption)  \\\n",
       "0                    0.94143  0.66557                        0.41978   \n",
       "1                    0.94784  0.62877                        0.14145   \n",
       "2                    0.87464  0.64938                        0.48357   \n",
       "3                    0.88521  0.66973                        0.36503   \n",
       "4                    0.90563  0.63297                        0.32957   \n",
       "..                       ...      ...                            ...   \n",
       "89                   0.58114  0.62545                        0.12279   \n",
       "90                   0.43873  0.46582                        0.39928   \n",
       "91                   0.60954  0.41691                        0.08546   \n",
       "92                   0.73545  0.33457                        0.05327   \n",
       "99                   0.60268  0.43626                        0.02666   \n",
       "\n",
       "    Generosity  Dystopia Residual  \n",
       "0      0.29678            2.51738  \n",
       "1      0.43630            2.70201  \n",
       "2      0.34139            2.49204  \n",
       "3      0.34699            2.46531  \n",
       "4      0.45811            2.45176  \n",
       "..         ...                ...  \n",
       "89     0.24991            1.75360  \n",
       "90     0.50318            2.11032  \n",
       "91     0.07172            2.45373  \n",
       "92     0.22359            1.73933  \n",
       "99     0.33230            1.34759  \n",
       "\n",
       "[94 rows x 12 columns]"
      ]
     },
     "execution_count": 27,
     "metadata": {},
     "output_type": "execute_result"
    }
   ],
   "source": [
    "data[ (data['Region'] == 'Eastern Asia') \n",
    "      | \n",
    "      (data['Happiness Score'] > 5)\n",
    "]"
   ]
  },
  {
   "cell_type": "markdown",
   "metadata": {},
   "source": [
    "### Exercise 3\n",
    "Make a scatter plot of Happiness Score vs Generosity for a region of your choice."
   ]
  },
  {
   "cell_type": "code",
   "execution_count": 28,
   "metadata": {},
   "outputs": [
    {
     "data": {
      "text/plain": [
       "<AxesSubplot:xlabel='Generosity', ylabel='Happiness Score'>"
      ]
     },
     "execution_count": 28,
     "metadata": {},
     "output_type": "execute_result"
    },
    {
     "data": {
      "image/png": "[encoded data removed]",
      "text/plain": [
       "<Figure size 432x288 with 1 Axes>"
      ]
     },
     "metadata": {
      "needs_background": "light"
     },
     "output_type": "display_data"
    }
   ],
   "source": [
    "data[ data['Region'] == 'Western Europe' ].plot.scatter(\n",
    "    'Generosity',\n",
    "    'Happiness Score'\n",
    ")"
   ]
  }
 ],
 "metadata": {
  "kernelspec": {
   "display_name": "Python 3 (ipykernel)",
   "language": "python",
   "name": "python3"
  },
  "language_info": {
   "codemirror_mode": {
    "name": "ipython",
    "version": 3
   },
   "file_extension": ".py",
   "mimetype": "text/x-python",
   "name": "python",
   "nbconvert_exporter": "python",
   "pygments_lexer": "ipython3",
   "version": "3.8.2"
  }
 },
 "nbformat": 4,
 "nbformat_minor": 4
}
