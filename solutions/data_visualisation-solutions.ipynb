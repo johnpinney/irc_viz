{
 "cells": [
  {
   "cell_type": "markdown",
   "metadata": {},
   "source": [
    "# Data exploration basics with pandas"
   ]
  },
  {
   "cell_type": "markdown",
   "metadata": {},
   "source": [
    "[*John Pinney*](https://github.com/johnpinney)"
   ]
  },
  {
   "cell_type": "markdown",
   "metadata": {},
   "source": [
    "In this session, we will introduce you to some useful elements of the `pandas` package for working with and presenting tabular data.\n"
   ]
  },
  {
   "cell_type": "markdown",
   "metadata": {},
   "source": [
    "### Import pandas (and matplotlib)"
   ]
  },
  {
   "cell_type": "code",
   "execution_count": null,
   "metadata": {},
   "outputs": [],
   "source": [
    "import pandas as pd\n",
    "import matplotlib.pyplot as plt"
   ]
  },
  {
   "cell_type": "markdown",
   "metadata": {},
   "source": [
    "---\n",
    "## 1. Getting started"
   ]
  },
  {
   "cell_type": "markdown",
   "metadata": {},
   "source": [
    "### Load some data from a CSV file: `read_csv()`\n",
    "\n",
    "[CSV (comma-separated values)](https://en.wikipedia.org/wiki/Comma-separated_values)  is a simple plain-text format for tabular data. It is easy to export CSV files from spreadsheets such as Excel, which can then be imported by many other software packages.\n",
    "\n",
    "We will work with the file `happiness_2015.csv`, which contains data from the third World Happiness Report (see more details [here](https://www.openml.org/search?type=data&status=active&id=40916))."
   ]
  },
  {
   "cell_type": "markdown",
   "metadata": {},
   "source": [
    "The data is returned as a special object called a *[DataFrame](https://pandas.pydata.org/docs/user_guide/dsintro.html#dataframe)*."
   ]
  },
  {
   "cell_type": "code",
   "execution_count": null,
   "metadata": {},
   "outputs": [],
   "source": [
    "data = pd.read_csv('https://raw.githubusercontent.com/johnpinney/irc_viz/main/happiness_2015.csv')"
   ]
  },
  {
   "cell_type": "markdown",
   "metadata": {},
   "source": [
    "### Look at the top of the table: `head()`\n",
    "\n",
    "The *method* `head()` gives us the first *n* rows of the table."
   ]
  },
  {
   "cell_type": "code",
   "execution_count": null,
   "metadata": {},
   "outputs": [],
   "source": [
    "data.head(5)"
   ]
  },
  {
   "cell_type": "markdown",
   "metadata": {},
   "source": [
    "We can see that the data points (or *instances*) are shown as rows in the table, while each *variable* in the data set corresponds to a named columns.\n",
    "\n",
    "Variables may have different data types - this is one reason why we need special data handling tools like pandas rather than trying to do all operations with *numpy* arrays."
   ]
  },
  {
   "cell_type": "markdown",
   "metadata": {},
   "source": [
    "### Get the dimensions of the table: `shape`\n",
    "\n",
    "The *attribute* [`shape`](https://pandas.pydata.org/pandas-docs/stable/reference/api/pandas.DataFrame.shape.html) holds the dimensions of the DataFrame as (#rows, #columns) :"
   ]
  },
  {
   "cell_type": "code",
   "execution_count": null,
   "metadata": {},
   "outputs": [],
   "source": [
    "data.shape"
   ]
  },
  {
   "cell_type": "markdown",
   "metadata": {},
   "source": [
    "Pandas objects have many methods and attributes, which you can find listed in the [API reference](https://pandas.pydata.org/docs/reference/index.html). \n",
    "\n",
    "Remember that methods are like functions attached to an object (so can take arguments inside the parentheses), whilst attributes are like variables attached to the object (properties that can be examined)."
   ]
  },
  {
   "cell_type": "markdown",
   "metadata": {},
   "source": [
    "### Check for missing data: `count()`\n",
    "Are there any missing values in this data set? \n",
    "\n",
    "We can easily check how many non-missing (i.e. non-NA/null) values there are in each column of the DataFrame."
   ]
  },
  {
   "cell_type": "code",
   "execution_count": null,
   "metadata": {},
   "outputs": [],
   "source": [
    "data.count()"
   ]
  },
  {
   "cell_type": "markdown",
   "metadata": {},
   "source": [
    "---\n",
    "## 2. Exploring the data"
   ]
  },
  {
   "cell_type": "markdown",
   "metadata": {},
   "source": [
    "Let's make a bar chart for the number of countries in each region. Pandas plots are (by default) constructed using [matplotlib](https://matplotlib.org/stable/plot_types/index.html)."
   ]
  },
  {
   "cell_type": "markdown",
   "metadata": {},
   "source": [
    "### Extract a single column: `[]`\n",
    "\n",
    "Firstly, we will need to extract just the **Region** column. This is returned in the form of a pandas *[Series](https://pandas.pydata.org/docs/user_guide/dsintro.html#series)* object"
   ]
  },
  {
   "cell_type": "code",
   "execution_count": null,
   "metadata": {},
   "outputs": [],
   "source": [
    "data['Region']"
   ]
  },
  {
   "cell_type": "markdown",
   "metadata": {},
   "source": [
    "### Find the unique values: `unique()`\n",
    "As an aside, if we just need to know the full set of unique values used in a particular column, we can use the `unique()` method."
   ]
  },
  {
   "cell_type": "code",
   "execution_count": null,
   "metadata": {},
   "outputs": [],
   "source": [
    "data['Region'].unique()"
   ]
  },
  {
   "cell_type": "code",
   "execution_count": null,
   "metadata": {},
   "outputs": [],
   "source": [
    "len(data['Region'].unique())"
   ]
  },
  {
   "cell_type": "markdown",
   "metadata": {},
   "source": [
    "### Make a frequency table: `value_counts()`\n",
    "Next, we need to count the frequency of each value observed in this Series - this is done with the method `value_counts()`."
   ]
  },
  {
   "cell_type": "code",
   "execution_count": null,
   "metadata": {},
   "outputs": [],
   "source": [
    "data['Region'].value_counts()"
   ]
  },
  {
   "cell_type": "markdown",
   "metadata": {},
   "source": [
    "### Make a bar chart: `plot.bar()`\n",
    "Finally, a matplotlib bar chart can be made directly from pandas using the `plot.bar()` method."
   ]
  },
  {
   "cell_type": "markdown",
   "metadata": {},
   "source": [
    "### Rearrange the bars: `sort_index()`\n",
    "By default, the frequency table is in descending frequency order. If we want to sort the groups alphabetically, there is a special method, `sort_index()`."
   ]
  },
  {
   "cell_type": "code",
   "execution_count": null,
   "metadata": {},
   "outputs": [],
   "source": [
    "data['Region'].value_counts().sort_index()"
   ]
  },
  {
   "cell_type": "code",
   "execution_count": null,
   "metadata": {},
   "outputs": [],
   "source": [
    "data['Region'].value_counts().sort_index().plot.bar()"
   ]
  },
  {
   "cell_type": "markdown",
   "metadata": {},
   "source": [
    "We can suppress the matplotlib message by ading `plt.show()` as a final command."
   ]
  },
  {
   "cell_type": "code",
   "execution_count": null,
   "metadata": {},
   "outputs": [],
   "source": [
    "data['Region'].value_counts().sort_index().plot.bar()\n",
    "plt.show()"
   ]
  },
  {
   "cell_type": "markdown",
   "metadata": {},
   "source": [
    "### Change the appearance of the plot\n",
    "Most of the pandas plotting functions accept matplotlib keyword arguments to control the appearance of the plot."
   ]
  },
  {
   "cell_type": "code",
   "execution_count": null,
   "metadata": {},
   "outputs": [],
   "source": [
    "data['Region'].value_counts().sort_index().plot.bar(\n",
    "    color='lightcyan',\n",
    "    edgecolor='black',\n",
    "    title='Countries of the World'\n",
    ")\n",
    "plt.show()"
   ]
  },
  {
   "cell_type": "markdown",
   "metadata": {},
   "source": [
    "### Save the plot: `plt.savefig()`\n",
    "To save the figure as a file, replace `plt.show()` with `plt.savefig()` and provide a filename. The image format is inferred from the file extension.\n",
    "\n",
    "NB in jupyter, `plt.savefig()` must be in the same notebook cell as the code that makes the figure."
   ]
  },
  {
   "cell_type": "code",
   "execution_count": null,
   "metadata": {},
   "outputs": [],
   "source": [
    "data['Region'].value_counts().sort_index().plot.bar(\n",
    "    color='lightcyan',\n",
    "    edgecolor='black',\n",
    "    title='Countries of the World'\n",
    ")\n",
    "plt.savefig('example.png', bbox_inches='tight')\n",
    "# bbox_inches='tight' ensures that the image \n",
    "# will contain the whole figure. Without this,\n",
    "# the rotated labels will be cut off."
   ]
  },
  {
   "cell_type": "markdown",
   "metadata": {},
   "source": [
    "### Exercise 1\n",
    "Of course, a bar chart is not the only kind of [plot](https://pandas.pydata.org/docs/user_guide/visualization.html) we will need.\n",
    "\n",
    "Make a histogram of happiness scores.\n",
    "\n",
    "Change the [colour](https://matplotlib.org/stable/gallery/color/named_colors.html#css-colors) and add a title."
   ]
  },
  {
   "cell_type": "code",
   "execution_count": null,
   "metadata": {},
   "outputs": [],
   "source": [
    "data['Happiness Score'].plot.hist(\n",
    "    color='green',\n",
    "    title='Happiness Score'\n",
    ")\n",
    "plt.show()"
   ]
  },
  {
   "cell_type": "markdown",
   "metadata": {},
   "source": [
    "---\n",
    "## 3. Summarising groups\n",
    "\n",
    "As well as looking at overall distributions, another important aspect of data exploration is to be able to compare different subgroups of the data."
   ]
  },
  {
   "cell_type": "markdown",
   "metadata": {},
   "source": [
    "### Box plot: `boxplot()`\n",
    "Let's look at the happiness distributions across different Regions."
   ]
  },
  {
   "cell_type": "code",
   "execution_count": null,
   "metadata": {},
   "outputs": [],
   "source": [
    "data.boxplot('Happiness Score', by='Region')\n",
    "plt.show()"
   ]
  },
  {
   "cell_type": "markdown",
   "metadata": {},
   "source": [
    "This is looking very messy initially - checking the [API](https://pandas.pydata.org/docs/reference/api/pandas.DataFrame.boxplot.html#pandas.DataFrame.boxplot), we see that we can easily rotate the labels:"
   ]
  },
  {
   "cell_type": "code",
   "execution_count": null,
   "metadata": {},
   "outputs": [],
   "source": [
    "data.boxplot('Happiness Score', by='Region', rot=90)\n",
    "plt.show()"
   ]
  },
  {
   "cell_type": "markdown",
   "metadata": {},
   "source": [
    "Unfortunately, the `boxplot()` method does not pass on additional arguments to matplotlib. Any other changes to the plot appearance must be done by extracting the matplotlib *[Axes](https://matplotlib.org/stable/api/axes_api.html)* object, e.g."
   ]
  },
  {
   "cell_type": "code",
   "execution_count": null,
   "metadata": {},
   "outputs": [],
   "source": [
    "ax = data.boxplot('Happiness Score', by='Region', rot=90)\n",
    "ax.set_title('')\n",
    "ax.set_xlabel('')\n",
    "ax.set_ylabel('Happiness Score')\n",
    "plt.show()"
   ]
  },
  {
   "cell_type": "markdown",
   "metadata": {},
   "source": [
    "### Numerical summaries: `groupby()`\n",
    "Pandas provides many methods for [summary statistics](https://pandas.pydata.org/docs/reference/series.html#computations-descriptive-stats) such as the mean, median or standard deviation of a Series. "
   ]
  },
  {
   "cell_type": "code",
   "execution_count": null,
   "metadata": {},
   "outputs": [],
   "source": [
    "data['Happiness Score'].median()"
   ]
  },
  {
   "cell_type": "markdown",
   "metadata": {},
   "source": [
    "If we want to calculate a statistic for every group, we will need to apply the `groupby()` method to the DataFrame."
   ]
  },
  {
   "cell_type": "code",
   "execution_count": null,
   "metadata": {},
   "outputs": [],
   "source": [
    "data.groupby('Region')"
   ]
  },
  {
   "cell_type": "code",
   "execution_count": null,
   "metadata": {},
   "outputs": [],
   "source": [
    "data.groupby('Region')['Happiness Score'].median()"
   ]
  },
  {
   "cell_type": "markdown",
   "metadata": {},
   "source": [
    "### Exercise 2\n",
    "Plot the mean happiness score for each region as a bar chart.\n",
    "\n",
    "Bonus: add [error bars](https://pandas.pydata.org/docs/user_guide/visualization.html#plotting-with-error-bars) to show the standard error of the mean."
   ]
  },
  {
   "cell_type": "code",
   "execution_count": null,
   "metadata": {},
   "outputs": [],
   "source": [
    "mean_happ = data.groupby('Region')['Happiness Score'].mean()\n",
    "\n",
    "se_happ = data.groupby('Region')['Happiness Score'].sem()\n",
    "\n",
    "ax = mean_happ.plot.bar(\n",
    "    yerr=se_happ, \n",
    "    capsize=2 \n",
    ")\n",
    "ax.set_ylabel('Mean Happiness Score')\n",
    "ax.set_xlabel('')\n",
    "plt.show()"
   ]
  },
  {
   "cell_type": "markdown",
   "metadata": {},
   "source": [
    "---\n",
    "## 4. Subsetting data\n",
    "Sometimes we want to work with only a subset of the rows. There are a few different ways to do this in pandas - here are some basic examples:"
   ]
  },
  {
   "cell_type": "markdown",
   "metadata": {},
   "source": [
    "### Get a random sample of data: `sample()`\n",
    "By default, this is random sampling without replacement."
   ]
  },
  {
   "cell_type": "code",
   "execution_count": null,
   "metadata": {},
   "outputs": [],
   "source": [
    "data.sample(10)"
   ]
  },
  {
   "cell_type": "markdown",
   "metadata": {},
   "source": [
    "### Get rows according to column value\n",
    "If we want to get hold of rows that match certain criteria, we can do this by first constructing a boolean Series to use as an index."
   ]
  },
  {
   "cell_type": "code",
   "execution_count": null,
   "metadata": {},
   "outputs": [],
   "source": [
    "data['Region'] == 'Western Europe'"
   ]
  },
  {
   "cell_type": "code",
   "execution_count": null,
   "metadata": {},
   "outputs": [],
   "source": [
    "data[ data['Region'] == 'Western Europe' ]"
   ]
  },
  {
   "cell_type": "markdown",
   "metadata": {},
   "source": [
    "### Get rows that match multiple criteria\n",
    "If necessary, you can combine boolean Series using the logical operators `&` (AND) and `|` (OR)."
   ]
  },
  {
   "cell_type": "code",
   "execution_count": null,
   "metadata": {},
   "outputs": [],
   "source": [
    "data[ (data['Region'] == 'Eastern Asia') \n",
    "      & \n",
    "      (data['Happiness Score'] > 5)\n",
    "]"
   ]
  },
  {
   "cell_type": "code",
   "execution_count": null,
   "metadata": {},
   "outputs": [],
   "source": [
    "data[ (data['Region'] == 'Eastern Asia') \n",
    "      | \n",
    "      (data['Happiness Score'] > 5)\n",
    "]"
   ]
  },
  {
   "cell_type": "markdown",
   "metadata": {},
   "source": [
    "### Exercise 3\n",
    "Make a scatter plot of Happiness Score vs Generosity for a region of your choice."
   ]
  },
  {
   "cell_type": "code",
   "execution_count": null,
   "metadata": {},
   "outputs": [],
   "source": [
    "data[ data['Region'] == 'Western Europe' ].plot.scatter(\n",
    "    'Generosity',\n",
    "    'Happiness Score'\n",
    ")"
   ]
  }
 ],
 "metadata": {
  "kernelspec": {
   "display_name": "Python 3",
   "language": "python",
   "name": "python3"
  },
  "language_info": {
   "codemirror_mode": {
    "name": "ipython",
    "version": 3
   },
   "file_extension": ".py",
   "mimetype": "text/x-python",
   "name": "python",
   "nbconvert_exporter": "python",
   "pygments_lexer": "ipython3",
   "version": "3.8.3"
  }
 },
 "nbformat": 4,
 "nbformat_minor": 4
}
