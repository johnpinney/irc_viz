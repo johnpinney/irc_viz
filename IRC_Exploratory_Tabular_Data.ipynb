{
  "nbformat": 4,
  "nbformat_minor": 0,
  "metadata": {
    "colab": {
      "provenance": [],
      "toc_visible": true
    },
    "kernelspec": {
      "name": "python3",
      "display_name": "Python 3"
    },
    "language_info": {
      "name": "python"
    },
    "widgets": {
      "application/vnd.jupyter.widget-state+json": {
        "2446143ff95045f6a33abc32b353fb40": {
          "model_module": "@jupyter-widgets/controls",
          "model_name": "RadioButtonsModel",
          "model_module_version": "1.5.0",
          "state": {
            "_dom_classes": [],
            "_model_module": "@jupyter-widgets/controls",
            "_model_module_version": "1.5.0",
            "_model_name": "RadioButtonsModel",
            "_options_labels": [
              "Graphs",
              "Images",
              "DataFrames"
            ],
            "_view_count": null,
            "_view_module": "@jupyter-widgets/controls",
            "_view_module_version": "1.5.0",
            "_view_name": "RadioButtonsView",
            "description": "",
            "description_tooltip": null,
            "disabled": false,
            "index": 0,
            "layout": "IPY_MODEL_686171ebb40e4c39aeb1bbab05d4e34b",
            "style": "IPY_MODEL_a9f9bd6f0e60424faf8b8abac45db0c1"
          }
        },
        "686171ebb40e4c39aeb1bbab05d4e34b": {
          "model_module": "@jupyter-widgets/base",
          "model_name": "LayoutModel",
          "model_module_version": "1.2.0",
          "state": {
            "_model_module": "@jupyter-widgets/base",
            "_model_module_version": "1.2.0",
            "_model_name": "LayoutModel",
            "_view_count": null,
            "_view_module": "@jupyter-widgets/base",
            "_view_module_version": "1.2.0",
            "_view_name": "LayoutView",
            "align_content": null,
            "align_items": null,
            "align_self": null,
            "border": null,
            "bottom": null,
            "display": null,
            "flex": null,
            "flex_flow": null,
            "grid_area": null,
            "grid_auto_columns": null,
            "grid_auto_flow": null,
            "grid_auto_rows": null,
            "grid_column": null,
            "grid_gap": null,
            "grid_row": null,
            "grid_template_areas": null,
            "grid_template_columns": null,
            "grid_template_rows": null,
            "height": null,
            "justify_content": null,
            "justify_items": null,
            "left": null,
            "margin": null,
            "max_height": null,
            "max_width": null,
            "min_height": null,
            "min_width": null,
            "object_fit": null,
            "object_position": null,
            "order": null,
            "overflow": null,
            "overflow_x": null,
            "overflow_y": null,
            "padding": null,
            "right": null,
            "top": null,
            "visibility": null,
            "width": null
          }
        },
        "a9f9bd6f0e60424faf8b8abac45db0c1": {
          "model_module": "@jupyter-widgets/controls",
          "model_name": "DescriptionStyleModel",
          "model_module_version": "1.5.0",
          "state": {
            "_model_module": "@jupyter-widgets/controls",
            "_model_module_version": "1.5.0",
            "_model_name": "DescriptionStyleModel",
            "_view_count": null,
            "_view_module": "@jupyter-widgets/base",
            "_view_module_version": "1.2.0",
            "_view_name": "StyleView",
            "description_width": ""
          }
        },
        "be963a51e32b4a51afb7dacd76839107": {
          "model_module": "@jupyter-widgets/controls",
          "model_name": "ButtonModel",
          "model_module_version": "1.5.0",
          "state": {
            "_dom_classes": [],
            "_model_module": "@jupyter-widgets/controls",
            "_model_module_version": "1.5.0",
            "_model_name": "ButtonModel",
            "_view_count": null,
            "_view_module": "@jupyter-widgets/controls",
            "_view_module_version": "1.5.0",
            "_view_name": "ButtonView",
            "button_style": "",
            "description": "Check my answer",
            "disabled": false,
            "icon": "",
            "layout": "IPY_MODEL_b7483e5fd24f4aaa81e027eebb191d06",
            "style": "IPY_MODEL_7a6cfe04c73845f88124472b10f48582",
            "tooltip": ""
          }
        },
        "b7483e5fd24f4aaa81e027eebb191d06": {
          "model_module": "@jupyter-widgets/base",
          "model_name": "LayoutModel",
          "model_module_version": "1.2.0",
          "state": {
            "_model_module": "@jupyter-widgets/base",
            "_model_module_version": "1.2.0",
            "_model_name": "LayoutModel",
            "_view_count": null,
            "_view_module": "@jupyter-widgets/base",
            "_view_module_version": "1.2.0",
            "_view_name": "LayoutView",
            "align_content": null,
            "align_items": null,
            "align_self": null,
            "border": null,
            "bottom": null,
            "display": null,
            "flex": null,
            "flex_flow": null,
            "grid_area": null,
            "grid_auto_columns": null,
            "grid_auto_flow": null,
            "grid_auto_rows": null,
            "grid_column": null,
            "grid_gap": null,
            "grid_row": null,
            "grid_template_areas": null,
            "grid_template_columns": null,
            "grid_template_rows": null,
            "height": null,
            "justify_content": null,
            "justify_items": null,
            "left": null,
            "margin": null,
            "max_height": null,
            "max_width": null,
            "min_height": null,
            "min_width": null,
            "object_fit": null,
            "object_position": null,
            "order": null,
            "overflow": null,
            "overflow_x": null,
            "overflow_y": null,
            "padding": null,
            "right": null,
            "top": null,
            "visibility": null,
            "width": null
          }
        },
        "7a6cfe04c73845f88124472b10f48582": {
          "model_module": "@jupyter-widgets/controls",
          "model_name": "ButtonStyleModel",
          "model_module_version": "1.5.0",
          "state": {
            "_model_module": "@jupyter-widgets/controls",
            "_model_module_version": "1.5.0",
            "_model_name": "ButtonStyleModel",
            "_view_count": null,
            "_view_module": "@jupyter-widgets/base",
            "_view_module_version": "1.2.0",
            "_view_name": "StyleView",
            "button_color": null,
            "font_weight": ""
          }
        },
        "da8ba2ce71e5431b9e90ef4fffa02425": {
          "model_module": "@jupyter-widgets/output",
          "model_name": "OutputModel",
          "model_module_version": "1.0.0",
          "state": {
            "_dom_classes": [],
            "_model_module": "@jupyter-widgets/output",
            "_model_module_version": "1.0.0",
            "_model_name": "OutputModel",
            "_view_count": null,
            "_view_module": "@jupyter-widgets/output",
            "_view_module_version": "1.0.0",
            "_view_name": "OutputView",
            "layout": "IPY_MODEL_59342126afc747dbac10395c7cf302c9",
            "msg_id": "",
            "outputs": []
          }
        },
        "59342126afc747dbac10395c7cf302c9": {
          "model_module": "@jupyter-widgets/base",
          "model_name": "LayoutModel",
          "model_module_version": "1.2.0",
          "state": {
            "_model_module": "@jupyter-widgets/base",
            "_model_module_version": "1.2.0",
            "_model_name": "LayoutModel",
            "_view_count": null,
            "_view_module": "@jupyter-widgets/base",
            "_view_module_version": "1.2.0",
            "_view_name": "LayoutView",
            "align_content": null,
            "align_items": null,
            "align_self": null,
            "border": null,
            "bottom": null,
            "display": null,
            "flex": null,
            "flex_flow": null,
            "grid_area": null,
            "grid_auto_columns": null,
            "grid_auto_flow": null,
            "grid_auto_rows": null,
            "grid_column": null,
            "grid_gap": null,
            "grid_row": null,
            "grid_template_areas": null,
            "grid_template_columns": null,
            "grid_template_rows": null,
            "height": null,
            "justify_content": null,
            "justify_items": null,
            "left": null,
            "margin": null,
            "max_height": null,
            "max_width": null,
            "min_height": null,
            "min_width": null,
            "object_fit": null,
            "object_position": null,
            "order": null,
            "overflow": null,
            "overflow_x": null,
            "overflow_y": null,
            "padding": null,
            "right": null,
            "top": null,
            "visibility": null,
            "width": null
          }
        },
        "9aff7b7edb6a4c168be9815e7e6c30c8": {
          "model_module": "@jupyter-widgets/controls",
          "model_name": "RadioButtonsModel",
          "model_module_version": "1.5.0",
          "state": {
            "_dom_classes": [],
            "_model_module": "@jupyter-widgets/controls",
            "_model_module_version": "1.5.0",
            "_model_name": "RadioButtonsModel",
            "_options_labels": [
              "1795",
              "9",
              "1796"
            ],
            "_view_count": null,
            "_view_module": "@jupyter-widgets/controls",
            "_view_module_version": "1.5.0",
            "_view_name": "RadioButtonsView",
            "description": "",
            "description_tooltip": null,
            "disabled": false,
            "index": 0,
            "layout": "IPY_MODEL_782128a86930490ba0c186042e10da4a",
            "style": "IPY_MODEL_1d5ad4b9299a41ecbe92c00346e64f0c"
          }
        },
        "782128a86930490ba0c186042e10da4a": {
          "model_module": "@jupyter-widgets/base",
          "model_name": "LayoutModel",
          "model_module_version": "1.2.0",
          "state": {
            "_model_module": "@jupyter-widgets/base",
            "_model_module_version": "1.2.0",
            "_model_name": "LayoutModel",
            "_view_count": null,
            "_view_module": "@jupyter-widgets/base",
            "_view_module_version": "1.2.0",
            "_view_name": "LayoutView",
            "align_content": null,
            "align_items": null,
            "align_self": null,
            "border": null,
            "bottom": null,
            "display": null,
            "flex": null,
            "flex_flow": null,
            "grid_area": null,
            "grid_auto_columns": null,
            "grid_auto_flow": null,
            "grid_auto_rows": null,
            "grid_column": null,
            "grid_gap": null,
            "grid_row": null,
            "grid_template_areas": null,
            "grid_template_columns": null,
            "grid_template_rows": null,
            "height": null,
            "justify_content": null,
            "justify_items": null,
            "left": null,
            "margin": null,
            "max_height": null,
            "max_width": null,
            "min_height": null,
            "min_width": null,
            "object_fit": null,
            "object_position": null,
            "order": null,
            "overflow": null,
            "overflow_x": null,
            "overflow_y": null,
            "padding": null,
            "right": null,
            "top": null,
            "visibility": null,
            "width": null
          }
        },
        "1d5ad4b9299a41ecbe92c00346e64f0c": {
          "model_module": "@jupyter-widgets/controls",
          "model_name": "DescriptionStyleModel",
          "model_module_version": "1.5.0",
          "state": {
            "_model_module": "@jupyter-widgets/controls",
            "_model_module_version": "1.5.0",
            "_model_name": "DescriptionStyleModel",
            "_view_count": null,
            "_view_module": "@jupyter-widgets/base",
            "_view_module_version": "1.2.0",
            "_view_name": "StyleView",
            "description_width": ""
          }
        },
        "5f5026b4dd704b0a8730cf154194a6a0": {
          "model_module": "@jupyter-widgets/controls",
          "model_name": "ButtonModel",
          "model_module_version": "1.5.0",
          "state": {
            "_dom_classes": [],
            "_model_module": "@jupyter-widgets/controls",
            "_model_module_version": "1.5.0",
            "_model_name": "ButtonModel",
            "_view_count": null,
            "_view_module": "@jupyter-widgets/controls",
            "_view_module_version": "1.5.0",
            "_view_name": "ButtonView",
            "button_style": "",
            "description": "Check my answer",
            "disabled": false,
            "icon": "",
            "layout": "IPY_MODEL_6cec72f037934dfc8df4a6ee33b4100a",
            "style": "IPY_MODEL_c19a04a191604318a87ced76cc34c31a",
            "tooltip": ""
          }
        },
        "6cec72f037934dfc8df4a6ee33b4100a": {
          "model_module": "@jupyter-widgets/base",
          "model_name": "LayoutModel",
          "model_module_version": "1.2.0",
          "state": {
            "_model_module": "@jupyter-widgets/base",
            "_model_module_version": "1.2.0",
            "_model_name": "LayoutModel",
            "_view_count": null,
            "_view_module": "@jupyter-widgets/base",
            "_view_module_version": "1.2.0",
            "_view_name": "LayoutView",
            "align_content": null,
            "align_items": null,
            "align_self": null,
            "border": null,
            "bottom": null,
            "display": null,
            "flex": null,
            "flex_flow": null,
            "grid_area": null,
            "grid_auto_columns": null,
            "grid_auto_flow": null,
            "grid_auto_rows": null,
            "grid_column": null,
            "grid_gap": null,
            "grid_row": null,
            "grid_template_areas": null,
            "grid_template_columns": null,
            "grid_template_rows": null,
            "height": null,
            "justify_content": null,
            "justify_items": null,
            "left": null,
            "margin": null,
            "max_height": null,
            "max_width": null,
            "min_height": null,
            "min_width": null,
            "object_fit": null,
            "object_position": null,
            "order": null,
            "overflow": null,
            "overflow_x": null,
            "overflow_y": null,
            "padding": null,
            "right": null,
            "top": null,
            "visibility": null,
            "width": null
          }
        },
        "c19a04a191604318a87ced76cc34c31a": {
          "model_module": "@jupyter-widgets/controls",
          "model_name": "ButtonStyleModel",
          "model_module_version": "1.5.0",
          "state": {
            "_model_module": "@jupyter-widgets/controls",
            "_model_module_version": "1.5.0",
            "_model_name": "ButtonStyleModel",
            "_view_count": null,
            "_view_module": "@jupyter-widgets/base",
            "_view_module_version": "1.2.0",
            "_view_name": "StyleView",
            "button_color": null,
            "font_weight": ""
          }
        },
        "3ec342285f3c4ab79d2d68449a9f5542": {
          "model_module": "@jupyter-widgets/output",
          "model_name": "OutputModel",
          "model_module_version": "1.0.0",
          "state": {
            "_dom_classes": [],
            "_model_module": "@jupyter-widgets/output",
            "_model_module_version": "1.0.0",
            "_model_name": "OutputModel",
            "_view_count": null,
            "_view_module": "@jupyter-widgets/output",
            "_view_module_version": "1.0.0",
            "_view_name": "OutputView",
            "layout": "IPY_MODEL_433da6db8f3849d78d6443b643322de7",
            "msg_id": "",
            "outputs": []
          }
        },
        "433da6db8f3849d78d6443b643322de7": {
          "model_module": "@jupyter-widgets/base",
          "model_name": "LayoutModel",
          "model_module_version": "1.2.0",
          "state": {
            "_model_module": "@jupyter-widgets/base",
            "_model_module_version": "1.2.0",
            "_model_name": "LayoutModel",
            "_view_count": null,
            "_view_module": "@jupyter-widgets/base",
            "_view_module_version": "1.2.0",
            "_view_name": "LayoutView",
            "align_content": null,
            "align_items": null,
            "align_self": null,
            "border": null,
            "bottom": null,
            "display": null,
            "flex": null,
            "flex_flow": null,
            "grid_area": null,
            "grid_auto_columns": null,
            "grid_auto_flow": null,
            "grid_auto_rows": null,
            "grid_column": null,
            "grid_gap": null,
            "grid_row": null,
            "grid_template_areas": null,
            "grid_template_columns": null,
            "grid_template_rows": null,
            "height": null,
            "justify_content": null,
            "justify_items": null,
            "left": null,
            "margin": null,
            "max_height": null,
            "max_width": null,
            "min_height": null,
            "min_width": null,
            "object_fit": null,
            "object_position": null,
            "order": null,
            "overflow": null,
            "overflow_x": null,
            "overflow_y": null,
            "padding": null,
            "right": null,
            "top": null,
            "visibility": null,
            "width": null
          }
        },
        "76921dcd22d649fc8366c58c1f373100": {
          "model_module": "@jupyter-widgets/controls",
          "model_name": "RadioButtonsModel",
          "model_module_version": "1.5.0",
          "state": {
            "_dom_classes": [],
            "_model_module": "@jupyter-widgets/controls",
            "_model_module_version": "1.5.0",
            "_model_name": "RadioButtonsModel",
            "_options_labels": [
              "101",
              "1039",
              "1796"
            ],
            "_view_count": null,
            "_view_module": "@jupyter-widgets/controls",
            "_view_module_version": "1.5.0",
            "_view_name": "RadioButtonsView",
            "description": "",
            "description_tooltip": null,
            "disabled": false,
            "index": 0,
            "layout": "IPY_MODEL_d5b8f6b48c474394bf2770c586f3e97e",
            "style": "IPY_MODEL_611689bba3a94997b2ee000df45346af"
          }
        },
        "d5b8f6b48c474394bf2770c586f3e97e": {
          "model_module": "@jupyter-widgets/base",
          "model_name": "LayoutModel",
          "model_module_version": "1.2.0",
          "state": {
            "_model_module": "@jupyter-widgets/base",
            "_model_module_version": "1.2.0",
            "_model_name": "LayoutModel",
            "_view_count": null,
            "_view_module": "@jupyter-widgets/base",
            "_view_module_version": "1.2.0",
            "_view_name": "LayoutView",
            "align_content": null,
            "align_items": null,
            "align_self": null,
            "border": null,
            "bottom": null,
            "display": null,
            "flex": null,
            "flex_flow": null,
            "grid_area": null,
            "grid_auto_columns": null,
            "grid_auto_flow": null,
            "grid_auto_rows": null,
            "grid_column": null,
            "grid_gap": null,
            "grid_row": null,
            "grid_template_areas": null,
            "grid_template_columns": null,
            "grid_template_rows": null,
            "height": null,
            "justify_content": null,
            "justify_items": null,
            "left": null,
            "margin": null,
            "max_height": null,
            "max_width": null,
            "min_height": null,
            "min_width": null,
            "object_fit": null,
            "object_position": null,
            "order": null,
            "overflow": null,
            "overflow_x": null,
            "overflow_y": null,
            "padding": null,
            "right": null,
            "top": null,
            "visibility": null,
            "width": null
          }
        },
        "611689bba3a94997b2ee000df45346af": {
          "model_module": "@jupyter-widgets/controls",
          "model_name": "DescriptionStyleModel",
          "model_module_version": "1.5.0",
          "state": {
            "_model_module": "@jupyter-widgets/controls",
            "_model_module_version": "1.5.0",
            "_model_name": "DescriptionStyleModel",
            "_view_count": null,
            "_view_module": "@jupyter-widgets/base",
            "_view_module_version": "1.2.0",
            "_view_name": "StyleView",
            "description_width": ""
          }
        },
        "36679aae8b26424294b3a47bf0a70e20": {
          "model_module": "@jupyter-widgets/controls",
          "model_name": "ButtonModel",
          "model_module_version": "1.5.0",
          "state": {
            "_dom_classes": [],
            "_model_module": "@jupyter-widgets/controls",
            "_model_module_version": "1.5.0",
            "_model_name": "ButtonModel",
            "_view_count": null,
            "_view_module": "@jupyter-widgets/controls",
            "_view_module_version": "1.5.0",
            "_view_name": "ButtonView",
            "button_style": "",
            "description": "Check my answer",
            "disabled": false,
            "icon": "",
            "layout": "IPY_MODEL_76f0ed3868fa4c5590ec3a43d089fad5",
            "style": "IPY_MODEL_0f100e6099cd4d0d860a21b2ad8a5394",
            "tooltip": ""
          }
        },
        "76f0ed3868fa4c5590ec3a43d089fad5": {
          "model_module": "@jupyter-widgets/base",
          "model_name": "LayoutModel",
          "model_module_version": "1.2.0",
          "state": {
            "_model_module": "@jupyter-widgets/base",
            "_model_module_version": "1.2.0",
            "_model_name": "LayoutModel",
            "_view_count": null,
            "_view_module": "@jupyter-widgets/base",
            "_view_module_version": "1.2.0",
            "_view_name": "LayoutView",
            "align_content": null,
            "align_items": null,
            "align_self": null,
            "border": null,
            "bottom": null,
            "display": null,
            "flex": null,
            "flex_flow": null,
            "grid_area": null,
            "grid_auto_columns": null,
            "grid_auto_flow": null,
            "grid_auto_rows": null,
            "grid_column": null,
            "grid_gap": null,
            "grid_row": null,
            "grid_template_areas": null,
            "grid_template_columns": null,
            "grid_template_rows": null,
            "height": null,
            "justify_content": null,
            "justify_items": null,
            "left": null,
            "margin": null,
            "max_height": null,
            "max_width": null,
            "min_height": null,
            "min_width": null,
            "object_fit": null,
            "object_position": null,
            "order": null,
            "overflow": null,
            "overflow_x": null,
            "overflow_y": null,
            "padding": null,
            "right": null,
            "top": null,
            "visibility": null,
            "width": null
          }
        },
        "0f100e6099cd4d0d860a21b2ad8a5394": {
          "model_module": "@jupyter-widgets/controls",
          "model_name": "ButtonStyleModel",
          "model_module_version": "1.5.0",
          "state": {
            "_model_module": "@jupyter-widgets/controls",
            "_model_module_version": "1.5.0",
            "_model_name": "ButtonStyleModel",
            "_view_count": null,
            "_view_module": "@jupyter-widgets/base",
            "_view_module_version": "1.2.0",
            "_view_name": "StyleView",
            "button_color": null,
            "font_weight": ""
          }
        },
        "73aed4b43fa44c08aa88633e02bb97d0": {
          "model_module": "@jupyter-widgets/output",
          "model_name": "OutputModel",
          "model_module_version": "1.0.0",
          "state": {
            "_dom_classes": [],
            "_model_module": "@jupyter-widgets/output",
            "_model_module_version": "1.0.0",
            "_model_name": "OutputModel",
            "_view_count": null,
            "_view_module": "@jupyter-widgets/output",
            "_view_module_version": "1.0.0",
            "_view_name": "OutputView",
            "layout": "IPY_MODEL_71e3d46cd5bb4687816cbfa2e25e5ba4",
            "msg_id": "",
            "outputs": []
          }
        },
        "71e3d46cd5bb4687816cbfa2e25e5ba4": {
          "model_module": "@jupyter-widgets/base",
          "model_name": "LayoutModel",
          "model_module_version": "1.2.0",
          "state": {
            "_model_module": "@jupyter-widgets/base",
            "_model_module_version": "1.2.0",
            "_model_name": "LayoutModel",
            "_view_count": null,
            "_view_module": "@jupyter-widgets/base",
            "_view_module_version": "1.2.0",
            "_view_name": "LayoutView",
            "align_content": null,
            "align_items": null,
            "align_self": null,
            "border": null,
            "bottom": null,
            "display": null,
            "flex": null,
            "flex_flow": null,
            "grid_area": null,
            "grid_auto_columns": null,
            "grid_auto_flow": null,
            "grid_auto_rows": null,
            "grid_column": null,
            "grid_gap": null,
            "grid_row": null,
            "grid_template_areas": null,
            "grid_template_columns": null,
            "grid_template_rows": null,
            "height": null,
            "justify_content": null,
            "justify_items": null,
            "left": null,
            "margin": null,
            "max_height": null,
            "max_width": null,
            "min_height": null,
            "min_width": null,
            "object_fit": null,
            "object_position": null,
            "order": null,
            "overflow": null,
            "overflow_x": null,
            "overflow_y": null,
            "padding": null,
            "right": null,
            "top": null,
            "visibility": null,
            "width": null
          }
        },
        "d36b1e0fb91746ccb128bd76a1a6b954": {
          "model_module": "@jupyter-widgets/controls",
          "model_name": "RadioButtonsModel",
          "model_module_version": "1.5.0",
          "state": {
            "_dom_classes": [],
            "_model_module": "@jupyter-widgets/controls",
            "_model_module_version": "1.5.0",
            "_model_name": "RadioButtonsModel",
            "_options_labels": [
              "Togo",
              "Ecuador",
              "Venezuela"
            ],
            "_view_count": null,
            "_view_module": "@jupyter-widgets/controls",
            "_view_module_version": "1.5.0",
            "_view_name": "RadioButtonsView",
            "description": "",
            "description_tooltip": null,
            "disabled": false,
            "index": 0,
            "layout": "IPY_MODEL_28fd21335a84430fba51c38a94524d17",
            "style": "IPY_MODEL_07e556b1271e40429213f422e22e3bcb"
          }
        },
        "28fd21335a84430fba51c38a94524d17": {
          "model_module": "@jupyter-widgets/base",
          "model_name": "LayoutModel",
          "model_module_version": "1.2.0",
          "state": {
            "_model_module": "@jupyter-widgets/base",
            "_model_module_version": "1.2.0",
            "_model_name": "LayoutModel",
            "_view_count": null,
            "_view_module": "@jupyter-widgets/base",
            "_view_module_version": "1.2.0",
            "_view_name": "LayoutView",
            "align_content": null,
            "align_items": null,
            "align_self": null,
            "border": null,
            "bottom": null,
            "display": null,
            "flex": null,
            "flex_flow": null,
            "grid_area": null,
            "grid_auto_columns": null,
            "grid_auto_flow": null,
            "grid_auto_rows": null,
            "grid_column": null,
            "grid_gap": null,
            "grid_row": null,
            "grid_template_areas": null,
            "grid_template_columns": null,
            "grid_template_rows": null,
            "height": null,
            "justify_content": null,
            "justify_items": null,
            "left": null,
            "margin": null,
            "max_height": null,
            "max_width": null,
            "min_height": null,
            "min_width": null,
            "object_fit": null,
            "object_position": null,
            "order": null,
            "overflow": null,
            "overflow_x": null,
            "overflow_y": null,
            "padding": null,
            "right": null,
            "top": null,
            "visibility": null,
            "width": null
          }
        },
        "07e556b1271e40429213f422e22e3bcb": {
          "model_module": "@jupyter-widgets/controls",
          "model_name": "DescriptionStyleModel",
          "model_module_version": "1.5.0",
          "state": {
            "_model_module": "@jupyter-widgets/controls",
            "_model_module_version": "1.5.0",
            "_model_name": "DescriptionStyleModel",
            "_view_count": null,
            "_view_module": "@jupyter-widgets/base",
            "_view_module_version": "1.2.0",
            "_view_name": "StyleView",
            "description_width": ""
          }
        },
        "f6f48837ec304143be5d93664ef6ca4e": {
          "model_module": "@jupyter-widgets/controls",
          "model_name": "ButtonModel",
          "model_module_version": "1.5.0",
          "state": {
            "_dom_classes": [],
            "_model_module": "@jupyter-widgets/controls",
            "_model_module_version": "1.5.0",
            "_model_name": "ButtonModel",
            "_view_count": null,
            "_view_module": "@jupyter-widgets/controls",
            "_view_module_version": "1.5.0",
            "_view_name": "ButtonView",
            "button_style": "",
            "description": "Check my answer",
            "disabled": false,
            "icon": "",
            "layout": "IPY_MODEL_e9fd16212b624e51a1121a878f41709a",
            "style": "IPY_MODEL_9b419de555c2479f8bcbe70376945123",
            "tooltip": ""
          }
        },
        "e9fd16212b624e51a1121a878f41709a": {
          "model_module": "@jupyter-widgets/base",
          "model_name": "LayoutModel",
          "model_module_version": "1.2.0",
          "state": {
            "_model_module": "@jupyter-widgets/base",
            "_model_module_version": "1.2.0",
            "_model_name": "LayoutModel",
            "_view_count": null,
            "_view_module": "@jupyter-widgets/base",
            "_view_module_version": "1.2.0",
            "_view_name": "LayoutView",
            "align_content": null,
            "align_items": null,
            "align_self": null,
            "border": null,
            "bottom": null,
            "display": null,
            "flex": null,
            "flex_flow": null,
            "grid_area": null,
            "grid_auto_columns": null,
            "grid_auto_flow": null,
            "grid_auto_rows": null,
            "grid_column": null,
            "grid_gap": null,
            "grid_row": null,
            "grid_template_areas": null,
            "grid_template_columns": null,
            "grid_template_rows": null,
            "height": null,
            "justify_content": null,
            "justify_items": null,
            "left": null,
            "margin": null,
            "max_height": null,
            "max_width": null,
            "min_height": null,
            "min_width": null,
            "object_fit": null,
            "object_position": null,
            "order": null,
            "overflow": null,
            "overflow_x": null,
            "overflow_y": null,
            "padding": null,
            "right": null,
            "top": null,
            "visibility": null,
            "width": null
          }
        },
        "9b419de555c2479f8bcbe70376945123": {
          "model_module": "@jupyter-widgets/controls",
          "model_name": "ButtonStyleModel",
          "model_module_version": "1.5.0",
          "state": {
            "_model_module": "@jupyter-widgets/controls",
            "_model_module_version": "1.5.0",
            "_model_name": "ButtonStyleModel",
            "_view_count": null,
            "_view_module": "@jupyter-widgets/base",
            "_view_module_version": "1.2.0",
            "_view_name": "StyleView",
            "button_color": null,
            "font_weight": ""
          }
        },
        "9345e3e905644ebcab25bb25a8d714f2": {
          "model_module": "@jupyter-widgets/output",
          "model_name": "OutputModel",
          "model_module_version": "1.0.0",
          "state": {
            "_dom_classes": [],
            "_model_module": "@jupyter-widgets/output",
            "_model_module_version": "1.0.0",
            "_model_name": "OutputModel",
            "_view_count": null,
            "_view_module": "@jupyter-widgets/output",
            "_view_module_version": "1.0.0",
            "_view_name": "OutputView",
            "layout": "IPY_MODEL_b84523f9162c47b59e11867e2fafe41c",
            "msg_id": "",
            "outputs": []
          }
        },
        "b84523f9162c47b59e11867e2fafe41c": {
          "model_module": "@jupyter-widgets/base",
          "model_name": "LayoutModel",
          "model_module_version": "1.2.0",
          "state": {
            "_model_module": "@jupyter-widgets/base",
            "_model_module_version": "1.2.0",
            "_model_name": "LayoutModel",
            "_view_count": null,
            "_view_module": "@jupyter-widgets/base",
            "_view_module_version": "1.2.0",
            "_view_name": "LayoutView",
            "align_content": null,
            "align_items": null,
            "align_self": null,
            "border": null,
            "bottom": null,
            "display": null,
            "flex": null,
            "flex_flow": null,
            "grid_area": null,
            "grid_auto_columns": null,
            "grid_auto_flow": null,
            "grid_auto_rows": null,
            "grid_column": null,
            "grid_gap": null,
            "grid_row": null,
            "grid_template_areas": null,
            "grid_template_columns": null,
            "grid_template_rows": null,
            "height": null,
            "justify_content": null,
            "justify_items": null,
            "left": null,
            "margin": null,
            "max_height": null,
            "max_width": null,
            "min_height": null,
            "min_width": null,
            "object_fit": null,
            "object_position": null,
            "order": null,
            "overflow": null,
            "overflow_x": null,
            "overflow_y": null,
            "padding": null,
            "right": null,
            "top": null,
            "visibility": null,
            "width": null
          }
        },
        "0a7219131b054327a9b8dc9a84feb481": {
          "model_module": "@jupyter-widgets/controls",
          "model_name": "RadioButtonsModel",
          "model_module_version": "1.5.0",
          "state": {
            "_dom_classes": [],
            "_model_module": "@jupyter-widgets/controls",
            "_model_module_version": "1.5.0",
            "_model_name": "RadioButtonsModel",
            "_options_labels": [
              "Brazil",
              "Honduras",
              "Vietnam"
            ],
            "_view_count": null,
            "_view_module": "@jupyter-widgets/controls",
            "_view_module_version": "1.5.0",
            "_view_name": "RadioButtonsView",
            "description": "",
            "description_tooltip": null,
            "disabled": false,
            "index": 0,
            "layout": "IPY_MODEL_1f4750775d79499fbe05d50b1bc76344",
            "style": "IPY_MODEL_c2781f958724412799de6f559314b7ab"
          }
        },
        "1f4750775d79499fbe05d50b1bc76344": {
          "model_module": "@jupyter-widgets/base",
          "model_name": "LayoutModel",
          "model_module_version": "1.2.0",
          "state": {
            "_model_module": "@jupyter-widgets/base",
            "_model_module_version": "1.2.0",
            "_model_name": "LayoutModel",
            "_view_count": null,
            "_view_module": "@jupyter-widgets/base",
            "_view_module_version": "1.2.0",
            "_view_name": "LayoutView",
            "align_content": null,
            "align_items": null,
            "align_self": null,
            "border": null,
            "bottom": null,
            "display": null,
            "flex": null,
            "flex_flow": null,
            "grid_area": null,
            "grid_auto_columns": null,
            "grid_auto_flow": null,
            "grid_auto_rows": null,
            "grid_column": null,
            "grid_gap": null,
            "grid_row": null,
            "grid_template_areas": null,
            "grid_template_columns": null,
            "grid_template_rows": null,
            "height": null,
            "justify_content": null,
            "justify_items": null,
            "left": null,
            "margin": null,
            "max_height": null,
            "max_width": null,
            "min_height": null,
            "min_width": null,
            "object_fit": null,
            "object_position": null,
            "order": null,
            "overflow": null,
            "overflow_x": null,
            "overflow_y": null,
            "padding": null,
            "right": null,
            "top": null,
            "visibility": null,
            "width": null
          }
        },
        "c2781f958724412799de6f559314b7ab": {
          "model_module": "@jupyter-widgets/controls",
          "model_name": "DescriptionStyleModel",
          "model_module_version": "1.5.0",
          "state": {
            "_model_module": "@jupyter-widgets/controls",
            "_model_module_version": "1.5.0",
            "_model_name": "DescriptionStyleModel",
            "_view_count": null,
            "_view_module": "@jupyter-widgets/base",
            "_view_module_version": "1.2.0",
            "_view_name": "StyleView",
            "description_width": ""
          }
        },
        "3c6f479c881b40018dd2edad02df034b": {
          "model_module": "@jupyter-widgets/controls",
          "model_name": "ButtonModel",
          "model_module_version": "1.5.0",
          "state": {
            "_dom_classes": [],
            "_model_module": "@jupyter-widgets/controls",
            "_model_module_version": "1.5.0",
            "_model_name": "ButtonModel",
            "_view_count": null,
            "_view_module": "@jupyter-widgets/controls",
            "_view_module_version": "1.5.0",
            "_view_name": "ButtonView",
            "button_style": "",
            "description": "Check my answer",
            "disabled": false,
            "icon": "",
            "layout": "IPY_MODEL_fb82f2ee225d4c968ce4bfb24869408d",
            "style": "IPY_MODEL_f71df3f6842d4868b6686aae683cd56e",
            "tooltip": ""
          }
        },
        "fb82f2ee225d4c968ce4bfb24869408d": {
          "model_module": "@jupyter-widgets/base",
          "model_name": "LayoutModel",
          "model_module_version": "1.2.0",
          "state": {
            "_model_module": "@jupyter-widgets/base",
            "_model_module_version": "1.2.0",
            "_model_name": "LayoutModel",
            "_view_count": null,
            "_view_module": "@jupyter-widgets/base",
            "_view_module_version": "1.2.0",
            "_view_name": "LayoutView",
            "align_content": null,
            "align_items": null,
            "align_self": null,
            "border": null,
            "bottom": null,
            "display": null,
            "flex": null,
            "flex_flow": null,
            "grid_area": null,
            "grid_auto_columns": null,
            "grid_auto_flow": null,
            "grid_auto_rows": null,
            "grid_column": null,
            "grid_gap": null,
            "grid_row": null,
            "grid_template_areas": null,
            "grid_template_columns": null,
            "grid_template_rows": null,
            "height": null,
            "justify_content": null,
            "justify_items": null,
            "left": null,
            "margin": null,
            "max_height": null,
            "max_width": null,
            "min_height": null,
            "min_width": null,
            "object_fit": null,
            "object_position": null,
            "order": null,
            "overflow": null,
            "overflow_x": null,
            "overflow_y": null,
            "padding": null,
            "right": null,
            "top": null,
            "visibility": null,
            "width": null
          }
        },
        "f71df3f6842d4868b6686aae683cd56e": {
          "model_module": "@jupyter-widgets/controls",
          "model_name": "ButtonStyleModel",
          "model_module_version": "1.5.0",
          "state": {
            "_model_module": "@jupyter-widgets/controls",
            "_model_module_version": "1.5.0",
            "_model_name": "ButtonStyleModel",
            "_view_count": null,
            "_view_module": "@jupyter-widgets/base",
            "_view_module_version": "1.2.0",
            "_view_name": "StyleView",
            "button_color": null,
            "font_weight": ""
          }
        },
        "16ceb9ad372a4befa927e85147c3770a": {
          "model_module": "@jupyter-widgets/output",
          "model_name": "OutputModel",
          "model_module_version": "1.0.0",
          "state": {
            "_dom_classes": [],
            "_model_module": "@jupyter-widgets/output",
            "_model_module_version": "1.0.0",
            "_model_name": "OutputModel",
            "_view_count": null,
            "_view_module": "@jupyter-widgets/output",
            "_view_module_version": "1.0.0",
            "_view_name": "OutputView",
            "layout": "IPY_MODEL_206b3f0ead484ad2a9a5757c0ef6b1aa",
            "msg_id": "",
            "outputs": []
          }
        },
        "206b3f0ead484ad2a9a5757c0ef6b1aa": {
          "model_module": "@jupyter-widgets/base",
          "model_name": "LayoutModel",
          "model_module_version": "1.2.0",
          "state": {
            "_model_module": "@jupyter-widgets/base",
            "_model_module_version": "1.2.0",
            "_model_name": "LayoutModel",
            "_view_count": null,
            "_view_module": "@jupyter-widgets/base",
            "_view_module_version": "1.2.0",
            "_view_name": "LayoutView",
            "align_content": null,
            "align_items": null,
            "align_self": null,
            "border": null,
            "bottom": null,
            "display": null,
            "flex": null,
            "flex_flow": null,
            "grid_area": null,
            "grid_auto_columns": null,
            "grid_auto_flow": null,
            "grid_auto_rows": null,
            "grid_column": null,
            "grid_gap": null,
            "grid_row": null,
            "grid_template_areas": null,
            "grid_template_columns": null,
            "grid_template_rows": null,
            "height": null,
            "justify_content": null,
            "justify_items": null,
            "left": null,
            "margin": null,
            "max_height": null,
            "max_width": null,
            "min_height": null,
            "min_width": null,
            "object_fit": null,
            "object_position": null,
            "order": null,
            "overflow": null,
            "overflow_x": null,
            "overflow_y": null,
            "padding": null,
            "right": null,
            "top": null,
            "visibility": null,
            "width": null
          }
        },
        "1efecef16bb04260a1552bae08c15a82": {
          "model_module": "@jupyter-widgets/controls",
          "model_name": "RadioButtonsModel",
          "model_module_version": "1.5.0",
          "state": {
            "_dom_classes": [],
            "_model_module": "@jupyter-widgets/controls",
            "_model_module_version": "1.5.0",
            "_model_name": "RadioButtonsModel",
            "_options_labels": [
              "Highest ratings for > 90%",
              "Highest ratings for < 50%",
              "Highest ratings for ~ 70%"
            ],
            "_view_count": null,
            "_view_module": "@jupyter-widgets/controls",
            "_view_module_version": "1.5.0",
            "_view_name": "RadioButtonsView",
            "description": "",
            "description_tooltip": null,
            "disabled": false,
            "index": 0,
            "layout": "IPY_MODEL_dcb7858e11b041839304e9d04e85d9d0",
            "style": "IPY_MODEL_843eb595bbd9423281b7fbd0dc189142"
          }
        },
        "dcb7858e11b041839304e9d04e85d9d0": {
          "model_module": "@jupyter-widgets/base",
          "model_name": "LayoutModel",
          "model_module_version": "1.2.0",
          "state": {
            "_model_module": "@jupyter-widgets/base",
            "_model_module_version": "1.2.0",
            "_model_name": "LayoutModel",
            "_view_count": null,
            "_view_module": "@jupyter-widgets/base",
            "_view_module_version": "1.2.0",
            "_view_name": "LayoutView",
            "align_content": null,
            "align_items": null,
            "align_self": null,
            "border": null,
            "bottom": null,
            "display": null,
            "flex": null,
            "flex_flow": null,
            "grid_area": null,
            "grid_auto_columns": null,
            "grid_auto_flow": null,
            "grid_auto_rows": null,
            "grid_column": null,
            "grid_gap": null,
            "grid_row": null,
            "grid_template_areas": null,
            "grid_template_columns": null,
            "grid_template_rows": null,
            "height": null,
            "justify_content": null,
            "justify_items": null,
            "left": null,
            "margin": null,
            "max_height": null,
            "max_width": null,
            "min_height": null,
            "min_width": null,
            "object_fit": null,
            "object_position": null,
            "order": null,
            "overflow": null,
            "overflow_x": null,
            "overflow_y": null,
            "padding": null,
            "right": null,
            "top": null,
            "visibility": null,
            "width": null
          }
        },
        "843eb595bbd9423281b7fbd0dc189142": {
          "model_module": "@jupyter-widgets/controls",
          "model_name": "DescriptionStyleModel",
          "model_module_version": "1.5.0",
          "state": {
            "_model_module": "@jupyter-widgets/controls",
            "_model_module_version": "1.5.0",
            "_model_name": "DescriptionStyleModel",
            "_view_count": null,
            "_view_module": "@jupyter-widgets/base",
            "_view_module_version": "1.2.0",
            "_view_name": "StyleView",
            "description_width": ""
          }
        },
        "cd835573e78c4cb9bc2756a3bd72162a": {
          "model_module": "@jupyter-widgets/controls",
          "model_name": "ButtonModel",
          "model_module_version": "1.5.0",
          "state": {
            "_dom_classes": [],
            "_model_module": "@jupyter-widgets/controls",
            "_model_module_version": "1.5.0",
            "_model_name": "ButtonModel",
            "_view_count": null,
            "_view_module": "@jupyter-widgets/controls",
            "_view_module_version": "1.5.0",
            "_view_name": "ButtonView",
            "button_style": "",
            "description": "Check my answer",
            "disabled": false,
            "icon": "",
            "layout": "IPY_MODEL_d37db0560a704777bb9cec96f7d73ce8",
            "style": "IPY_MODEL_7c471f5c466f4b62ba3149f2e3c91e61",
            "tooltip": ""
          }
        },
        "d37db0560a704777bb9cec96f7d73ce8": {
          "model_module": "@jupyter-widgets/base",
          "model_name": "LayoutModel",
          "model_module_version": "1.2.0",
          "state": {
            "_model_module": "@jupyter-widgets/base",
            "_model_module_version": "1.2.0",
            "_model_name": "LayoutModel",
            "_view_count": null,
            "_view_module": "@jupyter-widgets/base",
            "_view_module_version": "1.2.0",
            "_view_name": "LayoutView",
            "align_content": null,
            "align_items": null,
            "align_self": null,
            "border": null,
            "bottom": null,
            "display": null,
            "flex": null,
            "flex_flow": null,
            "grid_area": null,
            "grid_auto_columns": null,
            "grid_auto_flow": null,
            "grid_auto_rows": null,
            "grid_column": null,
            "grid_gap": null,
            "grid_row": null,
            "grid_template_areas": null,
            "grid_template_columns": null,
            "grid_template_rows": null,
            "height": null,
            "justify_content": null,
            "justify_items": null,
            "left": null,
            "margin": null,
            "max_height": null,
            "max_width": null,
            "min_height": null,
            "min_width": null,
            "object_fit": null,
            "object_position": null,
            "order": null,
            "overflow": null,
            "overflow_x": null,
            "overflow_y": null,
            "padding": null,
            "right": null,
            "top": null,
            "visibility": null,
            "width": null
          }
        },
        "7c471f5c466f4b62ba3149f2e3c91e61": {
          "model_module": "@jupyter-widgets/controls",
          "model_name": "ButtonStyleModel",
          "model_module_version": "1.5.0",
          "state": {
            "_model_module": "@jupyter-widgets/controls",
            "_model_module_version": "1.5.0",
            "_model_name": "ButtonStyleModel",
            "_view_count": null,
            "_view_module": "@jupyter-widgets/base",
            "_view_module_version": "1.2.0",
            "_view_name": "StyleView",
            "button_color": null,
            "font_weight": ""
          }
        },
        "9134e42d27914e828b01bef376364d17": {
          "model_module": "@jupyter-widgets/output",
          "model_name": "OutputModel",
          "model_module_version": "1.0.0",
          "state": {
            "_dom_classes": [],
            "_model_module": "@jupyter-widgets/output",
            "_model_module_version": "1.0.0",
            "_model_name": "OutputModel",
            "_view_count": null,
            "_view_module": "@jupyter-widgets/output",
            "_view_module_version": "1.0.0",
            "_view_name": "OutputView",
            "layout": "IPY_MODEL_648e8d7f874645f7934cb38fe8bd40ab",
            "msg_id": "",
            "outputs": []
          }
        },
        "648e8d7f874645f7934cb38fe8bd40ab": {
          "model_module": "@jupyter-widgets/base",
          "model_name": "LayoutModel",
          "model_module_version": "1.2.0",
          "state": {
            "_model_module": "@jupyter-widgets/base",
            "_model_module_version": "1.2.0",
            "_model_name": "LayoutModel",
            "_view_count": null,
            "_view_module": "@jupyter-widgets/base",
            "_view_module_version": "1.2.0",
            "_view_name": "LayoutView",
            "align_content": null,
            "align_items": null,
            "align_self": null,
            "border": null,
            "bottom": null,
            "display": null,
            "flex": null,
            "flex_flow": null,
            "grid_area": null,
            "grid_auto_columns": null,
            "grid_auto_flow": null,
            "grid_auto_rows": null,
            "grid_column": null,
            "grid_gap": null,
            "grid_row": null,
            "grid_template_areas": null,
            "grid_template_columns": null,
            "grid_template_rows": null,
            "height": null,
            "justify_content": null,
            "justify_items": null,
            "left": null,
            "margin": null,
            "max_height": null,
            "max_width": null,
            "min_height": null,
            "min_width": null,
            "object_fit": null,
            "object_position": null,
            "order": null,
            "overflow": null,
            "overflow_x": null,
            "overflow_y": null,
            "padding": null,
            "right": null,
            "top": null,
            "visibility": null,
            "width": null
          }
        }
      }
    }
  },
  "cells": [
    {
      "cell_type": "markdown",
      "source": [
        "# Exploratory Visualisation with Tabular Data 🍫\n",
        "\n",
        "Often our data lives in tables - in spreadsheets or in CSV files. In this notebook we will explore the tabular dataset [Chocolate Bar Ratings](https://www.kaggle.com/datasets/rtatman/chocolate-bar-ratings?resource=download) available on Kaggle.\n",
        "\n",
        "The learning objectives for this activity are:\n",
        "\n",
        "*   Open the dataset using pandas and examine variables\n",
        "*   Summarise and clean dataset\n",
        "*   Analyse distribution of Chocolate Ratings across the dataset\n",
        "\n",
        "**About the Dataset**\n",
        "\n",
        "This dataset contains expert ratings of over 1,700 individual chocolate bars, along with information on their regional origin, percentage of cocoa, the variety of chocolate bean used and where the beans were grown.\n",
        "\n",
        "Flavors of Cacao Rating System:\n",
        "* 5= Elite (Transcending beyond the ordinary limits)\n",
        "* 4= Premium (Superior flavor development, character and style)\n",
        "* 3= Satisfactory(3.0) to praiseworthy(3.75) (well made with special qualities)\n",
        "* 2= Disappointing (Passable but contains at least one significant flaw)\n",
        "* 1= Unpleasant (mostly unpalatable)\n",
        "Each chocolate is evaluated from a combination of both objective qualities and subjective interpretation. A rating here only represents an experience with one bar from one batch. Batch numbers, vintages and review dates are included in the database when known.\n",
        "\n",
        "More information about the dataset can be found [here](https://www.kaggle.com/datasets/rtatman/chocolate-bar-ratings?resource=download)\n",
        "\n",
        "**Acknowledgements**\n",
        "\n",
        "These ratings were compiled by Brady Brelinski, Founding Member of the Manhattan Chocolate Society. For up-to-date information, as well as additional content (including interviews with craft chocolate makers), please see his website: Flavors of Cacao\n",
        "\n",
        "However, we can use the [pandas](https://pandas.pydata.org) package to work with tabular data in a more convenient way.\n"
      ],
      "metadata": {
        "id": "557iLe2sCfa2"
      }
    },
    {
      "cell_type": "markdown",
      "source": [
        "## Pandas\n",
        "\n",
        "We will use pandas to achieve our learning objectives. You will have already been introduced to Pandas in the previous session.\n",
        "\n"
      ],
      "metadata": {
        "id": "tnUZ_XAVHMu7"
      }
    },
    {
      "cell_type": "code",
      "source": [
        "#@title Question 0\n",
        "import ipywidgets as widgets\n",
        "import sys\n",
        "from IPython.display import display\n",
        "from IPython.display import clear_output\n",
        "\n",
        "out = widgets.Output()\n",
        "\n",
        "alternativ = widgets.RadioButtons(\n",
        "    options=[('Graphs', 1), ('Images', 2), ('DataFrames', 3)],\n",
        "    description='',\n",
        "    disabled=False\n",
        ")\n",
        "print('\\033[1m','1) Pandas helps us to work with what type of data structure?','\\033[0m')\n",
        "check = widgets.Button(description=\"Check my answer\")\n",
        "display(alternativ)\n",
        "display(check)\n",
        "\n",
        "\n",
        "def sjekksvar(b):\n",
        "        a = int(alternativ.value)\n",
        "        right_answer = 3\n",
        "        if(a==right_answer): \n",
        "            color = '\\x1b[6;30;42m' + \"Correct\" + '\\x1b[0m' +\"\\n\" #green color\n",
        "        else:\n",
        "            color = '\\x1b[5;30;41m' + \"False\" + '\\x1b[0m' +\"\\n\" #red color\n",
        "        svar = [\"\",\"\",\"\",\"\"] \n",
        "        with out:\n",
        "            clear_output()\n",
        "        with out:\n",
        "            print(color+\"\"+svar[a-1])   \n",
        "    \n",
        "        \n",
        "        \n",
        "display(out)\n",
        "check.on_click(sjekksvar)"
      ],
      "metadata": {
        "colab": {
          "base_uri": "https://localhost:8080/",
          "height": 130,
          "referenced_widgets": [
            "2446143ff95045f6a33abc32b353fb40",
            "686171ebb40e4c39aeb1bbab05d4e34b",
            "a9f9bd6f0e60424faf8b8abac45db0c1",
            "be963a51e32b4a51afb7dacd76839107",
            "b7483e5fd24f4aaa81e027eebb191d06",
            "7a6cfe04c73845f88124472b10f48582",
            "da8ba2ce71e5431b9e90ef4fffa02425",
            "59342126afc747dbac10395c7cf302c9"
          ]
        },
        "cellView": "form",
        "id": "Cy_hZRgTILaz",
        "outputId": "f782a318-97bb-4ef0-e2f3-dc03ed10ee2b"
      },
      "execution_count": 55,
      "outputs": [
        {
          "output_type": "stream",
          "name": "stdout",
          "text": [
            "\u001b[1m 1) Pandas helps us to work with what type of data structure? \u001b[0m\n"
          ]
        },
        {
          "output_type": "display_data",
          "data": {
            "text/plain": [
              "RadioButtons(options=(('Graphs', 1), ('Images', 2), ('DataFrames', 3)), value=1)"
            ],
            "application/vnd.jupyter.widget-view+json": {
              "version_major": 2,
              "version_minor": 0,
              "model_id": "2446143ff95045f6a33abc32b353fb40"
            }
          },
          "metadata": {}
        },
        {
          "output_type": "display_data",
          "data": {
            "text/plain": [
              "Button(description='Check my answer', style=ButtonStyle())"
            ],
            "application/vnd.jupyter.widget-view+json": {
              "version_major": 2,
              "version_minor": 0,
              "model_id": "be963a51e32b4a51afb7dacd76839107"
            }
          },
          "metadata": {}
        },
        {
          "output_type": "display_data",
          "data": {
            "text/plain": [
              "Output()"
            ],
            "application/vnd.jupyter.widget-view+json": {
              "version_major": 2,
              "version_minor": 0,
              "model_id": "da8ba2ce71e5431b9e90ef4fffa02425"
            }
          },
          "metadata": {}
        }
      ]
    },
    {
      "cell_type": "code",
      "source": [
        "# read in the data\n",
        "\n",
        "import pandas as pd\n",
        "\n",
        "df = pd.read_csv('flavors_of_cacao.csv')"
      ],
      "metadata": {
        "id": "xnJUrpyyCblW"
      },
      "execution_count": null,
      "outputs": []
    },
    {
      "cell_type": "code",
      "source": [
        "df.head()"
      ],
      "metadata": {
        "id": "poWQyz5rD6ug"
      },
      "execution_count": null,
      "outputs": []
    },
    {
      "cell_type": "code",
      "source": [
        "# check for na values\n",
        "df[df.isna().any(axis=1)] # display rows with one or more na values"
      ],
      "metadata": {
        "id": "EDJham8tb9Yo"
      },
      "execution_count": null,
      "outputs": []
    },
    {
      "cell_type": "code",
      "source": [
        "df.dtypes"
      ],
      "metadata": {
        "id": "CTdDw-yZdZ_n"
      },
      "execution_count": null,
      "outputs": []
    },
    {
      "cell_type": "code",
      "source": [
        "# format the variables\n",
        "df['Cocoa\\nPercent'] = df['Cocoa\\nPercent'].apply(lambda x: x.strip('%')).astype('float64')"
      ],
      "metadata": {
        "id": "F3fxRwn9dtN4"
      },
      "execution_count": null,
      "outputs": []
    },
    {
      "cell_type": "code",
      "source": [
        "#@title Question 1\n",
        "out = widgets.Output()\n",
        "\n",
        "alternativ = widgets.RadioButtons(\n",
        "    options=[('1795', 1), ('9', 2), ('1796', 3)],\n",
        "    description='',\n",
        "    disabled=False\n",
        ")\n",
        "print('\\033[1m','1) How many ratings have been collected?','\\033[0m')\n",
        "check = widgets.Button(description=\"Check my answer\")\n",
        "display(alternativ)\n",
        "display(check)\n",
        "\n",
        "\n",
        "def sjekksvar(b):\n",
        "        a = int(alternativ.value)\n",
        "        right_answer = 1\n",
        "        if(a==right_answer): \n",
        "            color = '\\x1b[6;30;42m' + \"Correct\" + '\\x1b[0m' +\"\\n\" #green color\n",
        "        else:\n",
        "            color = '\\x1b[5;30;41m' + \"False\" + '\\x1b[0m' +\"\\n\" #red color\n",
        "        svar = [\"\",\"\",\"\",\"\"] \n",
        "        with out:\n",
        "            clear_output()\n",
        "        with out:\n",
        "            print(color+\"\"+svar[a-1])   \n",
        "    \n",
        "\n",
        "display(out)\n",
        "check.on_click(sjekksvar)"
      ],
      "metadata": {
        "colab": {
          "base_uri": "https://localhost:8080/",
          "height": 130,
          "referenced_widgets": [
            "9aff7b7edb6a4c168be9815e7e6c30c8",
            "782128a86930490ba0c186042e10da4a",
            "1d5ad4b9299a41ecbe92c00346e64f0c",
            "5f5026b4dd704b0a8730cf154194a6a0",
            "6cec72f037934dfc8df4a6ee33b4100a",
            "c19a04a191604318a87ced76cc34c31a",
            "3ec342285f3c4ab79d2d68449a9f5542",
            "433da6db8f3849d78d6443b643322de7"
          ]
        },
        "cellView": "form",
        "id": "7RUBnj1IEqge",
        "outputId": "f88ce670-153f-4631-8373-81605e22ff31"
      },
      "execution_count": 56,
      "outputs": [
        {
          "output_type": "stream",
          "name": "stdout",
          "text": [
            "\u001b[1m 1) How many ratings have been collected? \u001b[0m\n"
          ]
        },
        {
          "output_type": "display_data",
          "data": {
            "text/plain": [
              "RadioButtons(options=(('1795', 1), ('9', 2), ('1796', 3)), value=1)"
            ],
            "application/vnd.jupyter.widget-view+json": {
              "version_major": 2,
              "version_minor": 0,
              "model_id": "9aff7b7edb6a4c168be9815e7e6c30c8"
            }
          },
          "metadata": {}
        },
        {
          "output_type": "display_data",
          "data": {
            "text/plain": [
              "Button(description='Check my answer', style=ButtonStyle())"
            ],
            "application/vnd.jupyter.widget-view+json": {
              "version_major": 2,
              "version_minor": 0,
              "model_id": "5f5026b4dd704b0a8730cf154194a6a0"
            }
          },
          "metadata": {}
        },
        {
          "output_type": "display_data",
          "data": {
            "text/plain": [
              "Output()"
            ],
            "application/vnd.jupyter.widget-view+json": {
              "version_major": 2,
              "version_minor": 0,
              "model_id": "3ec342285f3c4ab79d2d68449a9f5542"
            }
          },
          "metadata": {}
        }
      ]
    },
    {
      "cell_type": "code",
      "source": [
        "# enter code to find out total number of ratings\n"
      ],
      "metadata": {
        "id": "204YSdRPRbBv"
      },
      "execution_count": 57,
      "outputs": []
    },
    {
      "cell_type": "code",
      "source": [
        "#@title Answer 1 - Show Code\n",
        "print (df['Rating'].shape) # here we have the total number of rows\n",
        "print (df['Rating'].count()) # count will give all non na values\n",
        "\n",
        "# we can also examine the distribution of ratings by plotting the histogram\n",
        "df['Rating'].hist(bins=20)"
      ],
      "metadata": {
        "cellView": "form",
        "id": "pa-QAxFSFKl-"
      },
      "execution_count": null,
      "outputs": []
    },
    {
      "cell_type": "code",
      "source": [
        "#@title Question 2\n",
        "out = widgets.Output()\n",
        "\n",
        "alternativ = widgets.RadioButtons(\n",
        "    options=[('101', 1), ('1039', 2), ('1796', 3)],\n",
        "    description='',\n",
        "    disabled=False\n",
        ")\n",
        "print('\\033[1m','1) How many types of Bar or Specific Bean Origin are there?','\\033[0m')\n",
        "check = widgets.Button(description=\"Check my answer\")\n",
        "display(alternativ)\n",
        "display(check)\n",
        "\n",
        "\n",
        "def sjekksvar(b):\n",
        "        a = int(alternativ.value)\n",
        "        right_answer = 2\n",
        "        if(a==right_answer): \n",
        "            color = '\\x1b[6;30;42m' + \"Correct\" + '\\x1b[0m' +\"\\n\" #green color\n",
        "        else:\n",
        "            color = '\\x1b[5;30;41m' + \"False\" + '\\x1b[0m' +\"\\n\" #red color\n",
        "        svar = [\"\",\"\",\"\",\"\"] \n",
        "        with out:\n",
        "            clear_output()\n",
        "        with out:\n",
        "            print(color+\"\"+svar[a-1])   \n",
        "    \n",
        "\n",
        "display(out)\n",
        "check.on_click(sjekksvar)"
      ],
      "metadata": {
        "colab": {
          "base_uri": "https://localhost:8080/",
          "height": 130,
          "referenced_widgets": [
            "76921dcd22d649fc8366c58c1f373100",
            "d5b8f6b48c474394bf2770c586f3e97e",
            "611689bba3a94997b2ee000df45346af",
            "36679aae8b26424294b3a47bf0a70e20",
            "76f0ed3868fa4c5590ec3a43d089fad5",
            "0f100e6099cd4d0d860a21b2ad8a5394",
            "73aed4b43fa44c08aa88633e02bb97d0",
            "71e3d46cd5bb4687816cbfa2e25e5ba4"
          ]
        },
        "cellView": "form",
        "id": "urHRbMVzLOAC",
        "outputId": "789de801-a753-49ad-b899-6d165ea1c79e"
      },
      "execution_count": 58,
      "outputs": [
        {
          "output_type": "stream",
          "name": "stdout",
          "text": [
            "\u001b[1m 1) How many types of Bar or Specific Bean Origin are there? \u001b[0m\n"
          ]
        },
        {
          "output_type": "display_data",
          "data": {
            "text/plain": [
              "RadioButtons(options=(('101', 1), ('1039', 2), ('1796', 3)), value=1)"
            ],
            "application/vnd.jupyter.widget-view+json": {
              "version_major": 2,
              "version_minor": 0,
              "model_id": "76921dcd22d649fc8366c58c1f373100"
            }
          },
          "metadata": {}
        },
        {
          "output_type": "display_data",
          "data": {
            "text/plain": [
              "Button(description='Check my answer', style=ButtonStyle())"
            ],
            "application/vnd.jupyter.widget-view+json": {
              "version_major": 2,
              "version_minor": 0,
              "model_id": "36679aae8b26424294b3a47bf0a70e20"
            }
          },
          "metadata": {}
        },
        {
          "output_type": "display_data",
          "data": {
            "text/plain": [
              "Output()"
            ],
            "application/vnd.jupyter.widget-view+json": {
              "version_major": 2,
              "version_minor": 0,
              "model_id": "73aed4b43fa44c08aa88633e02bb97d0"
            }
          },
          "metadata": {}
        }
      ]
    },
    {
      "cell_type": "code",
      "source": [
        "# enter code to find out number of types of Bar or Specific Bean Origin"
      ],
      "metadata": {
        "id": "TibdMe1eSY3I"
      },
      "execution_count": null,
      "outputs": []
    },
    {
      "cell_type": "code",
      "source": [
        "#@title Answer 2 - Show Code\n",
        "\n",
        "df['Specific Bean Origin\\nor Bar Name'].unique().shape # by calling unique, we get remove any duplicates from the same category"
      ],
      "metadata": {
        "id": "PoZ52NPHa2GV",
        "cellView": "form"
      },
      "execution_count": null,
      "outputs": []
    },
    {
      "cell_type": "code",
      "source": [
        "#@title Question 3\n",
        "out = widgets.Output()\n",
        "\n",
        "alternativ = widgets.RadioButtons(\n",
        "    options=[('Togo', 1), ('Ecuador', 2), ('Venezuela', 3)],\n",
        "    description='',\n",
        "    disabled=False\n",
        ")\n",
        "print('\\033[1m','1) Which country makes the most chocoloate in this dataset?','\\033[0m')\n",
        "check = widgets.Button(description=\"Check my answer\")\n",
        "display(alternativ)\n",
        "display(check)\n",
        "\n",
        "\n",
        "def sjekksvar(b):\n",
        "        a = int(alternativ.value)\n",
        "        right_answer = 3\n",
        "        if(a==right_answer): \n",
        "            color = '\\x1b[6;30;42m' + \"Correct\" + '\\x1b[0m' +\"\\n\" #green color\n",
        "        else:\n",
        "            color = '\\x1b[5;30;41m' + \"False\" + '\\x1b[0m' +\"\\n\" #red color\n",
        "        svar = [\"\",\"\",\"\",\"\"] \n",
        "        with out:\n",
        "            clear_output()\n",
        "        with out:\n",
        "            print(color+\"\"+svar[a-1])   \n",
        "    \n",
        "\n",
        "display(out)\n",
        "check.on_click(sjekksvar)"
      ],
      "metadata": {
        "colab": {
          "base_uri": "https://localhost:8080/",
          "height": 130,
          "referenced_widgets": [
            "d36b1e0fb91746ccb128bd76a1a6b954",
            "28fd21335a84430fba51c38a94524d17",
            "07e556b1271e40429213f422e22e3bcb",
            "f6f48837ec304143be5d93664ef6ca4e",
            "e9fd16212b624e51a1121a878f41709a",
            "9b419de555c2479f8bcbe70376945123",
            "9345e3e905644ebcab25bb25a8d714f2",
            "b84523f9162c47b59e11867e2fafe41c"
          ]
        },
        "cellView": "form",
        "id": "c25TvwV6MaDL",
        "outputId": "006cc418-9a6e-4e58-bade-2b7395fdb11d"
      },
      "execution_count": 59,
      "outputs": [
        {
          "output_type": "stream",
          "name": "stdout",
          "text": [
            "\u001b[1m 1) Which country makes the most chocoloate in this dataset? \u001b[0m\n"
          ]
        },
        {
          "output_type": "display_data",
          "data": {
            "text/plain": [
              "RadioButtons(options=(('Togo', 1), ('Ecuador', 2), ('Venezuela', 3)), value=1)"
            ],
            "application/vnd.jupyter.widget-view+json": {
              "version_major": 2,
              "version_minor": 0,
              "model_id": "d36b1e0fb91746ccb128bd76a1a6b954"
            }
          },
          "metadata": {}
        },
        {
          "output_type": "display_data",
          "data": {
            "text/plain": [
              "Button(description='Check my answer', style=ButtonStyle())"
            ],
            "application/vnd.jupyter.widget-view+json": {
              "version_major": 2,
              "version_minor": 0,
              "model_id": "f6f48837ec304143be5d93664ef6ca4e"
            }
          },
          "metadata": {}
        },
        {
          "output_type": "display_data",
          "data": {
            "text/plain": [
              "Output()"
            ],
            "application/vnd.jupyter.widget-view+json": {
              "version_major": 2,
              "version_minor": 0,
              "model_id": "9345e3e905644ebcab25bb25a8d714f2"
            }
          },
          "metadata": {}
        }
      ]
    },
    {
      "cell_type": "code",
      "source": [
        "# enter your code for finding the country which makes the most chocolate\n",
        "country = df.columns[-1]"
      ],
      "metadata": {
        "id": "83lxYzdDSmW4"
      },
      "execution_count": 61,
      "outputs": []
    },
    {
      "cell_type": "code",
      "source": [
        "#@title Answer 3 - Show Code\n",
        "df['Broad Bean\\nOrigin'].value_counts().plot(kind='bar') # value counts tallies the counts for each category and we can plot this as a bar graph"
      ],
      "metadata": {
        "cellView": "form",
        "id": "Sfkz9QTNOeZX"
      },
      "execution_count": null,
      "outputs": []
    },
    {
      "cell_type": "code",
      "source": [
        "#@title Answer 3 - Show Code\n",
        "# lets make it bigger so we can read the labels\n",
        "import matplotlib.pyplot as plt\n",
        "plt.figure(figsize=(16,10))\n",
        "df['Broad Bean\\nOrigin'].value_counts().plot(kind='bar')"
      ],
      "metadata": {
        "cellView": "form",
        "id": "MmfzdJb2OhTR"
      },
      "execution_count": null,
      "outputs": []
    },
    {
      "cell_type": "code",
      "source": [
        "# notice above there is a missing label for one of the origins, let's see how this is encoded\n",
        "df['Broad Bean\\nOrigin'].value_counts().index[5], df['Broad Bean\\nOrigin'].value_counts()[5]"
      ],
      "metadata": {
        "id": "vlbnNTkZQLNW"
      },
      "execution_count": null,
      "outputs": []
    },
    {
      "cell_type": "code",
      "source": [
        "#@title Question 4\n",
        "out = widgets.Output()\n",
        "\n",
        "alternativ = widgets.RadioButtons(\n",
        "    options=[('Brazil', 1), ('Honduras', 2), ('Vietnam', 3)],\n",
        "    description='',\n",
        "    disabled=False\n",
        ")\n",
        "print('\\033[1m','1) Which countries produce the highest-rated bars?','\\033[0m')\n",
        "check = widgets.Button(description=\"Check my answer\")\n",
        "display(alternativ)\n",
        "display(check)\n",
        "\n",
        "\n",
        "def sjekksvar(b):\n",
        "        a = int(alternativ.value)\n",
        "        right_answer = [2]\n",
        "        if(a in right_answer): \n",
        "            color = '\\x1b[6;30;42m' + \"Correct - Honduras has the highest mean and median value\" + '\\x1b[0m' +\"\\n\" #green color\n",
        "        else:\n",
        "            color = '\\x1b[5;30;41m' + \"False - Both Vietnam and Brazil have the second highest median rating\" + '\\x1b[0m' +\"\\n\" #red color\n",
        "        svar = [\"\",\"\",\"\",\"\"] \n",
        "        with out:\n",
        "            clear_output()\n",
        "        with out:\n",
        "            print(color+\"\"+svar[a-1])   \n",
        "    \n",
        "\n",
        "display(out)\n",
        "check.on_click(sjekksvar)"
      ],
      "metadata": {
        "colab": {
          "base_uri": "https://localhost:8080/",
          "height": 130,
          "referenced_widgets": [
            "0a7219131b054327a9b8dc9a84feb481",
            "1f4750775d79499fbe05d50b1bc76344",
            "c2781f958724412799de6f559314b7ab",
            "3c6f479c881b40018dd2edad02df034b",
            "fb82f2ee225d4c968ce4bfb24869408d",
            "f71df3f6842d4868b6686aae683cd56e",
            "16ceb9ad372a4befa927e85147c3770a",
            "206b3f0ead484ad2a9a5757c0ef6b1aa"
          ]
        },
        "cellView": "form",
        "id": "omBFuVyPQQc4",
        "outputId": "4fc9e85b-d421-424d-9260-17f57af01e42"
      },
      "execution_count": 62,
      "outputs": [
        {
          "output_type": "stream",
          "name": "stdout",
          "text": [
            "\u001b[1m 1) Which countries produce the highest-rated bars? \u001b[0m\n"
          ]
        },
        {
          "output_type": "display_data",
          "data": {
            "text/plain": [
              "RadioButtons(options=(('Brazil', 1), ('Honduras', 2), ('Vietnam', 3)), value=1)"
            ],
            "application/vnd.jupyter.widget-view+json": {
              "version_major": 2,
              "version_minor": 0,
              "model_id": "0a7219131b054327a9b8dc9a84feb481"
            }
          },
          "metadata": {}
        },
        {
          "output_type": "display_data",
          "data": {
            "text/plain": [
              "Button(description='Check my answer', style=ButtonStyle())"
            ],
            "application/vnd.jupyter.widget-view+json": {
              "version_major": 2,
              "version_minor": 0,
              "model_id": "3c6f479c881b40018dd2edad02df034b"
            }
          },
          "metadata": {}
        },
        {
          "output_type": "display_data",
          "data": {
            "text/plain": [
              "Output()"
            ],
            "application/vnd.jupyter.widget-view+json": {
              "version_major": 2,
              "version_minor": 0,
              "model_id": "16ceb9ad372a4befa927e85147c3770a"
            }
          },
          "metadata": {}
        }
      ]
    },
    {
      "cell_type": "code",
      "source": [
        "# enter you answer here. hint: can we be confident about a high ratings when there is only one review?\n"
      ],
      "metadata": {
        "id": "HMq2ZdYqTZnB"
      },
      "execution_count": null,
      "outputs": []
    },
    {
      "cell_type": "code",
      "source": [
        "#@title Answer 4 - Show Code\n",
        "# some countries have very few number of ratings, let's subset our dataframe to include countries which have more than 10 ratings\n",
        "\n",
        "subset = df['Broad Bean\\nOrigin'].value_counts()[df['Broad Bean\\nOrigin'].value_counts() > 10]\n",
        "subset.index\n",
        "\n",
        "subset_df = df[df['Broad Bean\\nOrigin'].isin(list(subset.index))]\n",
        "\n",
        "plot = subset_df.boxplot('Rating', by='Broad Bean\\nOrigin', figsize=(16,10), showmeans=True)\n",
        "plt.xticks(rotation=90)\n",
        "plt.show()"
      ],
      "metadata": {
        "cellView": "form",
        "id": "UrZGyqMvRWIt"
      },
      "execution_count": null,
      "outputs": []
    },
    {
      "cell_type": "code",
      "source": [
        "#@title Answer 4 - Show Code\n",
        "subset_df.groupby(country).mean()['Rating'].sort_values()"
      ],
      "metadata": {
        "cellView": "form",
        "id": "xpB6HF1kd86P"
      },
      "execution_count": null,
      "outputs": []
    },
    {
      "cell_type": "code",
      "source": [
        "#@title Question 5\n",
        "out = widgets.Output()\n",
        "\n",
        "alternativ = widgets.RadioButtons(\n",
        "    options=[('Highest ratings for > 90%', 1), ('Highest ratings for < 50%', 2), ('Highest ratings for ~ 70%', 3)],\n",
        "    description='',\n",
        "    disabled=False\n",
        ")\n",
        "print('\\033[1m','1)  What’s the relationship between cocoa solids percentage and rating??','\\033[0m')\n",
        "check = widgets.Button(description=\"Check my answer\")\n",
        "display(alternativ)\n",
        "display(check)\n",
        "\n",
        "\n",
        "def sjekksvar(b):\n",
        "        a = int(alternativ.value)\n",
        "        right_answer = 3\n",
        "        if(a==right_answer): \n",
        "            color = '\\x1b[6;30;42m' + \"Correct\" + '\\x1b[0m' +\"\\n\" #green color\n",
        "        else:\n",
        "            color = '\\x1b[5;30;41m' + \"False\" + '\\x1b[0m' +\"\\n\" #red color\n",
        "        svar = [\"\",\"\",\"\",\"\"] \n",
        "        with out:\n",
        "            clear_output()\n",
        "        with out:\n",
        "            print(color+\"\"+svar[a-1])   \n",
        "    \n",
        "\n",
        "display(out)\n",
        "check.on_click(sjekksvar)"
      ],
      "metadata": {
        "colab": {
          "base_uri": "https://localhost:8080/",
          "height": 130,
          "referenced_widgets": [
            "1efecef16bb04260a1552bae08c15a82",
            "dcb7858e11b041839304e9d04e85d9d0",
            "843eb595bbd9423281b7fbd0dc189142",
            "cd835573e78c4cb9bc2756a3bd72162a",
            "d37db0560a704777bb9cec96f7d73ce8",
            "7c471f5c466f4b62ba3149f2e3c91e61",
            "9134e42d27914e828b01bef376364d17",
            "648e8d7f874645f7934cb38fe8bd40ab"
          ]
        },
        "cellView": "form",
        "id": "ZzLYPsqjRbmZ",
        "outputId": "2e328d73-65d7-44c5-bba2-f115eefc390d"
      },
      "execution_count": 63,
      "outputs": [
        {
          "output_type": "stream",
          "name": "stdout",
          "text": [
            "\u001b[1m 1)  What’s the relationship between cocoa solids percentage and rating?? \u001b[0m\n"
          ]
        },
        {
          "output_type": "display_data",
          "data": {
            "text/plain": [
              "RadioButtons(options=(('Highest ratings for > 90%', 1), ('Highest ratings for < 50%', 2), ('Highest ratings fo…"
            ],
            "application/vnd.jupyter.widget-view+json": {
              "version_major": 2,
              "version_minor": 0,
              "model_id": "1efecef16bb04260a1552bae08c15a82"
            }
          },
          "metadata": {}
        },
        {
          "output_type": "display_data",
          "data": {
            "text/plain": [
              "Button(description='Check my answer', style=ButtonStyle())"
            ],
            "application/vnd.jupyter.widget-view+json": {
              "version_major": 2,
              "version_minor": 0,
              "model_id": "cd835573e78c4cb9bc2756a3bd72162a"
            }
          },
          "metadata": {}
        },
        {
          "output_type": "display_data",
          "data": {
            "text/plain": [
              "Output()"
            ],
            "application/vnd.jupyter.widget-view+json": {
              "version_major": 2,
              "version_minor": 0,
              "model_id": "9134e42d27914e828b01bef376364d17"
            }
          },
          "metadata": {}
        }
      ]
    },
    {
      "cell_type": "code",
      "source": [
        "# enter your code here"
      ],
      "metadata": {
        "id": "UAHdrjkdTfx_"
      },
      "execution_count": null,
      "outputs": []
    },
    {
      "cell_type": "code",
      "source": [
        "#@title Answer 5 - Show Code\n",
        "\n",
        "df.plot.scatter('Rating', 'Cocoa\\nPercent', figsize=(10,10))"
      ],
      "metadata": {
        "id": "Nqlf5WRxVnQp",
        "cellView": "form"
      },
      "execution_count": null,
      "outputs": []
    },
    {
      "cell_type": "code",
      "source": [
        "#@title\n"
      ],
      "metadata": {
        "cellView": "form",
        "id": "kGDChuOsfGRg"
      },
      "execution_count": null,
      "outputs": []
    }
  ]
}