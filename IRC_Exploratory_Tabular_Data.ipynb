{
  "nbformat": 4,
  "nbformat_minor": 0,
  "metadata": {
    "colab": {
      "provenance": [],
      "toc_visible": true
    },
    "kernelspec": {
      "name": "python3",
      "display_name": "Python 3"
    },
    "language_info": {
      "name": "python"
    },
    "widgets": {
      "application/vnd.jupyter.widget-state+json": {
        "6ca6c75f417f4d3f8d6d57227ffd7350": {
          "model_module": "@jupyter-widgets/controls",
          "model_name": "RadioButtonsModel",
          "model_module_version": "1.5.0",
          "state": {
            "_dom_classes": [],
            "_model_module": "@jupyter-widgets/controls",
            "_model_module_version": "1.5.0",
            "_model_name": "RadioButtonsModel",
            "_options_labels": [
              "Graphs",
              "Images",
              "DataFrames"
            ],
            "_view_count": null,
            "_view_module": "@jupyter-widgets/controls",
            "_view_module_version": "1.5.0",
            "_view_name": "RadioButtonsView",
            "description": "",
            "description_tooltip": null,
            "disabled": false,
            "index": 0,
            "layout": "IPY_MODEL_4eceb6fb92534feb8a33c7bafe164a25",
            "style": "IPY_MODEL_35d4df03f4ea40bab50eee3970e5f22f"
          }
        },
        "4eceb6fb92534feb8a33c7bafe164a25": {
          "model_module": "@jupyter-widgets/base",
          "model_name": "LayoutModel",
          "model_module_version": "1.2.0",
          "state": {
            "_model_module": "@jupyter-widgets/base",
            "_model_module_version": "1.2.0",
            "_model_name": "LayoutModel",
            "_view_count": null,
            "_view_module": "@jupyter-widgets/base",
            "_view_module_version": "1.2.0",
            "_view_name": "LayoutView",
            "align_content": null,
            "align_items": null,
            "align_self": null,
            "border": null,
            "bottom": null,
            "display": null,
            "flex": null,
            "flex_flow": null,
            "grid_area": null,
            "grid_auto_columns": null,
            "grid_auto_flow": null,
            "grid_auto_rows": null,
            "grid_column": null,
            "grid_gap": null,
            "grid_row": null,
            "grid_template_areas": null,
            "grid_template_columns": null,
            "grid_template_rows": null,
            "height": null,
            "justify_content": null,
            "justify_items": null,
            "left": null,
            "margin": null,
            "max_height": null,
            "max_width": null,
            "min_height": null,
            "min_width": null,
            "object_fit": null,
            "object_position": null,
            "order": null,
            "overflow": null,
            "overflow_x": null,
            "overflow_y": null,
            "padding": null,
            "right": null,
            "top": null,
            "visibility": null,
            "width": null
          }
        },
        "35d4df03f4ea40bab50eee3970e5f22f": {
          "model_module": "@jupyter-widgets/controls",
          "model_name": "DescriptionStyleModel",
          "model_module_version": "1.5.0",
          "state": {
            "_model_module": "@jupyter-widgets/controls",
            "_model_module_version": "1.5.0",
            "_model_name": "DescriptionStyleModel",
            "_view_count": null,
            "_view_module": "@jupyter-widgets/base",
            "_view_module_version": "1.2.0",
            "_view_name": "StyleView",
            "description_width": ""
          }
        },
        "feb880229f5a464185fd7e8a0765aea2": {
          "model_module": "@jupyter-widgets/controls",
          "model_name": "ButtonModel",
          "model_module_version": "1.5.0",
          "state": {
            "_dom_classes": [],
            "_model_module": "@jupyter-widgets/controls",
            "_model_module_version": "1.5.0",
            "_model_name": "ButtonModel",
            "_view_count": null,
            "_view_module": "@jupyter-widgets/controls",
            "_view_module_version": "1.5.0",
            "_view_name": "ButtonView",
            "button_style": "",
            "description": "Check my answer",
            "disabled": false,
            "icon": "",
            "layout": "IPY_MODEL_0069f3709abb4bd5ad7e064c6d4b232e",
            "style": "IPY_MODEL_787dd454d4774e65ae536df0925fb1d8",
            "tooltip": ""
          }
        },
        "0069f3709abb4bd5ad7e064c6d4b232e": {
          "model_module": "@jupyter-widgets/base",
          "model_name": "LayoutModel",
          "model_module_version": "1.2.0",
          "state": {
            "_model_module": "@jupyter-widgets/base",
            "_model_module_version": "1.2.0",
            "_model_name": "LayoutModel",
            "_view_count": null,
            "_view_module": "@jupyter-widgets/base",
            "_view_module_version": "1.2.0",
            "_view_name": "LayoutView",
            "align_content": null,
            "align_items": null,
            "align_self": null,
            "border": null,
            "bottom": null,
            "display": null,
            "flex": null,
            "flex_flow": null,
            "grid_area": null,
            "grid_auto_columns": null,
            "grid_auto_flow": null,
            "grid_auto_rows": null,
            "grid_column": null,
            "grid_gap": null,
            "grid_row": null,
            "grid_template_areas": null,
            "grid_template_columns": null,
            "grid_template_rows": null,
            "height": null,
            "justify_content": null,
            "justify_items": null,
            "left": null,
            "margin": null,
            "max_height": null,
            "max_width": null,
            "min_height": null,
            "min_width": null,
            "object_fit": null,
            "object_position": null,
            "order": null,
            "overflow": null,
            "overflow_x": null,
            "overflow_y": null,
            "padding": null,
            "right": null,
            "top": null,
            "visibility": null,
            "width": null
          }
        },
        "787dd454d4774e65ae536df0925fb1d8": {
          "model_module": "@jupyter-widgets/controls",
          "model_name": "ButtonStyleModel",
          "model_module_version": "1.5.0",
          "state": {
            "_model_module": "@jupyter-widgets/controls",
            "_model_module_version": "1.5.0",
            "_model_name": "ButtonStyleModel",
            "_view_count": null,
            "_view_module": "@jupyter-widgets/base",
            "_view_module_version": "1.2.0",
            "_view_name": "StyleView",
            "button_color": null,
            "font_weight": ""
          }
        },
        "95062c2c3cd64726b72072bdec0b3f1b": {
          "model_module": "@jupyter-widgets/output",
          "model_name": "OutputModel",
          "model_module_version": "1.0.0",
          "state": {
            "_dom_classes": [],
            "_model_module": "@jupyter-widgets/output",
            "_model_module_version": "1.0.0",
            "_model_name": "OutputModel",
            "_view_count": null,
            "_view_module": "@jupyter-widgets/output",
            "_view_module_version": "1.0.0",
            "_view_name": "OutputView",
            "layout": "IPY_MODEL_4c9861e30b744d1c8f11e4119737cbd0",
            "msg_id": "",
            "outputs": []
          }
        },
        "4c9861e30b744d1c8f11e4119737cbd0": {
          "model_module": "@jupyter-widgets/base",
          "model_name": "LayoutModel",
          "model_module_version": "1.2.0",
          "state": {
            "_model_module": "@jupyter-widgets/base",
            "_model_module_version": "1.2.0",
            "_model_name": "LayoutModel",
            "_view_count": null,
            "_view_module": "@jupyter-widgets/base",
            "_view_module_version": "1.2.0",
            "_view_name": "LayoutView",
            "align_content": null,
            "align_items": null,
            "align_self": null,
            "border": null,
            "bottom": null,
            "display": null,
            "flex": null,
            "flex_flow": null,
            "grid_area": null,
            "grid_auto_columns": null,
            "grid_auto_flow": null,
            "grid_auto_rows": null,
            "grid_column": null,
            "grid_gap": null,
            "grid_row": null,
            "grid_template_areas": null,
            "grid_template_columns": null,
            "grid_template_rows": null,
            "height": null,
            "justify_content": null,
            "justify_items": null,
            "left": null,
            "margin": null,
            "max_height": null,
            "max_width": null,
            "min_height": null,
            "min_width": null,
            "object_fit": null,
            "object_position": null,
            "order": null,
            "overflow": null,
            "overflow_x": null,
            "overflow_y": null,
            "padding": null,
            "right": null,
            "top": null,
            "visibility": null,
            "width": null
          }
        },
        "53e2bb6a11614b98921e404fa2b5f47f": {
          "model_module": "@jupyter-widgets/controls",
          "model_name": "RadioButtonsModel",
          "model_module_version": "1.5.0",
          "state": {
            "_dom_classes": [],
            "_model_module": "@jupyter-widgets/controls",
            "_model_module_version": "1.5.0",
            "_model_name": "RadioButtonsModel",
            "_options_labels": [
              "1795",
              "9",
              "1796"
            ],
            "_view_count": null,
            "_view_module": "@jupyter-widgets/controls",
            "_view_module_version": "1.5.0",
            "_view_name": "RadioButtonsView",
            "description": "",
            "description_tooltip": null,
            "disabled": false,
            "index": 0,
            "layout": "IPY_MODEL_da80e64e587c4aafa462278090e8dc2e",
            "style": "IPY_MODEL_77757fe3998746a1ae189a5d0a7684be"
          }
        },
        "da80e64e587c4aafa462278090e8dc2e": {
          "model_module": "@jupyter-widgets/base",
          "model_name": "LayoutModel",
          "model_module_version": "1.2.0",
          "state": {
            "_model_module": "@jupyter-widgets/base",
            "_model_module_version": "1.2.0",
            "_model_name": "LayoutModel",
            "_view_count": null,
            "_view_module": "@jupyter-widgets/base",
            "_view_module_version": "1.2.0",
            "_view_name": "LayoutView",
            "align_content": null,
            "align_items": null,
            "align_self": null,
            "border": null,
            "bottom": null,
            "display": null,
            "flex": null,
            "flex_flow": null,
            "grid_area": null,
            "grid_auto_columns": null,
            "grid_auto_flow": null,
            "grid_auto_rows": null,
            "grid_column": null,
            "grid_gap": null,
            "grid_row": null,
            "grid_template_areas": null,
            "grid_template_columns": null,
            "grid_template_rows": null,
            "height": null,
            "justify_content": null,
            "justify_items": null,
            "left": null,
            "margin": null,
            "max_height": null,
            "max_width": null,
            "min_height": null,
            "min_width": null,
            "object_fit": null,
            "object_position": null,
            "order": null,
            "overflow": null,
            "overflow_x": null,
            "overflow_y": null,
            "padding": null,
            "right": null,
            "top": null,
            "visibility": null,
            "width": null
          }
        },
        "77757fe3998746a1ae189a5d0a7684be": {
          "model_module": "@jupyter-widgets/controls",
          "model_name": "DescriptionStyleModel",
          "model_module_version": "1.5.0",
          "state": {
            "_model_module": "@jupyter-widgets/controls",
            "_model_module_version": "1.5.0",
            "_model_name": "DescriptionStyleModel",
            "_view_count": null,
            "_view_module": "@jupyter-widgets/base",
            "_view_module_version": "1.2.0",
            "_view_name": "StyleView",
            "description_width": ""
          }
        },
        "b077972656a24e16989f407be5379f70": {
          "model_module": "@jupyter-widgets/controls",
          "model_name": "ButtonModel",
          "model_module_version": "1.5.0",
          "state": {
            "_dom_classes": [],
            "_model_module": "@jupyter-widgets/controls",
            "_model_module_version": "1.5.0",
            "_model_name": "ButtonModel",
            "_view_count": null,
            "_view_module": "@jupyter-widgets/controls",
            "_view_module_version": "1.5.0",
            "_view_name": "ButtonView",
            "button_style": "",
            "description": "Check my answer",
            "disabled": false,
            "icon": "",
            "layout": "IPY_MODEL_aeca7f3162d640b8b9217aae96d582c1",
            "style": "IPY_MODEL_3418552bb7c741599b91cd44a0e542f9",
            "tooltip": ""
          }
        },
        "aeca7f3162d640b8b9217aae96d582c1": {
          "model_module": "@jupyter-widgets/base",
          "model_name": "LayoutModel",
          "model_module_version": "1.2.0",
          "state": {
            "_model_module": "@jupyter-widgets/base",
            "_model_module_version": "1.2.0",
            "_model_name": "LayoutModel",
            "_view_count": null,
            "_view_module": "@jupyter-widgets/base",
            "_view_module_version": "1.2.0",
            "_view_name": "LayoutView",
            "align_content": null,
            "align_items": null,
            "align_self": null,
            "border": null,
            "bottom": null,
            "display": null,
            "flex": null,
            "flex_flow": null,
            "grid_area": null,
            "grid_auto_columns": null,
            "grid_auto_flow": null,
            "grid_auto_rows": null,
            "grid_column": null,
            "grid_gap": null,
            "grid_row": null,
            "grid_template_areas": null,
            "grid_template_columns": null,
            "grid_template_rows": null,
            "height": null,
            "justify_content": null,
            "justify_items": null,
            "left": null,
            "margin": null,
            "max_height": null,
            "max_width": null,
            "min_height": null,
            "min_width": null,
            "object_fit": null,
            "object_position": null,
            "order": null,
            "overflow": null,
            "overflow_x": null,
            "overflow_y": null,
            "padding": null,
            "right": null,
            "top": null,
            "visibility": null,
            "width": null
          }
        },
        "3418552bb7c741599b91cd44a0e542f9": {
          "model_module": "@jupyter-widgets/controls",
          "model_name": "ButtonStyleModel",
          "model_module_version": "1.5.0",
          "state": {
            "_model_module": "@jupyter-widgets/controls",
            "_model_module_version": "1.5.0",
            "_model_name": "ButtonStyleModel",
            "_view_count": null,
            "_view_module": "@jupyter-widgets/base",
            "_view_module_version": "1.2.0",
            "_view_name": "StyleView",
            "button_color": null,
            "font_weight": ""
          }
        },
        "5c0b4516918a48bea605d83d77cc4a7e": {
          "model_module": "@jupyter-widgets/output",
          "model_name": "OutputModel",
          "model_module_version": "1.0.0",
          "state": {
            "_dom_classes": [],
            "_model_module": "@jupyter-widgets/output",
            "_model_module_version": "1.0.0",
            "_model_name": "OutputModel",
            "_view_count": null,
            "_view_module": "@jupyter-widgets/output",
            "_view_module_version": "1.0.0",
            "_view_name": "OutputView",
            "layout": "IPY_MODEL_7957b28542824c45ab2a55a34d514d53",
            "msg_id": "",
            "outputs": []
          }
        },
        "7957b28542824c45ab2a55a34d514d53": {
          "model_module": "@jupyter-widgets/base",
          "model_name": "LayoutModel",
          "model_module_version": "1.2.0",
          "state": {
            "_model_module": "@jupyter-widgets/base",
            "_model_module_version": "1.2.0",
            "_model_name": "LayoutModel",
            "_view_count": null,
            "_view_module": "@jupyter-widgets/base",
            "_view_module_version": "1.2.0",
            "_view_name": "LayoutView",
            "align_content": null,
            "align_items": null,
            "align_self": null,
            "border": null,
            "bottom": null,
            "display": null,
            "flex": null,
            "flex_flow": null,
            "grid_area": null,
            "grid_auto_columns": null,
            "grid_auto_flow": null,
            "grid_auto_rows": null,
            "grid_column": null,
            "grid_gap": null,
            "grid_row": null,
            "grid_template_areas": null,
            "grid_template_columns": null,
            "grid_template_rows": null,
            "height": null,
            "justify_content": null,
            "justify_items": null,
            "left": null,
            "margin": null,
            "max_height": null,
            "max_width": null,
            "min_height": null,
            "min_width": null,
            "object_fit": null,
            "object_position": null,
            "order": null,
            "overflow": null,
            "overflow_x": null,
            "overflow_y": null,
            "padding": null,
            "right": null,
            "top": null,
            "visibility": null,
            "width": null
          }
        },
        "57fbe713525d4af489493031d7476572": {
          "model_module": "@jupyter-widgets/controls",
          "model_name": "RadioButtonsModel",
          "model_module_version": "1.5.0",
          "state": {
            "_dom_classes": [],
            "_model_module": "@jupyter-widgets/controls",
            "_model_module_version": "1.5.0",
            "_model_name": "RadioButtonsModel",
            "_options_labels": [
              "101",
              "1039",
              "1796"
            ],
            "_view_count": null,
            "_view_module": "@jupyter-widgets/controls",
            "_view_module_version": "1.5.0",
            "_view_name": "RadioButtonsView",
            "description": "",
            "description_tooltip": null,
            "disabled": false,
            "index": 0,
            "layout": "IPY_MODEL_bbf1b7931a6b4da9845a23f6ff44c249",
            "style": "IPY_MODEL_1f365a0a34d54c8fbfb09b20f4042875"
          }
        },
        "bbf1b7931a6b4da9845a23f6ff44c249": {
          "model_module": "@jupyter-widgets/base",
          "model_name": "LayoutModel",
          "model_module_version": "1.2.0",
          "state": {
            "_model_module": "@jupyter-widgets/base",
            "_model_module_version": "1.2.0",
            "_model_name": "LayoutModel",
            "_view_count": null,
            "_view_module": "@jupyter-widgets/base",
            "_view_module_version": "1.2.0",
            "_view_name": "LayoutView",
            "align_content": null,
            "align_items": null,
            "align_self": null,
            "border": null,
            "bottom": null,
            "display": null,
            "flex": null,
            "flex_flow": null,
            "grid_area": null,
            "grid_auto_columns": null,
            "grid_auto_flow": null,
            "grid_auto_rows": null,
            "grid_column": null,
            "grid_gap": null,
            "grid_row": null,
            "grid_template_areas": null,
            "grid_template_columns": null,
            "grid_template_rows": null,
            "height": null,
            "justify_content": null,
            "justify_items": null,
            "left": null,
            "margin": null,
            "max_height": null,
            "max_width": null,
            "min_height": null,
            "min_width": null,
            "object_fit": null,
            "object_position": null,
            "order": null,
            "overflow": null,
            "overflow_x": null,
            "overflow_y": null,
            "padding": null,
            "right": null,
            "top": null,
            "visibility": null,
            "width": null
          }
        },
        "1f365a0a34d54c8fbfb09b20f4042875": {
          "model_module": "@jupyter-widgets/controls",
          "model_name": "DescriptionStyleModel",
          "model_module_version": "1.5.0",
          "state": {
            "_model_module": "@jupyter-widgets/controls",
            "_model_module_version": "1.5.0",
            "_model_name": "DescriptionStyleModel",
            "_view_count": null,
            "_view_module": "@jupyter-widgets/base",
            "_view_module_version": "1.2.0",
            "_view_name": "StyleView",
            "description_width": ""
          }
        },
        "6136191208af4da1866f4b44bdfd3073": {
          "model_module": "@jupyter-widgets/controls",
          "model_name": "ButtonModel",
          "model_module_version": "1.5.0",
          "state": {
            "_dom_classes": [],
            "_model_module": "@jupyter-widgets/controls",
            "_model_module_version": "1.5.0",
            "_model_name": "ButtonModel",
            "_view_count": null,
            "_view_module": "@jupyter-widgets/controls",
            "_view_module_version": "1.5.0",
            "_view_name": "ButtonView",
            "button_style": "",
            "description": "Check my answer",
            "disabled": false,
            "icon": "",
            "layout": "IPY_MODEL_3144766ae0bb42659d06425e87998718",
            "style": "IPY_MODEL_7f4f8e70529d486a981f210172ea39bf",
            "tooltip": ""
          }
        },
        "3144766ae0bb42659d06425e87998718": {
          "model_module": "@jupyter-widgets/base",
          "model_name": "LayoutModel",
          "model_module_version": "1.2.0",
          "state": {
            "_model_module": "@jupyter-widgets/base",
            "_model_module_version": "1.2.0",
            "_model_name": "LayoutModel",
            "_view_count": null,
            "_view_module": "@jupyter-widgets/base",
            "_view_module_version": "1.2.0",
            "_view_name": "LayoutView",
            "align_content": null,
            "align_items": null,
            "align_self": null,
            "border": null,
            "bottom": null,
            "display": null,
            "flex": null,
            "flex_flow": null,
            "grid_area": null,
            "grid_auto_columns": null,
            "grid_auto_flow": null,
            "grid_auto_rows": null,
            "grid_column": null,
            "grid_gap": null,
            "grid_row": null,
            "grid_template_areas": null,
            "grid_template_columns": null,
            "grid_template_rows": null,
            "height": null,
            "justify_content": null,
            "justify_items": null,
            "left": null,
            "margin": null,
            "max_height": null,
            "max_width": null,
            "min_height": null,
            "min_width": null,
            "object_fit": null,
            "object_position": null,
            "order": null,
            "overflow": null,
            "overflow_x": null,
            "overflow_y": null,
            "padding": null,
            "right": null,
            "top": null,
            "visibility": null,
            "width": null
          }
        },
        "7f4f8e70529d486a981f210172ea39bf": {
          "model_module": "@jupyter-widgets/controls",
          "model_name": "ButtonStyleModel",
          "model_module_version": "1.5.0",
          "state": {
            "_model_module": "@jupyter-widgets/controls",
            "_model_module_version": "1.5.0",
            "_model_name": "ButtonStyleModel",
            "_view_count": null,
            "_view_module": "@jupyter-widgets/base",
            "_view_module_version": "1.2.0",
            "_view_name": "StyleView",
            "button_color": null,
            "font_weight": ""
          }
        },
        "b7552a39ecd4447fb953bd184a192c00": {
          "model_module": "@jupyter-widgets/output",
          "model_name": "OutputModel",
          "model_module_version": "1.0.0",
          "state": {
            "_dom_classes": [],
            "_model_module": "@jupyter-widgets/output",
            "_model_module_version": "1.0.0",
            "_model_name": "OutputModel",
            "_view_count": null,
            "_view_module": "@jupyter-widgets/output",
            "_view_module_version": "1.0.0",
            "_view_name": "OutputView",
            "layout": "IPY_MODEL_018370f2621248c8a78806b0ae974e9c",
            "msg_id": "",
            "outputs": []
          }
        },
        "018370f2621248c8a78806b0ae974e9c": {
          "model_module": "@jupyter-widgets/base",
          "model_name": "LayoutModel",
          "model_module_version": "1.2.0",
          "state": {
            "_model_module": "@jupyter-widgets/base",
            "_model_module_version": "1.2.0",
            "_model_name": "LayoutModel",
            "_view_count": null,
            "_view_module": "@jupyter-widgets/base",
            "_view_module_version": "1.2.0",
            "_view_name": "LayoutView",
            "align_content": null,
            "align_items": null,
            "align_self": null,
            "border": null,
            "bottom": null,
            "display": null,
            "flex": null,
            "flex_flow": null,
            "grid_area": null,
            "grid_auto_columns": null,
            "grid_auto_flow": null,
            "grid_auto_rows": null,
            "grid_column": null,
            "grid_gap": null,
            "grid_row": null,
            "grid_template_areas": null,
            "grid_template_columns": null,
            "grid_template_rows": null,
            "height": null,
            "justify_content": null,
            "justify_items": null,
            "left": null,
            "margin": null,
            "max_height": null,
            "max_width": null,
            "min_height": null,
            "min_width": null,
            "object_fit": null,
            "object_position": null,
            "order": null,
            "overflow": null,
            "overflow_x": null,
            "overflow_y": null,
            "padding": null,
            "right": null,
            "top": null,
            "visibility": null,
            "width": null
          }
        },
        "3bd48286999b4848bd8d46e0b02ec498": {
          "model_module": "@jupyter-widgets/controls",
          "model_name": "RadioButtonsModel",
          "model_module_version": "1.5.0",
          "state": {
            "_dom_classes": [],
            "_model_module": "@jupyter-widgets/controls",
            "_model_module_version": "1.5.0",
            "_model_name": "RadioButtonsModel",
            "_options_labels": [
              "Togo",
              "Ecuador",
              "Venezuela"
            ],
            "_view_count": null,
            "_view_module": "@jupyter-widgets/controls",
            "_view_module_version": "1.5.0",
            "_view_name": "RadioButtonsView",
            "description": "",
            "description_tooltip": null,
            "disabled": false,
            "index": 0,
            "layout": "IPY_MODEL_34615ca5437943978c38e7770e8f3627",
            "style": "IPY_MODEL_61f86b37a0f44fe18706916e48c1ecd7"
          }
        },
        "34615ca5437943978c38e7770e8f3627": {
          "model_module": "@jupyter-widgets/base",
          "model_name": "LayoutModel",
          "model_module_version": "1.2.0",
          "state": {
            "_model_module": "@jupyter-widgets/base",
            "_model_module_version": "1.2.0",
            "_model_name": "LayoutModel",
            "_view_count": null,
            "_view_module": "@jupyter-widgets/base",
            "_view_module_version": "1.2.0",
            "_view_name": "LayoutView",
            "align_content": null,
            "align_items": null,
            "align_self": null,
            "border": null,
            "bottom": null,
            "display": null,
            "flex": null,
            "flex_flow": null,
            "grid_area": null,
            "grid_auto_columns": null,
            "grid_auto_flow": null,
            "grid_auto_rows": null,
            "grid_column": null,
            "grid_gap": null,
            "grid_row": null,
            "grid_template_areas": null,
            "grid_template_columns": null,
            "grid_template_rows": null,
            "height": null,
            "justify_content": null,
            "justify_items": null,
            "left": null,
            "margin": null,
            "max_height": null,
            "max_width": null,
            "min_height": null,
            "min_width": null,
            "object_fit": null,
            "object_position": null,
            "order": null,
            "overflow": null,
            "overflow_x": null,
            "overflow_y": null,
            "padding": null,
            "right": null,
            "top": null,
            "visibility": null,
            "width": null
          }
        },
        "61f86b37a0f44fe18706916e48c1ecd7": {
          "model_module": "@jupyter-widgets/controls",
          "model_name": "DescriptionStyleModel",
          "model_module_version": "1.5.0",
          "state": {
            "_model_module": "@jupyter-widgets/controls",
            "_model_module_version": "1.5.0",
            "_model_name": "DescriptionStyleModel",
            "_view_count": null,
            "_view_module": "@jupyter-widgets/base",
            "_view_module_version": "1.2.0",
            "_view_name": "StyleView",
            "description_width": ""
          }
        },
        "c74416090094435b8b272a3f3e986e4f": {
          "model_module": "@jupyter-widgets/controls",
          "model_name": "ButtonModel",
          "model_module_version": "1.5.0",
          "state": {
            "_dom_classes": [],
            "_model_module": "@jupyter-widgets/controls",
            "_model_module_version": "1.5.0",
            "_model_name": "ButtonModel",
            "_view_count": null,
            "_view_module": "@jupyter-widgets/controls",
            "_view_module_version": "1.5.0",
            "_view_name": "ButtonView",
            "button_style": "",
            "description": "Check my answer",
            "disabled": false,
            "icon": "",
            "layout": "IPY_MODEL_f4465fa0cbb44412aee055220872d358",
            "style": "IPY_MODEL_415fa064d9284d6283b7c22d457b9ec4",
            "tooltip": ""
          }
        },
        "f4465fa0cbb44412aee055220872d358": {
          "model_module": "@jupyter-widgets/base",
          "model_name": "LayoutModel",
          "model_module_version": "1.2.0",
          "state": {
            "_model_module": "@jupyter-widgets/base",
            "_model_module_version": "1.2.0",
            "_model_name": "LayoutModel",
            "_view_count": null,
            "_view_module": "@jupyter-widgets/base",
            "_view_module_version": "1.2.0",
            "_view_name": "LayoutView",
            "align_content": null,
            "align_items": null,
            "align_self": null,
            "border": null,
            "bottom": null,
            "display": null,
            "flex": null,
            "flex_flow": null,
            "grid_area": null,
            "grid_auto_columns": null,
            "grid_auto_flow": null,
            "grid_auto_rows": null,
            "grid_column": null,
            "grid_gap": null,
            "grid_row": null,
            "grid_template_areas": null,
            "grid_template_columns": null,
            "grid_template_rows": null,
            "height": null,
            "justify_content": null,
            "justify_items": null,
            "left": null,
            "margin": null,
            "max_height": null,
            "max_width": null,
            "min_height": null,
            "min_width": null,
            "object_fit": null,
            "object_position": null,
            "order": null,
            "overflow": null,
            "overflow_x": null,
            "overflow_y": null,
            "padding": null,
            "right": null,
            "top": null,
            "visibility": null,
            "width": null
          }
        },
        "415fa064d9284d6283b7c22d457b9ec4": {
          "model_module": "@jupyter-widgets/controls",
          "model_name": "ButtonStyleModel",
          "model_module_version": "1.5.0",
          "state": {
            "_model_module": "@jupyter-widgets/controls",
            "_model_module_version": "1.5.0",
            "_model_name": "ButtonStyleModel",
            "_view_count": null,
            "_view_module": "@jupyter-widgets/base",
            "_view_module_version": "1.2.0",
            "_view_name": "StyleView",
            "button_color": null,
            "font_weight": ""
          }
        },
        "e2160cc32be04b089ecf9879d241eec8": {
          "model_module": "@jupyter-widgets/output",
          "model_name": "OutputModel",
          "model_module_version": "1.0.0",
          "state": {
            "_dom_classes": [],
            "_model_module": "@jupyter-widgets/output",
            "_model_module_version": "1.0.0",
            "_model_name": "OutputModel",
            "_view_count": null,
            "_view_module": "@jupyter-widgets/output",
            "_view_module_version": "1.0.0",
            "_view_name": "OutputView",
            "layout": "IPY_MODEL_86d914ca7c4646118f6983cc355fc90f",
            "msg_id": "",
            "outputs": []
          }
        },
        "86d914ca7c4646118f6983cc355fc90f": {
          "model_module": "@jupyter-widgets/base",
          "model_name": "LayoutModel",
          "model_module_version": "1.2.0",
          "state": {
            "_model_module": "@jupyter-widgets/base",
            "_model_module_version": "1.2.0",
            "_model_name": "LayoutModel",
            "_view_count": null,
            "_view_module": "@jupyter-widgets/base",
            "_view_module_version": "1.2.0",
            "_view_name": "LayoutView",
            "align_content": null,
            "align_items": null,
            "align_self": null,
            "border": null,
            "bottom": null,
            "display": null,
            "flex": null,
            "flex_flow": null,
            "grid_area": null,
            "grid_auto_columns": null,
            "grid_auto_flow": null,
            "grid_auto_rows": null,
            "grid_column": null,
            "grid_gap": null,
            "grid_row": null,
            "grid_template_areas": null,
            "grid_template_columns": null,
            "grid_template_rows": null,
            "height": null,
            "justify_content": null,
            "justify_items": null,
            "left": null,
            "margin": null,
            "max_height": null,
            "max_width": null,
            "min_height": null,
            "min_width": null,
            "object_fit": null,
            "object_position": null,
            "order": null,
            "overflow": null,
            "overflow_x": null,
            "overflow_y": null,
            "padding": null,
            "right": null,
            "top": null,
            "visibility": null,
            "width": null
          }
        },
        "97997eafea494ce89b6f18772823cf9d": {
          "model_module": "@jupyter-widgets/controls",
          "model_name": "RadioButtonsModel",
          "model_module_version": "1.5.0",
          "state": {
            "_dom_classes": [],
            "_model_module": "@jupyter-widgets/controls",
            "_model_module_version": "1.5.0",
            "_model_name": "RadioButtonsModel",
            "_options_labels": [
              "Brazil",
              "Honduras",
              "Vietnam"
            ],
            "_view_count": null,
            "_view_module": "@jupyter-widgets/controls",
            "_view_module_version": "1.5.0",
            "_view_name": "RadioButtonsView",
            "description": "",
            "description_tooltip": null,
            "disabled": false,
            "index": 0,
            "layout": "IPY_MODEL_92e399122ac047459c553c0ace90998a",
            "style": "IPY_MODEL_a939d0c595864fbfbc3446533fef9e94"
          }
        },
        "92e399122ac047459c553c0ace90998a": {
          "model_module": "@jupyter-widgets/base",
          "model_name": "LayoutModel",
          "model_module_version": "1.2.0",
          "state": {
            "_model_module": "@jupyter-widgets/base",
            "_model_module_version": "1.2.0",
            "_model_name": "LayoutModel",
            "_view_count": null,
            "_view_module": "@jupyter-widgets/base",
            "_view_module_version": "1.2.0",
            "_view_name": "LayoutView",
            "align_content": null,
            "align_items": null,
            "align_self": null,
            "border": null,
            "bottom": null,
            "display": null,
            "flex": null,
            "flex_flow": null,
            "grid_area": null,
            "grid_auto_columns": null,
            "grid_auto_flow": null,
            "grid_auto_rows": null,
            "grid_column": null,
            "grid_gap": null,
            "grid_row": null,
            "grid_template_areas": null,
            "grid_template_columns": null,
            "grid_template_rows": null,
            "height": null,
            "justify_content": null,
            "justify_items": null,
            "left": null,
            "margin": null,
            "max_height": null,
            "max_width": null,
            "min_height": null,
            "min_width": null,
            "object_fit": null,
            "object_position": null,
            "order": null,
            "overflow": null,
            "overflow_x": null,
            "overflow_y": null,
            "padding": null,
            "right": null,
            "top": null,
            "visibility": null,
            "width": null
          }
        },
        "a939d0c595864fbfbc3446533fef9e94": {
          "model_module": "@jupyter-widgets/controls",
          "model_name": "DescriptionStyleModel",
          "model_module_version": "1.5.0",
          "state": {
            "_model_module": "@jupyter-widgets/controls",
            "_model_module_version": "1.5.0",
            "_model_name": "DescriptionStyleModel",
            "_view_count": null,
            "_view_module": "@jupyter-widgets/base",
            "_view_module_version": "1.2.0",
            "_view_name": "StyleView",
            "description_width": ""
          }
        },
        "aa19b0d708fa4101b44a3c6154d3ea23": {
          "model_module": "@jupyter-widgets/controls",
          "model_name": "ButtonModel",
          "model_module_version": "1.5.0",
          "state": {
            "_dom_classes": [],
            "_model_module": "@jupyter-widgets/controls",
            "_model_module_version": "1.5.0",
            "_model_name": "ButtonModel",
            "_view_count": null,
            "_view_module": "@jupyter-widgets/controls",
            "_view_module_version": "1.5.0",
            "_view_name": "ButtonView",
            "button_style": "",
            "description": "Check my answer",
            "disabled": false,
            "icon": "",
            "layout": "IPY_MODEL_af329ff358e140fea49e44a14927ade1",
            "style": "IPY_MODEL_76ef0342c76e45759b7778cebd8d7659",
            "tooltip": ""
          }
        },
        "af329ff358e140fea49e44a14927ade1": {
          "model_module": "@jupyter-widgets/base",
          "model_name": "LayoutModel",
          "model_module_version": "1.2.0",
          "state": {
            "_model_module": "@jupyter-widgets/base",
            "_model_module_version": "1.2.0",
            "_model_name": "LayoutModel",
            "_view_count": null,
            "_view_module": "@jupyter-widgets/base",
            "_view_module_version": "1.2.0",
            "_view_name": "LayoutView",
            "align_content": null,
            "align_items": null,
            "align_self": null,
            "border": null,
            "bottom": null,
            "display": null,
            "flex": null,
            "flex_flow": null,
            "grid_area": null,
            "grid_auto_columns": null,
            "grid_auto_flow": null,
            "grid_auto_rows": null,
            "grid_column": null,
            "grid_gap": null,
            "grid_row": null,
            "grid_template_areas": null,
            "grid_template_columns": null,
            "grid_template_rows": null,
            "height": null,
            "justify_content": null,
            "justify_items": null,
            "left": null,
            "margin": null,
            "max_height": null,
            "max_width": null,
            "min_height": null,
            "min_width": null,
            "object_fit": null,
            "object_position": null,
            "order": null,
            "overflow": null,
            "overflow_x": null,
            "overflow_y": null,
            "padding": null,
            "right": null,
            "top": null,
            "visibility": null,
            "width": null
          }
        },
        "76ef0342c76e45759b7778cebd8d7659": {
          "model_module": "@jupyter-widgets/controls",
          "model_name": "ButtonStyleModel",
          "model_module_version": "1.5.0",
          "state": {
            "_model_module": "@jupyter-widgets/controls",
            "_model_module_version": "1.5.0",
            "_model_name": "ButtonStyleModel",
            "_view_count": null,
            "_view_module": "@jupyter-widgets/base",
            "_view_module_version": "1.2.0",
            "_view_name": "StyleView",
            "button_color": null,
            "font_weight": ""
          }
        },
        "faa70f47c37f46139c6a8a713fe6f1b8": {
          "model_module": "@jupyter-widgets/output",
          "model_name": "OutputModel",
          "model_module_version": "1.0.0",
          "state": {
            "_dom_classes": [],
            "_model_module": "@jupyter-widgets/output",
            "_model_module_version": "1.0.0",
            "_model_name": "OutputModel",
            "_view_count": null,
            "_view_module": "@jupyter-widgets/output",
            "_view_module_version": "1.0.0",
            "_view_name": "OutputView",
            "layout": "IPY_MODEL_9f42e04c443047cdbee58b39d1a5d4bf",
            "msg_id": "",
            "outputs": []
          }
        },
        "9f42e04c443047cdbee58b39d1a5d4bf": {
          "model_module": "@jupyter-widgets/base",
          "model_name": "LayoutModel",
          "model_module_version": "1.2.0",
          "state": {
            "_model_module": "@jupyter-widgets/base",
            "_model_module_version": "1.2.0",
            "_model_name": "LayoutModel",
            "_view_count": null,
            "_view_module": "@jupyter-widgets/base",
            "_view_module_version": "1.2.0",
            "_view_name": "LayoutView",
            "align_content": null,
            "align_items": null,
            "align_self": null,
            "border": null,
            "bottom": null,
            "display": null,
            "flex": null,
            "flex_flow": null,
            "grid_area": null,
            "grid_auto_columns": null,
            "grid_auto_flow": null,
            "grid_auto_rows": null,
            "grid_column": null,
            "grid_gap": null,
            "grid_row": null,
            "grid_template_areas": null,
            "grid_template_columns": null,
            "grid_template_rows": null,
            "height": null,
            "justify_content": null,
            "justify_items": null,
            "left": null,
            "margin": null,
            "max_height": null,
            "max_width": null,
            "min_height": null,
            "min_width": null,
            "object_fit": null,
            "object_position": null,
            "order": null,
            "overflow": null,
            "overflow_x": null,
            "overflow_y": null,
            "padding": null,
            "right": null,
            "top": null,
            "visibility": null,
            "width": null
          }
        },
        "65b0c8663a2246f6a3bbb22f47f96ffb": {
          "model_module": "@jupyter-widgets/controls",
          "model_name": "RadioButtonsModel",
          "model_module_version": "1.5.0",
          "state": {
            "_dom_classes": [],
            "_model_module": "@jupyter-widgets/controls",
            "_model_module_version": "1.5.0",
            "_model_name": "RadioButtonsModel",
            "_options_labels": [
              "Highest ratings for > 90%",
              "Highest ratings for < 50%",
              "Highest ratings for ~ 70%"
            ],
            "_view_count": null,
            "_view_module": "@jupyter-widgets/controls",
            "_view_module_version": "1.5.0",
            "_view_name": "RadioButtonsView",
            "description": "",
            "description_tooltip": null,
            "disabled": false,
            "index": 0,
            "layout": "IPY_MODEL_cdd074d27d0a4d5b8fc4461dbc7c8db7",
            "style": "IPY_MODEL_addd89d3236447759505a1c78b20f6ea"
          }
        },
        "cdd074d27d0a4d5b8fc4461dbc7c8db7": {
          "model_module": "@jupyter-widgets/base",
          "model_name": "LayoutModel",
          "model_module_version": "1.2.0",
          "state": {
            "_model_module": "@jupyter-widgets/base",
            "_model_module_version": "1.2.0",
            "_model_name": "LayoutModel",
            "_view_count": null,
            "_view_module": "@jupyter-widgets/base",
            "_view_module_version": "1.2.0",
            "_view_name": "LayoutView",
            "align_content": null,
            "align_items": null,
            "align_self": null,
            "border": null,
            "bottom": null,
            "display": null,
            "flex": null,
            "flex_flow": null,
            "grid_area": null,
            "grid_auto_columns": null,
            "grid_auto_flow": null,
            "grid_auto_rows": null,
            "grid_column": null,
            "grid_gap": null,
            "grid_row": null,
            "grid_template_areas": null,
            "grid_template_columns": null,
            "grid_template_rows": null,
            "height": null,
            "justify_content": null,
            "justify_items": null,
            "left": null,
            "margin": null,
            "max_height": null,
            "max_width": null,
            "min_height": null,
            "min_width": null,
            "object_fit": null,
            "object_position": null,
            "order": null,
            "overflow": null,
            "overflow_x": null,
            "overflow_y": null,
            "padding": null,
            "right": null,
            "top": null,
            "visibility": null,
            "width": null
          }
        },
        "addd89d3236447759505a1c78b20f6ea": {
          "model_module": "@jupyter-widgets/controls",
          "model_name": "DescriptionStyleModel",
          "model_module_version": "1.5.0",
          "state": {
            "_model_module": "@jupyter-widgets/controls",
            "_model_module_version": "1.5.0",
            "_model_name": "DescriptionStyleModel",
            "_view_count": null,
            "_view_module": "@jupyter-widgets/base",
            "_view_module_version": "1.2.0",
            "_view_name": "StyleView",
            "description_width": ""
          }
        },
        "5d5edbe1b02440b9b28f3c0f46c1ca34": {
          "model_module": "@jupyter-widgets/controls",
          "model_name": "ButtonModel",
          "model_module_version": "1.5.0",
          "state": {
            "_dom_classes": [],
            "_model_module": "@jupyter-widgets/controls",
            "_model_module_version": "1.5.0",
            "_model_name": "ButtonModel",
            "_view_count": null,
            "_view_module": "@jupyter-widgets/controls",
            "_view_module_version": "1.5.0",
            "_view_name": "ButtonView",
            "button_style": "",
            "description": "Check my answer",
            "disabled": false,
            "icon": "",
            "layout": "IPY_MODEL_f9104354d3ed461abf07c73e8cd4ee2b",
            "style": "IPY_MODEL_51cc71e57b3048bda5f2900ea638d086",
            "tooltip": ""
          }
        },
        "f9104354d3ed461abf07c73e8cd4ee2b": {
          "model_module": "@jupyter-widgets/base",
          "model_name": "LayoutModel",
          "model_module_version": "1.2.0",
          "state": {
            "_model_module": "@jupyter-widgets/base",
            "_model_module_version": "1.2.0",
            "_model_name": "LayoutModel",
            "_view_count": null,
            "_view_module": "@jupyter-widgets/base",
            "_view_module_version": "1.2.0",
            "_view_name": "LayoutView",
            "align_content": null,
            "align_items": null,
            "align_self": null,
            "border": null,
            "bottom": null,
            "display": null,
            "flex": null,
            "flex_flow": null,
            "grid_area": null,
            "grid_auto_columns": null,
            "grid_auto_flow": null,
            "grid_auto_rows": null,
            "grid_column": null,
            "grid_gap": null,
            "grid_row": null,
            "grid_template_areas": null,
            "grid_template_columns": null,
            "grid_template_rows": null,
            "height": null,
            "justify_content": null,
            "justify_items": null,
            "left": null,
            "margin": null,
            "max_height": null,
            "max_width": null,
            "min_height": null,
            "min_width": null,
            "object_fit": null,
            "object_position": null,
            "order": null,
            "overflow": null,
            "overflow_x": null,
            "overflow_y": null,
            "padding": null,
            "right": null,
            "top": null,
            "visibility": null,
            "width": null
          }
        },
        "51cc71e57b3048bda5f2900ea638d086": {
          "model_module": "@jupyter-widgets/controls",
          "model_name": "ButtonStyleModel",
          "model_module_version": "1.5.0",
          "state": {
            "_model_module": "@jupyter-widgets/controls",
            "_model_module_version": "1.5.0",
            "_model_name": "ButtonStyleModel",
            "_view_count": null,
            "_view_module": "@jupyter-widgets/base",
            "_view_module_version": "1.2.0",
            "_view_name": "StyleView",
            "button_color": null,
            "font_weight": ""
          }
        },
        "b0d6549e9fcc4fa4b36a16241e47a217": {
          "model_module": "@jupyter-widgets/output",
          "model_name": "OutputModel",
          "model_module_version": "1.0.0",
          "state": {
            "_dom_classes": [],
            "_model_module": "@jupyter-widgets/output",
            "_model_module_version": "1.0.0",
            "_model_name": "OutputModel",
            "_view_count": null,
            "_view_module": "@jupyter-widgets/output",
            "_view_module_version": "1.0.0",
            "_view_name": "OutputView",
            "layout": "IPY_MODEL_8e8d3d3865e24bdeba58e82621b4daae",
            "msg_id": "",
            "outputs": []
          }
        },
        "8e8d3d3865e24bdeba58e82621b4daae": {
          "model_module": "@jupyter-widgets/base",
          "model_name": "LayoutModel",
          "model_module_version": "1.2.0",
          "state": {
            "_model_module": "@jupyter-widgets/base",
            "_model_module_version": "1.2.0",
            "_model_name": "LayoutModel",
            "_view_count": null,
            "_view_module": "@jupyter-widgets/base",
            "_view_module_version": "1.2.0",
            "_view_name": "LayoutView",
            "align_content": null,
            "align_items": null,
            "align_self": null,
            "border": null,
            "bottom": null,
            "display": null,
            "flex": null,
            "flex_flow": null,
            "grid_area": null,
            "grid_auto_columns": null,
            "grid_auto_flow": null,
            "grid_auto_rows": null,
            "grid_column": null,
            "grid_gap": null,
            "grid_row": null,
            "grid_template_areas": null,
            "grid_template_columns": null,
            "grid_template_rows": null,
            "height": null,
            "justify_content": null,
            "justify_items": null,
            "left": null,
            "margin": null,
            "max_height": null,
            "max_width": null,
            "min_height": null,
            "min_width": null,
            "object_fit": null,
            "object_position": null,
            "order": null,
            "overflow": null,
            "overflow_x": null,
            "overflow_y": null,
            "padding": null,
            "right": null,
            "top": null,
            "visibility": null,
            "width": null
          }
        }
      }
    }
  },
  "cells": [
    {
      "cell_type": "markdown",
      "source": [
        "# Exploratory Visualisation with Tabular Data 🍫\n",
        "\n",
        "Often our data lives in tables - in spreadsheets or in CSV files. In this notebook we will explore the tabular dataset [Chocolate Bar Ratings](https://www.kaggle.com/datasets/rtatman/chocolate-bar-ratings?resource=download) available on Kaggle.\n",
        "\n",
        "The learning objectives for this activity are:\n",
        "\n",
        "*   Open the dataset using pandas and examine variables\n",
        "*   Summarise and clean dataset\n",
        "*   Analyse distribution of Chocolate Ratings across the dataset\n",
        "\n",
        "**About the Dataset**\n",
        "\n",
        "This dataset contains expert ratings of over 1,700 individual chocolate bars, along with information on their regional origin, percentage of cocoa, the variety of chocolate bean used and where the beans were grown.\n",
        "\n",
        "Flavors of Cacao Rating System:\n",
        "* 5= Elite (Transcending beyond the ordinary limits)\n",
        "* 4= Premium (Superior flavor development, character and style)\n",
        "* 3= Satisfactory(3.0) to praiseworthy(3.75) (well made with special qualities)\n",
        "* 2= Disappointing (Passable but contains at least one significant flaw)\n",
        "* 1= Unpleasant (mostly unpalatable)\n",
        "Each chocolate is evaluated from a combination of both objective qualities and subjective interpretation. A rating here only represents an experience with one bar from one batch. Batch numbers, vintages and review dates are included in the database when known.\n",
        "\n",
        "More information about the dataset can be found [here](https://www.kaggle.com/datasets/rtatman/chocolate-bar-ratings?resource=download)\n",
        "\n",
        "**Acknowledgements**\n",
        "\n",
        "These ratings were compiled by Brady Brelinski, Founding Member of the Manhattan Chocolate Society. For up-to-date information, as well as additional content (including interviews with craft chocolate makers), please see his website: Flavors of Cacao\n",
        "\n",
        "However, we can use the [pandas](https://pandas.pydata.org) package to work with tabular data in a more convenient way.\n"
      ],
      "metadata": {
        "id": "557iLe2sCfa2"
      }
    },
    {
      "cell_type": "markdown",
      "source": [
        "## Pandas\n",
        "\n",
        "We will use pandas to achieve our learning objectives. You will have already been introduced to Pandas in the previous session.\n",
        "\n"
      ],
      "metadata": {
        "id": "tnUZ_XAVHMu7"
      }
    },
    {
      "cell_type": "code",
      "source": [
        "#@title Question 0\n",
        "import ipywidgets as widgets\n",
        "import sys\n",
        "from IPython.display import display\n",
        "from IPython.display import clear_output\n",
        "\n",
        "out = widgets.Output()\n",
        "\n",
        "alternativ = widgets.RadioButtons(\n",
        "    options=[('Graphs', 1), ('Images', 2), ('DataFrames', 3)],\n",
        "    description='',\n",
        "    disabled=False\n",
        ")\n",
        "print('\\033[1m','1) Pandas helps us to work with what type of data structure?','\\033[0m')\n",
        "check = widgets.Button(description=\"Check my answer\")\n",
        "display(alternativ)\n",
        "display(check)\n",
        "\n",
        "\n",
        "def sjekksvar(b):\n",
        "        a = int(alternativ.value)\n",
        "        right_answer = 3\n",
        "        if(a==right_answer): \n",
        "            color = '\\x1b[6;30;42m' + \"Correct\" + '\\x1b[0m' +\"\\n\" #green color\n",
        "        else:\n",
        "            color = '\\x1b[5;30;41m' + \"False\" + '\\x1b[0m' +\"\\n\" #red color\n",
        "        svar = [\"\",\"\",\"\",\"\"] \n",
        "        with out:\n",
        "            clear_output()\n",
        "        with out:\n",
        "            print(color+\"\"+svar[a-1])   \n",
        "    \n",
        "        \n",
        "        \n",
        "display(out)\n",
        "check.on_click(sjekksvar)"
      ],
      "metadata": {
        "colab": {
          "base_uri": "https://localhost:8080/",
          "height": 138,
          "referenced_widgets": [
            "6ca6c75f417f4d3f8d6d57227ffd7350",
            "4eceb6fb92534feb8a33c7bafe164a25",
            "35d4df03f4ea40bab50eee3970e5f22f",
            "feb880229f5a464185fd7e8a0765aea2",
            "0069f3709abb4bd5ad7e064c6d4b232e",
            "787dd454d4774e65ae536df0925fb1d8",
            "95062c2c3cd64726b72072bdec0b3f1b",
            "4c9861e30b744d1c8f11e4119737cbd0"
          ]
        },
        "cellView": "form",
        "id": "Cy_hZRgTILaz",
        "outputId": "80020510-444b-4ac5-b159-c019254bc4e0"
      },
      "execution_count": 68,
      "outputs": [
        {
          "output_type": "stream",
          "name": "stdout",
          "text": [
            "\u001b[1m 1) Pandas helps us to work with what type of data structure? \u001b[0m\n"
          ]
        },
        {
          "output_type": "display_data",
          "data": {
            "text/plain": [
              "RadioButtons(options=(('Graphs', 1), ('Images', 2), ('DataFrames', 3)), value=1)"
            ],
            "application/vnd.jupyter.widget-view+json": {
              "version_major": 2,
              "version_minor": 0,
              "model_id": "6ca6c75f417f4d3f8d6d57227ffd7350"
            }
          },
          "metadata": {}
        },
        {
          "output_type": "display_data",
          "data": {
            "text/plain": [
              "Button(description='Check my answer', style=ButtonStyle())"
            ],
            "application/vnd.jupyter.widget-view+json": {
              "version_major": 2,
              "version_minor": 0,
              "model_id": "feb880229f5a464185fd7e8a0765aea2"
            }
          },
          "metadata": {}
        },
        {
          "output_type": "display_data",
          "data": {
            "text/plain": [
              "Output()"
            ],
            "application/vnd.jupyter.widget-view+json": {
              "version_major": 2,
              "version_minor": 0,
              "model_id": "95062c2c3cd64726b72072bdec0b3f1b"
            }
          },
          "metadata": {}
        }
      ]
    },
    {
      "cell_type": "code",
      "source": [
        "# read in the data\n",
        "\n",
        "import pandas as pd\n",
        "\n",
        "df = pd.read_csv('https://raw.githubusercontent.com/johnpinney/irc_viz/main/flavors_of_cacao.csv')"
      ],
      "metadata": {
        "id": "xnJUrpyyCblW"
      },
      "execution_count": null,
      "outputs": []
    },
    {
      "cell_type": "code",
      "source": [
        "df.head()"
      ],
      "metadata": {
        "id": "poWQyz5rD6ug"
      },
      "execution_count": null,
      "outputs": []
    },
    {
      "cell_type": "code",
      "source": [
        "# check for na values\n",
        "df[df.isna().any(axis=1)] # display rows with one or more na values"
      ],
      "metadata": {
        "id": "EDJham8tb9Yo"
      },
      "execution_count": null,
      "outputs": []
    },
    {
      "cell_type": "code",
      "source": [
        "df.dtypes"
      ],
      "metadata": {
        "id": "CTdDw-yZdZ_n"
      },
      "execution_count": null,
      "outputs": []
    },
    {
      "cell_type": "code",
      "source": [
        "# format the variables\n",
        "df['Cocoa\\nPercent'] = df['Cocoa\\nPercent'].apply(lambda x: x.strip('%')).astype('float64')"
      ],
      "metadata": {
        "id": "F3fxRwn9dtN4"
      },
      "execution_count": null,
      "outputs": []
    },
    {
      "cell_type": "code",
      "source": [
        "#@title Question 1\n",
        "out = widgets.Output()\n",
        "\n",
        "alternativ = widgets.RadioButtons(\n",
        "    options=[('1795', 1), ('9', 2), ('1796', 3)],\n",
        "    description='',\n",
        "    disabled=False\n",
        ")\n",
        "print('\\033[1m','1) How many ratings have been collected?','\\033[0m')\n",
        "check = widgets.Button(description=\"Check my answer\")\n",
        "display(alternativ)\n",
        "display(check)\n",
        "\n",
        "\n",
        "def sjekksvar(b):\n",
        "        a = int(alternativ.value)\n",
        "        right_answer = 1\n",
        "        if(a==right_answer): \n",
        "            color = '\\x1b[6;30;42m' + \"Correct\" + '\\x1b[0m' +\"\\n\" #green color\n",
        "        else:\n",
        "            color = '\\x1b[5;30;41m' + \"False\" + '\\x1b[0m' +\"\\n\" #red color\n",
        "        svar = [\"\",\"\",\"\",\"\"] \n",
        "        with out:\n",
        "            clear_output()\n",
        "        with out:\n",
        "            print(color+\"\"+svar[a-1])   \n",
        "    \n",
        "\n",
        "display(out)\n",
        "check.on_click(sjekksvar)"
      ],
      "metadata": {
        "colab": {
          "base_uri": "https://localhost:8080/",
          "height": 130,
          "referenced_widgets": [
            "53e2bb6a11614b98921e404fa2b5f47f",
            "da80e64e587c4aafa462278090e8dc2e",
            "77757fe3998746a1ae189a5d0a7684be",
            "b077972656a24e16989f407be5379f70",
            "aeca7f3162d640b8b9217aae96d582c1",
            "3418552bb7c741599b91cd44a0e542f9",
            "5c0b4516918a48bea605d83d77cc4a7e",
            "7957b28542824c45ab2a55a34d514d53"
          ]
        },
        "cellView": "form",
        "id": "7RUBnj1IEqge",
        "outputId": "c7d16eaa-a7b0-4996-954b-db96e303345a"
      },
      "execution_count": 69,
      "outputs": [
        {
          "output_type": "stream",
          "name": "stdout",
          "text": [
            "\u001b[1m 1) How many ratings have been collected? \u001b[0m\n"
          ]
        },
        {
          "output_type": "display_data",
          "data": {
            "text/plain": [
              "RadioButtons(options=(('1795', 1), ('9', 2), ('1796', 3)), value=1)"
            ],
            "application/vnd.jupyter.widget-view+json": {
              "version_major": 2,
              "version_minor": 0,
              "model_id": "53e2bb6a11614b98921e404fa2b5f47f"
            }
          },
          "metadata": {}
        },
        {
          "output_type": "display_data",
          "data": {
            "text/plain": [
              "Button(description='Check my answer', style=ButtonStyle())"
            ],
            "application/vnd.jupyter.widget-view+json": {
              "version_major": 2,
              "version_minor": 0,
              "model_id": "b077972656a24e16989f407be5379f70"
            }
          },
          "metadata": {}
        },
        {
          "output_type": "display_data",
          "data": {
            "text/plain": [
              "Output()"
            ],
            "application/vnd.jupyter.widget-view+json": {
              "version_major": 2,
              "version_minor": 0,
              "model_id": "5c0b4516918a48bea605d83d77cc4a7e"
            }
          },
          "metadata": {}
        }
      ]
    },
    {
      "cell_type": "code",
      "source": [
        "# enter code to find out total number of ratings\n"
      ],
      "metadata": {
        "id": "204YSdRPRbBv"
      },
      "execution_count": null,
      "outputs": []
    },
    {
      "cell_type": "code",
      "source": [
        "#@title Answer 1 - Show Code\n",
        "print (df['Rating'].shape) # here we have the total number of rows\n",
        "print (df['Rating'].count()) # count will give all non na values\n",
        "\n",
        "# we can also examine the distribution of ratings by plotting the histogram\n",
        "df['Rating'].hist(bins=20)"
      ],
      "metadata": {
        "cellView": "form",
        "id": "pa-QAxFSFKl-"
      },
      "execution_count": null,
      "outputs": []
    },
    {
      "cell_type": "code",
      "source": [
        "#@title Question 2\n",
        "out = widgets.Output()\n",
        "\n",
        "alternativ = widgets.RadioButtons(\n",
        "    options=[('101', 1), ('1039', 2), ('1796', 3)],\n",
        "    description='',\n",
        "    disabled=False\n",
        ")\n",
        "print('\\033[1m','1) How many types of Bar or Specific Bean Origin are there?','\\033[0m')\n",
        "check = widgets.Button(description=\"Check my answer\")\n",
        "display(alternativ)\n",
        "display(check)\n",
        "\n",
        "\n",
        "def sjekksvar(b):\n",
        "        a = int(alternativ.value)\n",
        "        right_answer = 2\n",
        "        if(a==right_answer): \n",
        "            color = '\\x1b[6;30;42m' + \"Correct\" + '\\x1b[0m' +\"\\n\" #green color\n",
        "        else:\n",
        "            color = '\\x1b[5;30;41m' + \"False\" + '\\x1b[0m' +\"\\n\" #red color\n",
        "        svar = [\"\",\"\",\"\",\"\"] \n",
        "        with out:\n",
        "            clear_output()\n",
        "        with out:\n",
        "            print(color+\"\"+svar[a-1])   \n",
        "    \n",
        "\n",
        "display(out)\n",
        "check.on_click(sjekksvar)"
      ],
      "metadata": {
        "colab": {
          "base_uri": "https://localhost:8080/",
          "height": 130,
          "referenced_widgets": [
            "57fbe713525d4af489493031d7476572",
            "bbf1b7931a6b4da9845a23f6ff44c249",
            "1f365a0a34d54c8fbfb09b20f4042875",
            "6136191208af4da1866f4b44bdfd3073",
            "3144766ae0bb42659d06425e87998718",
            "7f4f8e70529d486a981f210172ea39bf",
            "b7552a39ecd4447fb953bd184a192c00",
            "018370f2621248c8a78806b0ae974e9c"
          ]
        },
        "cellView": "form",
        "id": "urHRbMVzLOAC",
        "outputId": "c9d7579c-bd02-464e-b436-f202c1885aec"
      },
      "execution_count": 70,
      "outputs": [
        {
          "output_type": "stream",
          "name": "stdout",
          "text": [
            "\u001b[1m 1) How many types of Bar or Specific Bean Origin are there? \u001b[0m\n"
          ]
        },
        {
          "output_type": "display_data",
          "data": {
            "text/plain": [
              "RadioButtons(options=(('101', 1), ('1039', 2), ('1796', 3)), value=1)"
            ],
            "application/vnd.jupyter.widget-view+json": {
              "version_major": 2,
              "version_minor": 0,
              "model_id": "57fbe713525d4af489493031d7476572"
            }
          },
          "metadata": {}
        },
        {
          "output_type": "display_data",
          "data": {
            "text/plain": [
              "Button(description='Check my answer', style=ButtonStyle())"
            ],
            "application/vnd.jupyter.widget-view+json": {
              "version_major": 2,
              "version_minor": 0,
              "model_id": "6136191208af4da1866f4b44bdfd3073"
            }
          },
          "metadata": {}
        },
        {
          "output_type": "display_data",
          "data": {
            "text/plain": [
              "Output()"
            ],
            "application/vnd.jupyter.widget-view+json": {
              "version_major": 2,
              "version_minor": 0,
              "model_id": "b7552a39ecd4447fb953bd184a192c00"
            }
          },
          "metadata": {}
        }
      ]
    },
    {
      "cell_type": "code",
      "source": [
        "# enter code to find out number of types of Bar or Specific Bean Origin"
      ],
      "metadata": {
        "id": "TibdMe1eSY3I"
      },
      "execution_count": null,
      "outputs": []
    },
    {
      "cell_type": "code",
      "source": [
        "#@title Answer 2 - Show Code\n",
        "\n",
        "df['Specific Bean Origin\\nor Bar Name'].unique().shape # by calling unique, we get remove any duplicates from the same category"
      ],
      "metadata": {
        "id": "PoZ52NPHa2GV",
        "cellView": "form"
      },
      "execution_count": null,
      "outputs": []
    },
    {
      "cell_type": "code",
      "source": [
        "#@title Question 3\n",
        "out = widgets.Output()\n",
        "\n",
        "alternativ = widgets.RadioButtons(\n",
        "    options=[('Togo', 1), ('Ecuador', 2), ('Venezuela', 3)],\n",
        "    description='',\n",
        "    disabled=False\n",
        ")\n",
        "print('\\033[1m','1) Which country makes the most chocoloate in this dataset?','\\033[0m')\n",
        "check = widgets.Button(description=\"Check my answer\")\n",
        "display(alternativ)\n",
        "display(check)\n",
        "\n",
        "\n",
        "def sjekksvar(b):\n",
        "        a = int(alternativ.value)\n",
        "        right_answer = 3\n",
        "        if(a==right_answer): \n",
        "            color = '\\x1b[6;30;42m' + \"Correct\" + '\\x1b[0m' +\"\\n\" #green color\n",
        "        else:\n",
        "            color = '\\x1b[5;30;41m' + \"False\" + '\\x1b[0m' +\"\\n\" #red color\n",
        "        svar = [\"\",\"\",\"\",\"\"] \n",
        "        with out:\n",
        "            clear_output()\n",
        "        with out:\n",
        "            print(color+\"\"+svar[a-1])   \n",
        "    \n",
        "\n",
        "display(out)\n",
        "check.on_click(sjekksvar)"
      ],
      "metadata": {
        "colab": {
          "base_uri": "https://localhost:8080/",
          "height": 130,
          "referenced_widgets": [
            "3bd48286999b4848bd8d46e0b02ec498",
            "34615ca5437943978c38e7770e8f3627",
            "61f86b37a0f44fe18706916e48c1ecd7",
            "c74416090094435b8b272a3f3e986e4f",
            "f4465fa0cbb44412aee055220872d358",
            "415fa064d9284d6283b7c22d457b9ec4",
            "e2160cc32be04b089ecf9879d241eec8",
            "86d914ca7c4646118f6983cc355fc90f"
          ]
        },
        "cellView": "form",
        "id": "c25TvwV6MaDL",
        "outputId": "72f11412-1bcc-495b-b416-5b415130139b"
      },
      "execution_count": 71,
      "outputs": [
        {
          "output_type": "stream",
          "name": "stdout",
          "text": [
            "\u001b[1m 1) Which country makes the most chocoloate in this dataset? \u001b[0m\n"
          ]
        },
        {
          "output_type": "display_data",
          "data": {
            "text/plain": [
              "RadioButtons(options=(('Togo', 1), ('Ecuador', 2), ('Venezuela', 3)), value=1)"
            ],
            "application/vnd.jupyter.widget-view+json": {
              "version_major": 2,
              "version_minor": 0,
              "model_id": "3bd48286999b4848bd8d46e0b02ec498"
            }
          },
          "metadata": {}
        },
        {
          "output_type": "display_data",
          "data": {
            "text/plain": [
              "Button(description='Check my answer', style=ButtonStyle())"
            ],
            "application/vnd.jupyter.widget-view+json": {
              "version_major": 2,
              "version_minor": 0,
              "model_id": "c74416090094435b8b272a3f3e986e4f"
            }
          },
          "metadata": {}
        },
        {
          "output_type": "display_data",
          "data": {
            "text/plain": [
              "Output()"
            ],
            "application/vnd.jupyter.widget-view+json": {
              "version_major": 2,
              "version_minor": 0,
              "model_id": "e2160cc32be04b089ecf9879d241eec8"
            }
          },
          "metadata": {}
        }
      ]
    },
    {
      "cell_type": "code",
      "source": [
        "# enter your code for finding the country which makes the most chocolate\n",
        "country = df.columns[-1]"
      ],
      "metadata": {
        "id": "83lxYzdDSmW4"
      },
      "execution_count": null,
      "outputs": []
    },
    {
      "cell_type": "code",
      "source": [
        "#@title Answer 3 - Show Code\n",
        "df['Broad Bean\\nOrigin'].value_counts().plot(kind='bar') # value counts tallies the counts for each category and we can plot this as a bar graph"
      ],
      "metadata": {
        "cellView": "form",
        "id": "Sfkz9QTNOeZX"
      },
      "execution_count": null,
      "outputs": []
    },
    {
      "cell_type": "code",
      "source": [
        "#@title Answer 3 - Show Code\n",
        "# lets make it bigger so we can read the labels\n",
        "import matplotlib.pyplot as plt\n",
        "plt.figure(figsize=(16,10))\n",
        "df['Broad Bean\\nOrigin'].value_counts().plot(kind='bar')"
      ],
      "metadata": {
        "cellView": "form",
        "id": "MmfzdJb2OhTR"
      },
      "execution_count": null,
      "outputs": []
    },
    {
      "cell_type": "code",
      "source": [
        "# notice above there is a missing label for one of the origins, let's see how this is encoded\n",
        "df['Broad Bean\\nOrigin'].value_counts().index[5], df['Broad Bean\\nOrigin'].value_counts()[5]"
      ],
      "metadata": {
        "id": "vlbnNTkZQLNW"
      },
      "execution_count": null,
      "outputs": []
    },
    {
      "cell_type": "code",
      "source": [
        "#@title Question 4\n",
        "out = widgets.Output()\n",
        "\n",
        "alternativ = widgets.RadioButtons(\n",
        "    options=[('Brazil', 1), ('Honduras', 2), ('Vietnam', 3)],\n",
        "    description='',\n",
        "    disabled=False\n",
        ")\n",
        "print('\\033[1m','1) Which countries produce the highest-rated bars?','\\033[0m')\n",
        "check = widgets.Button(description=\"Check my answer\")\n",
        "display(alternativ)\n",
        "display(check)\n",
        "\n",
        "\n",
        "def sjekksvar(b):\n",
        "        a = int(alternativ.value)\n",
        "        right_answer = [2]\n",
        "        if(a in right_answer): \n",
        "            color = '\\x1b[6;30;42m' + \"Correct - Honduras has the highest mean and median value\" + '\\x1b[0m' +\"\\n\" #green color\n",
        "        else:\n",
        "            color = '\\x1b[5;30;41m' + \"False - Both Vietnam and Brazil have the second highest median rating\" + '\\x1b[0m' +\"\\n\" #red color\n",
        "        svar = [\"\",\"\",\"\",\"\"] \n",
        "        with out:\n",
        "            clear_output()\n",
        "        with out:\n",
        "            print(color+\"\"+svar[a-1])   \n",
        "    \n",
        "\n",
        "display(out)\n",
        "check.on_click(sjekksvar)"
      ],
      "metadata": {
        "colab": {
          "base_uri": "https://localhost:8080/",
          "height": 130,
          "referenced_widgets": [
            "97997eafea494ce89b6f18772823cf9d",
            "92e399122ac047459c553c0ace90998a",
            "a939d0c595864fbfbc3446533fef9e94",
            "aa19b0d708fa4101b44a3c6154d3ea23",
            "af329ff358e140fea49e44a14927ade1",
            "76ef0342c76e45759b7778cebd8d7659",
            "faa70f47c37f46139c6a8a713fe6f1b8",
            "9f42e04c443047cdbee58b39d1a5d4bf"
          ]
        },
        "cellView": "form",
        "id": "omBFuVyPQQc4",
        "outputId": "f6827d92-6426-4a08-9b47-1d1213b03771"
      },
      "execution_count": 72,
      "outputs": [
        {
          "output_type": "stream",
          "name": "stdout",
          "text": [
            "\u001b[1m 1) Which countries produce the highest-rated bars? \u001b[0m\n"
          ]
        },
        {
          "output_type": "display_data",
          "data": {
            "text/plain": [
              "RadioButtons(options=(('Brazil', 1), ('Honduras', 2), ('Vietnam', 3)), value=1)"
            ],
            "application/vnd.jupyter.widget-view+json": {
              "version_major": 2,
              "version_minor": 0,
              "model_id": "97997eafea494ce89b6f18772823cf9d"
            }
          },
          "metadata": {}
        },
        {
          "output_type": "display_data",
          "data": {
            "text/plain": [
              "Button(description='Check my answer', style=ButtonStyle())"
            ],
            "application/vnd.jupyter.widget-view+json": {
              "version_major": 2,
              "version_minor": 0,
              "model_id": "aa19b0d708fa4101b44a3c6154d3ea23"
            }
          },
          "metadata": {}
        },
        {
          "output_type": "display_data",
          "data": {
            "text/plain": [
              "Output()"
            ],
            "application/vnd.jupyter.widget-view+json": {
              "version_major": 2,
              "version_minor": 0,
              "model_id": "faa70f47c37f46139c6a8a713fe6f1b8"
            }
          },
          "metadata": {}
        }
      ]
    },
    {
      "cell_type": "code",
      "source": [
        "# enter you answer here. hint: can we be confident about a high ratings when there is only one review?\n"
      ],
      "metadata": {
        "id": "HMq2ZdYqTZnB"
      },
      "execution_count": null,
      "outputs": []
    },
    {
      "cell_type": "code",
      "source": [
        "#@title Answer 4 - Show Code\n",
        "# some countries have very few number of ratings, let's subset our dataframe to include countries which have more than 10 ratings\n",
        "\n",
        "subset = df['Broad Bean\\nOrigin'].value_counts()[df['Broad Bean\\nOrigin'].value_counts() > 10]\n",
        "subset.index\n",
        "\n",
        "subset_df = df[df['Broad Bean\\nOrigin'].isin(list(subset.index))]\n",
        "\n",
        "plot = subset_df.boxplot('Rating', by='Broad Bean\\nOrigin', figsize=(16,10), showmeans=True)\n",
        "plt.xticks(rotation=90)\n",
        "plt.show()"
      ],
      "metadata": {
        "cellView": "form",
        "id": "UrZGyqMvRWIt"
      },
      "execution_count": null,
      "outputs": []
    },
    {
      "cell_type": "code",
      "source": [
        "#@title Answer 4 - Show Code\n",
        "subset_df.groupby(country).mean()['Rating'].sort_values()"
      ],
      "metadata": {
        "cellView": "form",
        "id": "xpB6HF1kd86P"
      },
      "execution_count": null,
      "outputs": []
    },
    {
      "cell_type": "code",
      "source": [
        "#@title Question 5\n",
        "out = widgets.Output()\n",
        "\n",
        "alternativ = widgets.RadioButtons(\n",
        "    options=[('Highest ratings for > 90%', 1), ('Highest ratings for < 50%', 2), ('Highest ratings for ~ 70%', 3)],\n",
        "    description='',\n",
        "    disabled=False\n",
        ")\n",
        "print('\\033[1m','1)  What’s the relationship between cocoa solids percentage and rating??','\\033[0m')\n",
        "check = widgets.Button(description=\"Check my answer\")\n",
        "display(alternativ)\n",
        "display(check)\n",
        "\n",
        "\n",
        "def sjekksvar(b):\n",
        "        a = int(alternativ.value)\n",
        "        right_answer = 3\n",
        "        if(a==right_answer): \n",
        "            color = '\\x1b[6;30;42m' + \"Correct\" + '\\x1b[0m' +\"\\n\" #green color\n",
        "        else:\n",
        "            color = '\\x1b[5;30;41m' + \"False\" + '\\x1b[0m' +\"\\n\" #red color\n",
        "        svar = [\"\",\"\",\"\",\"\"] \n",
        "        with out:\n",
        "            clear_output()\n",
        "        with out:\n",
        "            print(color+\"\"+svar[a-1])   \n",
        "    \n",
        "\n",
        "display(out)\n",
        "check.on_click(sjekksvar)"
      ],
      "metadata": {
        "colab": {
          "base_uri": "https://localhost:8080/",
          "height": 130,
          "referenced_widgets": [
            "65b0c8663a2246f6a3bbb22f47f96ffb",
            "cdd074d27d0a4d5b8fc4461dbc7c8db7",
            "addd89d3236447759505a1c78b20f6ea",
            "5d5edbe1b02440b9b28f3c0f46c1ca34",
            "f9104354d3ed461abf07c73e8cd4ee2b",
            "51cc71e57b3048bda5f2900ea638d086",
            "b0d6549e9fcc4fa4b36a16241e47a217",
            "8e8d3d3865e24bdeba58e82621b4daae"
          ]
        },
        "cellView": "form",
        "id": "ZzLYPsqjRbmZ",
        "outputId": "2741804f-fc85-416e-9540-61f7993a4e54"
      },
      "execution_count": 73,
      "outputs": [
        {
          "output_type": "stream",
          "name": "stdout",
          "text": [
            "\u001b[1m 1)  What’s the relationship between cocoa solids percentage and rating?? \u001b[0m\n"
          ]
        },
        {
          "output_type": "display_data",
          "data": {
            "text/plain": [
              "RadioButtons(options=(('Highest ratings for > 90%', 1), ('Highest ratings for < 50%', 2), ('Highest ratings fo…"
            ],
            "application/vnd.jupyter.widget-view+json": {
              "version_major": 2,
              "version_minor": 0,
              "model_id": "65b0c8663a2246f6a3bbb22f47f96ffb"
            }
          },
          "metadata": {}
        },
        {
          "output_type": "display_data",
          "data": {
            "text/plain": [
              "Button(description='Check my answer', style=ButtonStyle())"
            ],
            "application/vnd.jupyter.widget-view+json": {
              "version_major": 2,
              "version_minor": 0,
              "model_id": "5d5edbe1b02440b9b28f3c0f46c1ca34"
            }
          },
          "metadata": {}
        },
        {
          "output_type": "display_data",
          "data": {
            "text/plain": [
              "Output()"
            ],
            "application/vnd.jupyter.widget-view+json": {
              "version_major": 2,
              "version_minor": 0,
              "model_id": "b0d6549e9fcc4fa4b36a16241e47a217"
            }
          },
          "metadata": {}
        }
      ]
    },
    {
      "cell_type": "code",
      "source": [
        "# enter your code here"
      ],
      "metadata": {
        "id": "UAHdrjkdTfx_"
      },
      "execution_count": null,
      "outputs": []
    },
    {
      "cell_type": "code",
      "source": [
        "#@title Answer 5 - Show Code\n",
        "\n",
        "df.plot.scatter('Rating', 'Cocoa\\nPercent', figsize=(10,10))"
      ],
      "metadata": {
        "id": "Nqlf5WRxVnQp",
        "cellView": "form"
      },
      "execution_count": null,
      "outputs": []
    },
    {
      "cell_type": "code",
      "source": [
        "#@title\n"
      ],
      "metadata": {
        "cellView": "form",
        "id": "kGDChuOsfGRg"
      },
      "execution_count": null,
      "outputs": []
    }
  ]
}