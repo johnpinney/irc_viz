{
 "cells": [
  {
   "cell_type": "markdown",
   "metadata": {},
   "source": [
    "# Matplotlib tutorial"
   ]
  },
  {
   "cell_type": "markdown",
   "metadata": {},
   "source": [
    "[*John Pinney*](https://github.com/johnpinney) and [*Tony Yang*](https://github.com/tonyyzy)"
   ]
  },
  {
   "cell_type": "markdown",
   "metadata": {},
   "source": [
    "*Part of this notebook's material was adapted from the [Software Carpentry](https://swcarpentry.github.io/python-novice-gapminder/09-plotting/index.html) Python course and [Imperial Chemistry Department's Python courses](https://github.com/imperialchem)*"
   ]
  },
  {
   "cell_type": "markdown",
   "metadata": {},
   "source": [
    "## Introduction\n",
    "\n",
    "In this session, we will introduce you to `matplotlib`, which is the most commonly used Python plotting package. This also requires a few concepts from the `numpy` and `pandas` packages.\n"
   ]
  },
  {
   "cell_type": "markdown",
   "metadata": {},
   "source": [
    "Let's see if the `numpy` package is available in your notebook's environment. If you're using the default 'base(root)' environment in Anaconda, it is probably already there. "
   ]
  },
  {
   "cell_type": "code",
   "execution_count": null,
   "metadata": {},
   "outputs": [],
   "source": [
    "import numpy as np"
   ]
  },
  {
   "cell_type": "markdown",
   "metadata": {},
   "source": [
    "The `as np` instruction means that we will refer to the `numpy` module in our code using the shorthand `np`.\n",
    "\n",
    "If it isn't found (you will get a *ModuleNotFoundError*), use your *package manager* (see below) to install it and try again.\n",
    "\n",
    "\n",
    "**NB** If you have any difficulties loading packages during the session, we recommend that you switch to using the online Binder version of this notebooks - see https://github.com/johnpinney/irc_viz\n",
    "\n"
   ]
  },
  {
   "cell_type": "markdown",
   "metadata": {},
   "source": [
    "### Using a package manager\n",
    "\n",
    "To work with modules that are not part of the core python distribution, we need a framework that will deal with downloading the external code and ensuring that different modules are compatible with each other. \n",
    "\n",
    "With Anaconda, the easiest way to do this is using the Anaconda Navigator GUI. Go to *Environments* and use the search facility to find the packages that you want to install or uninstall. The package manager will attempt to install these from the internet, and you can then import the corresponding modules within your jupyter notebook.\n",
    "\n",
    "The command-line utility `conda` gives access to the same package management system, e.g. the command\n",
    "\n",
    "`\n",
    "conda install numpy\n",
    "`\n",
    "\n",
    "will install numpy in the current environment.\n",
    "\n",
    "Anaconda/conda is highly recommended as the most straightforward way to manage your python environments. If you have a different python install, you will need to use a different package manager to download packages (usually `pip`, e.g. `pip install numpy`). \n",
    "\n"
   ]
  },
  {
   "cell_type": "markdown",
   "metadata": {},
   "source": [
    "---"
   ]
  },
  {
   "cell_type": "markdown",
   "metadata": {},
   "source": [
    "## `numpy`\n",
    "\n",
    "`numpy` provides a set of general data structures and utilities to support numerical computing in python. It is one of the most widely used packages in scientific computing. "
   ]
  },
  {
   "cell_type": "markdown",
   "metadata": {},
   "source": [
    "### Mathematical functions"
   ]
  },
  {
   "cell_type": "markdown",
   "metadata": {},
   "source": [
    "The first thing to note about `numpy` is the huge range of [mathematical functions](https://numpy.org/doc/stable/reference/routines.math.html) it provides. Here are a few examples:"
   ]
  },
  {
   "cell_type": "code",
   "execution_count": null,
   "metadata": {},
   "outputs": [],
   "source": [
    "np.log(44)"
   ]
  },
  {
   "cell_type": "code",
   "execution_count": null,
   "metadata": {},
   "outputs": [],
   "source": [
    "np.log10(44)"
   ]
  },
  {
   "cell_type": "code",
   "execution_count": null,
   "metadata": {},
   "outputs": [],
   "source": [
    "np.sin(np.pi/2)"
   ]
  },
  {
   "cell_type": "code",
   "execution_count": null,
   "metadata": {},
   "outputs": [],
   "source": [
    "np.tanh(1.5)"
   ]
  },
  {
   "cell_type": "markdown",
   "metadata": {},
   "source": [
    "### `ndarray`\n",
    "\n",
    "A major feature of `numpy` is the *n-dimensional array* (`ndarray`) data type that it provides. This is similar to a `list`, but has (at least) three advantages for numerical computing:\n",
    "\n",
    "* Every element must be of the same data type (e.g. `float` or `int`).\n",
    "* Operations are much faster and more memory-efficient using `ndarray` than using `list`.\n",
    "* The resulting code is easier to read and write."
   ]
  },
  {
   "cell_type": "code",
   "execution_count": null,
   "metadata": {},
   "outputs": [],
   "source": [
    "n = 10\n",
    "\n",
    "a = list()\n",
    "for i in range(n):\n",
    "    a.append(1.0)\n",
    "print(a)\n",
    "type(a)"
   ]
  },
  {
   "cell_type": "code",
   "execution_count": null,
   "metadata": {},
   "outputs": [],
   "source": [
    "b = np.array(a)\n",
    "print(b)\n",
    "type(b)"
   ]
  },
  {
   "cell_type": "markdown",
   "metadata": {},
   "source": [
    "Notice that `np.array()` is a constructor, making a new `ndarray` object using data from the `list` provided. When we refer to \"an array\" in scientific python, we almost always mean an object of type `ndarray`."
   ]
  },
  {
   "cell_type": "markdown",
   "metadata": {},
   "source": [
    "#### Notes"
   ]
  },
  {
   "cell_type": "markdown",
   "metadata": {},
   "source": [
    "The length of an `ndarray` is fixed when it is created."
   ]
  },
  {
   "cell_type": "markdown",
   "metadata": {},
   "source": [
    "You can check the data type of an `ndarray` using the `dtype` attribute, and the number of data using `size`:"
   ]
  },
  {
   "cell_type": "code",
   "execution_count": null,
   "metadata": {},
   "outputs": [],
   "source": [
    "b.dtype"
   ]
  },
  {
   "cell_type": "code",
   "execution_count": null,
   "metadata": {},
   "outputs": [],
   "source": [
    "b.size"
   ]
  },
  {
   "cell_type": "markdown",
   "metadata": {},
   "source": [
    "\n",
    "You can find the documentation for the `ndarray` [here](https://numpy.org/doc/stable/reference/generated/numpy.ndarray.html)."
   ]
  },
  {
   "cell_type": "markdown",
   "metadata": {},
   "source": [
    "---"
   ]
  },
  {
   "cell_type": "markdown",
   "metadata": {},
   "source": [
    "## `matplotlib`\n",
    "\n",
    "`matplotlib` is modelled after Matlab's plotting functions and aims to be easy to use and intuitive.  \n",
    "\n",
    "Import `matplotlib` with"
   ]
  },
  {
   "cell_type": "code",
   "execution_count": null,
   "metadata": {},
   "outputs": [],
   "source": [
    "import matplotlib.pyplot as plt"
   ]
  },
  {
   "cell_type": "markdown",
   "metadata": {},
   "source": [
    "Firstly, we need to create some sample data. Let's plot the sine function from -10 to 10. "
   ]
  },
  {
   "cell_type": "code",
   "execution_count": null,
   "metadata": {},
   "outputs": [],
   "source": [
    "# makes a 1D array of 101 equally spaced values from -10 to 10.\n",
    "x = np.linspace(-10, 10, 101)\n",
    "print(x)"
   ]
  },
  {
   "cell_type": "code",
   "execution_count": null,
   "metadata": {},
   "outputs": [],
   "source": [
    "# here you can see the benefits of a numpy array\n",
    "# we can apply a numpy function to the whole array at once\n",
    "# rather than looping over all elements of a list!\n",
    "sine_x = np.sin(x) \n",
    "print(sine_x)"
   ]
  },
  {
   "cell_type": "markdown",
   "metadata": {},
   "source": [
    "And here's our first plot!"
   ]
  },
  {
   "cell_type": "code",
   "execution_count": null,
   "metadata": {},
   "outputs": [],
   "source": [
    "plt.plot(x, sine_x)\n",
    "\n",
    "# Sometimes you may find that without plt.show()\n",
    "# the figure is still displayed. This is Jupyter notebook\n",
    "# trying to be helpful. Do note that in other environments\n",
    "# you will almost definitely need this line.\n",
    "plt.show() "
   ]
  },
  {
   "cell_type": "markdown",
   "metadata": {},
   "source": [
    "Note that although we only used two lines to plot the graph matplotlib has set many defaults for us behind the scenes\n",
    ". Let go over some of the settings so we know how to customise our graphs when we want to."
   ]
  },
  {
   "cell_type": "code",
   "execution_count": null,
   "metadata": {},
   "outputs": [],
   "source": [
    "# Create a new figure of size 6 by 4 inches (width and height)\n",
    "plt.figure(figsize=(6, 4))\n",
    "\n",
    "# Plot x and y using color blue from the Tableau palette\n",
    "# with a continuous line of width 1.5 points without any markers\n",
    "plt.plot(x, sine_x, color=\"tab:blue\", linewidth=1.5, linestyle=\"-\", marker=\"\")\n",
    "\n",
    "# Set x limits to be slightly bigger than the data range\n",
    "plt.xlim(-11, 11)\n",
    "\n",
    "# Set x ticks to be nine ticks evenly spaced between -10 and 10\n",
    "plt.xticks(np.linspace(-10, 10, 9))\n",
    "\n",
    "# Set y limits\n",
    "plt.ylim(-1.1, 1.1)\n",
    "\n",
    "# Set y ticks\n",
    "plt.yticks(np.linspace(-1, 1, 9))\n",
    "\n",
    "# Show the plot on screen\n",
    "plt.show()"
   ]
  },
  {
   "cell_type": "markdown",
   "metadata": {},
   "source": [
    "### More choices of colors, linestyles, and markers\n",
    "List of colors: https://matplotlib.org/3.1.0/gallery/color/named_colors.html  \n",
    "List of linestyles: https://matplotlib.org/gallery/lines_bars_and_markers/line_styles_reference.html  \n",
    "List of markers: https://matplotlib.org/api/markers_api.html"
   ]
  },
  {
   "cell_type": "markdown",
   "metadata": {},
   "source": [
    "## Completing a plot\n",
    "It's always a good idea to label your graphs! Here we can add a title, x/y axis labels, and a legend."
   ]
  },
  {
   "cell_type": "code",
   "execution_count": null,
   "metadata": {},
   "outputs": [],
   "source": [
    "plt.figure(figsize=(6.4, 4.8))\n",
    "plt.plot(x, sine_x, label=\"y=sin(x)\")\n",
    "plt.title(\"An example sine plot\") # add title to the plot\n",
    "plt.xlabel(\"x\") # label the axes\n",
    "plt.ylabel(\"y\")\n",
    "plt.legend() # show legend\n",
    "plt.show()"
   ]
  },
  {
   "cell_type": "markdown",
   "metadata": {},
   "source": [
    "We can also plot multiple lines on the same graph."
   ]
  },
  {
   "cell_type": "code",
   "execution_count": null,
   "metadata": {},
   "outputs": [],
   "source": [
    "plt.plot(x, sine_x, label=\"y=sin(x)\")\n",
    "plt.plot(x, x, label=\"y=x\")\n",
    "plt.legend()\n",
    "plt.show()"
   ]
  },
  {
   "cell_type": "markdown",
   "metadata": {},
   "source": [
    "### Exercise 1\n",
    "- plot both sine and cosine functions on the same graph\n",
    "- Use `tab:purple` as color, `--` as linestyle, `*` as marker for cosine\n",
    "- Take your pick of options for sine\n",
    "- Make sure to give your plot a title, axis labels, and legends"
   ]
  },
  {
   "cell_type": "code",
   "execution_count": null,
   "metadata": {},
   "outputs": [],
   "source": []
  },
  {
   "cell_type": "markdown",
   "metadata": {},
   "source": [
    "## More types of plots\n",
    "\n",
    "We have covered a *line plot* so far. Now let's dive into scatter and bar plots, and the histogram."
   ]
  },
  {
   "cell_type": "markdown",
   "metadata": {},
   "source": [
    "If we only want to plot the datapoints without the contineous lines we can use a *scatter plot*."
   ]
  },
  {
   "cell_type": "code",
   "execution_count": null,
   "metadata": {},
   "outputs": [],
   "source": [
    "plt.scatter(x, sine_x, marker=\"+\")\n",
    "plt.show()"
   ]
  },
  {
   "cell_type": "markdown",
   "metadata": {},
   "source": [
    "A bar plot is useful when displaying categorical data."
   ]
  },
  {
   "cell_type": "code",
   "execution_count": null,
   "metadata": {},
   "outputs": [],
   "source": [
    "bar_x = [\"A\", \"B\", \"C\", \"D\", \"E\"]\n",
    "bar_y = np.array([32, 49, 11, 20, 44])\n",
    "plt.bar(bar_x, bar_y)\n",
    "plt.show()"
   ]
  },
  {
   "cell_type": "markdown",
   "metadata": {},
   "source": [
    "Finally we can use histograms to show distributions or a range of measurements. \n",
    "\n",
    "Pay attention to how the number of bins for histogram is determined. A too small or too large number of bins may hide or amplify some features of the data."
   ]
  },
  {
   "cell_type": "code",
   "execution_count": null,
   "metadata": {},
   "outputs": [],
   "source": [
    "# generate 100 random numbers from the standard normal distribution\n",
    "rand_n = np.random.randn(100) \n",
    "print(rand_n)\n",
    "\n",
    "# we can change bins to change how the histogram looks\n",
    "plt.hist(rand_n, bins=20) \n",
    "plt.show()"
   ]
  },
  {
   "cell_type": "markdown",
   "metadata": {},
   "source": [
    "---"
   ]
  },
  {
   "cell_type": "markdown",
   "metadata": {},
   "source": [
    "## Extra material"
   ]
  },
  {
   "cell_type": "markdown",
   "metadata": {},
   "source": [
    "### Decorating figures\n",
    "We can customise our figures to add error bars or show confidence intervals"
   ]
  },
  {
   "cell_type": "code",
   "execution_count": null,
   "metadata": {},
   "outputs": [],
   "source": [
    "# let's assume the error is proportional to the y value\n",
    "error = sine_x * 0.2 \n",
    "\n",
    "# we use errorbar to plot a lineplot with error bars\n",
    "# yerr and xerr are the keyword arguments for inputing error bar values\n",
    "plt.errorbar(x, sine_x, yerr=error) \n",
    "                               \n",
    "plt.show()"
   ]
  },
  {
   "cell_type": "markdown",
   "metadata": {},
   "source": [
    "Error bars can be added to bar plots in a similar fashion."
   ]
  },
  {
   "cell_type": "code",
   "execution_count": null,
   "metadata": {},
   "outputs": [],
   "source": [
    "bar_x = np.array(range(1, 11))\n",
    "bar_y = np.array((range(10, 0, -1)))\n",
    "plt.bar(bar_x, bar_y, yerr=0.1 * bar_y, xerr=0.1 * bar_x)\n",
    "plt.show()"
   ]
  },
  {
   "cell_type": "markdown",
   "metadata": {},
   "source": [
    "For confidence intervals, use `plt.fill_between()` to color a region on the graph:"
   ]
  },
  {
   "cell_type": "code",
   "execution_count": null,
   "metadata": {},
   "outputs": [],
   "source": [
    "# For an example, let's assume our confidence interval is proportional \n",
    "# to the y value\n",
    "ci = sine_x * 0.2 \n",
    "plt.plot(x, sine_x)\n",
    "\n",
    "#\n",
    "plt.fill_between(x, (sine_x-ci), (sine_x+ci), color='b', alpha=0.1) \n",
    "\n",
    "plt.show()"
   ]
  },
  {
   "cell_type": "markdown",
   "metadata": {},
   "source": [
    "### Further reading\n",
    "\n",
    "Be sure to check out [matplotlib's gallery](https://matplotlib.org/3.1.1/gallery/index.html) to glance over all the pretty figures you can make, together with the code that makes them!\n"
   ]
  }
 ],
 "metadata": {
  "kernelspec": {
   "display_name": "Python 3",
   "language": "python",
   "name": "python3"
  },
  "language_info": {
   "codemirror_mode": {
    "name": "ipython",
    "version": 3
   },
   "file_extension": ".py",
   "mimetype": "text/x-python",
   "name": "python",
   "nbconvert_exporter": "python",
   "pygments_lexer": "ipython3",
   "version": "3.8.3"
  }
 },
 "nbformat": 4,
 "nbformat_minor": 4
}
